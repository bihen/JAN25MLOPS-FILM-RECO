{
 "cells": [
  {
   "cell_type": "code",
   "execution_count": 17,
   "id": "4bdcfd57-5e6d-48cd-8d3f-45ce39613fde",
   "metadata": {},
   "outputs": [],
   "source": [
    "#import libraries\n",
    "%matplotlib inline\n",
    "import pandas as pd\n",
    "import numpy as np\n",
    "import seaborn as sns\n",
    "import matplotlib.pyplot as plt\n",
    "import plotly.express as px\n",
    "import plotly.graph_objects as go\n",
    "import warnings\n",
    "warnings.filterwarnings('ignore')\n",
    "sns.set()"
   ]
  },
  {
   "cell_type": "code",
   "execution_count": 18,
   "id": "82bb305b-b105-4a13-b6ba-9a9c7f1a12ec",
   "metadata": {},
   "outputs": [],
   "source": [
    "#Load all databases\n",
    "df_ratings = pd.read_csv(\"../data/ratings.csv\")\n",
    "df_movies = pd.read_csv(\"../data/movies.csv\", index_col = 0)\n",
    "df_tags = pd.read_csv(\"../data/tags.csv\")\n",
    "df_links = pd.read_csv(\"../data/links.csv\")\n",
    "df_genometags = pd.read_csv(\"../data/genome-tags.csv\", index_col = 0)\n",
    "df_genome_scores = pd.read_csv(\"../data/genome-scores.csv\")"
   ]
  },
  {
   "cell_type": "code",
   "execution_count": 19,
   "id": "678ab698-7e86-4f9d-8c25-d8cdb055aa53",
   "metadata": {},
   "outputs": [],
   "source": [
    "#creating a new column in df_movies, displaying the average rating users gave the movie\n",
    "ratings = df_ratings.groupby(\"movieId\")[\"rating\"].mean()\n",
    "df_movies = df_movies.merge(ratings, on = \"movieId\")\n",
    "df_movies = df_movies.rename({\"rating\":\"avg_rating\"}, axis = 1)\n",
    "df_movies"
   ]
  },
  {
   "cell_type": "code",
   "execution_count": 51,
   "id": "9f968ae1-c65d-4127-90a0-58ab43b84685",
   "metadata": {},
   "outputs": [
    {
     "data": {
      "text/html": [
       "<div>\n",
       "<style scoped>\n",
       "    .dataframe tbody tr th:only-of-type {\n",
       "        vertical-align: middle;\n",
       "    }\n",
       "\n",
       "    .dataframe tbody tr th {\n",
       "        vertical-align: top;\n",
       "    }\n",
       "\n",
       "    .dataframe thead th {\n",
       "        text-align: right;\n",
       "    }\n",
       "</style>\n",
       "<table border=\"1\" class=\"dataframe\">\n",
       "  <thead>\n",
       "    <tr style=\"text-align: right;\">\n",
       "      <th></th>\n",
       "      <th>movieId</th>\n",
       "      <th>title</th>\n",
       "      <th>genres</th>\n",
       "      <th>avg_rating</th>\n",
       "      <th>overall_genomescores</th>\n",
       "    </tr>\n",
       "  </thead>\n",
       "  <tbody>\n",
       "    <tr>\n",
       "      <th>0</th>\n",
       "      <td>1</td>\n",
       "      <td>Toy Story (1995)</td>\n",
       "      <td>Adventure|Animation|Children|Comedy|Fantasy</td>\n",
       "      <td>3.921240</td>\n",
       "      <td>180.73100</td>\n",
       "    </tr>\n",
       "    <tr>\n",
       "      <th>1128</th>\n",
       "      <td>2</td>\n",
       "      <td>Jumanji (1995)</td>\n",
       "      <td>Adventure|Children|Fantasy</td>\n",
       "      <td>3.211977</td>\n",
       "      <td>134.78025</td>\n",
       "    </tr>\n",
       "    <tr>\n",
       "      <th>2256</th>\n",
       "      <td>3</td>\n",
       "      <td>Grumpier Old Men (1995)</td>\n",
       "      <td>Comedy|Romance</td>\n",
       "      <td>3.151040</td>\n",
       "      <td>104.23100</td>\n",
       "    </tr>\n",
       "    <tr>\n",
       "      <th>3384</th>\n",
       "      <td>4</td>\n",
       "      <td>Waiting to Exhale (1995)</td>\n",
       "      <td>Comedy|Drama|Romance</td>\n",
       "      <td>2.861393</td>\n",
       "      <td>96.36150</td>\n",
       "    </tr>\n",
       "    <tr>\n",
       "      <th>4512</th>\n",
       "      <td>5</td>\n",
       "      <td>Father of the Bride Part II (1995)</td>\n",
       "      <td>Comedy</td>\n",
       "      <td>3.064592</td>\n",
       "      <td>111.50625</td>\n",
       "    </tr>\n",
       "    <tr>\n",
       "      <th>...</th>\n",
       "      <td>...</td>\n",
       "      <td>...</td>\n",
       "      <td>...</td>\n",
       "      <td>...</td>\n",
       "      <td>...</td>\n",
       "    </tr>\n",
       "    <tr>\n",
       "      <th>11691720</th>\n",
       "      <td>130578</td>\n",
       "      <td>The Gunman (2015)</td>\n",
       "      <td>Action|Thriller</td>\n",
       "      <td>3.000000</td>\n",
       "      <td>69.40650</td>\n",
       "    </tr>\n",
       "    <tr>\n",
       "      <th>11692848</th>\n",
       "      <td>130840</td>\n",
       "      <td>Spring (2015)</td>\n",
       "      <td>Horror|Romance|Sci-Fi</td>\n",
       "      <td>3.500000</td>\n",
       "      <td>136.69300</td>\n",
       "    </tr>\n",
       "    <tr>\n",
       "      <th>11693976</th>\n",
       "      <td>131013</td>\n",
       "      <td>Get Hard (2015)</td>\n",
       "      <td>Comedy</td>\n",
       "      <td>2.500000</td>\n",
       "      <td>109.56900</td>\n",
       "    </tr>\n",
       "    <tr>\n",
       "      <th>11695104</th>\n",
       "      <td>131168</td>\n",
       "      <td>Phoenix (2014)</td>\n",
       "      <td>Drama</td>\n",
       "      <td>3.500000</td>\n",
       "      <td>154.19225</td>\n",
       "    </tr>\n",
       "    <tr>\n",
       "      <th>11696232</th>\n",
       "      <td>131170</td>\n",
       "      <td>Parallels (2015)</td>\n",
       "      <td>Sci-Fi</td>\n",
       "      <td>3.500000</td>\n",
       "      <td>183.73325</td>\n",
       "    </tr>\n",
       "  </tbody>\n",
       "</table>\n",
       "<p>10370 rows × 5 columns</p>\n",
       "</div>"
      ],
      "text/plain": [
       "          movieId                               title  \\\n",
       "0               1                    Toy Story (1995)   \n",
       "1128            2                      Jumanji (1995)   \n",
       "2256            3             Grumpier Old Men (1995)   \n",
       "3384            4            Waiting to Exhale (1995)   \n",
       "4512            5  Father of the Bride Part II (1995)   \n",
       "...           ...                                 ...   \n",
       "11691720   130578                   The Gunman (2015)   \n",
       "11692848   130840                       Spring (2015)   \n",
       "11693976   131013                     Get Hard (2015)   \n",
       "11695104   131168                      Phoenix (2014)   \n",
       "11696232   131170                    Parallels (2015)   \n",
       "\n",
       "                                               genres  avg_rating  \\\n",
       "0         Adventure|Animation|Children|Comedy|Fantasy    3.921240   \n",
       "1128                       Adventure|Children|Fantasy    3.211977   \n",
       "2256                                   Comedy|Romance    3.151040   \n",
       "3384                             Comedy|Drama|Romance    2.861393   \n",
       "4512                                           Comedy    3.064592   \n",
       "...                                               ...         ...   \n",
       "11691720                              Action|Thriller    3.000000   \n",
       "11692848                        Horror|Romance|Sci-Fi    3.500000   \n",
       "11693976                                       Comedy    2.500000   \n",
       "11695104                                        Drama    3.500000   \n",
       "11696232                                       Sci-Fi    3.500000   \n",
       "\n",
       "          overall_genomescores  \n",
       "0                    180.73100  \n",
       "1128                 134.78025  \n",
       "2256                 104.23100  \n",
       "3384                  96.36150  \n",
       "4512                 111.50625  \n",
       "...                        ...  \n",
       "11691720              69.40650  \n",
       "11692848             136.69300  \n",
       "11693976             109.56900  \n",
       "11695104             154.19225  \n",
       "11696232             183.73325  \n",
       "\n",
       "[10370 rows x 5 columns]"
      ]
     },
     "execution_count": 51,
     "metadata": {},
     "output_type": "execute_result"
    }
   ],
   "source": [
    "movies_with_genomes"
   ]
  },
  {
   "cell_type": "code",
   "execution_count": 52,
   "id": "3145d341-4617-4d15-8c54-948af0e55e6e",
   "metadata": {},
   "outputs": [
    {
     "data": {
      "text/html": [
       "<div>\n",
       "<style scoped>\n",
       "    .dataframe tbody tr th:only-of-type {\n",
       "        vertical-align: middle;\n",
       "    }\n",
       "\n",
       "    .dataframe tbody tr th {\n",
       "        vertical-align: top;\n",
       "    }\n",
       "\n",
       "    .dataframe thead th {\n",
       "        text-align: right;\n",
       "    }\n",
       "</style>\n",
       "<table border=\"1\" class=\"dataframe\">\n",
       "  <thead>\n",
       "    <tr style=\"text-align: right;\">\n",
       "      <th></th>\n",
       "      <th>title</th>\n",
       "      <th>genres</th>\n",
       "      <th>avg_rating</th>\n",
       "    </tr>\n",
       "    <tr>\n",
       "      <th>movieId</th>\n",
       "      <th></th>\n",
       "      <th></th>\n",
       "      <th></th>\n",
       "    </tr>\n",
       "  </thead>\n",
       "  <tbody>\n",
       "    <tr>\n",
       "      <th>1</th>\n",
       "      <td>Toy Story (1995)</td>\n",
       "      <td>Adventure|Animation|Children|Comedy|Fantasy</td>\n",
       "      <td>3.921240</td>\n",
       "    </tr>\n",
       "    <tr>\n",
       "      <th>2</th>\n",
       "      <td>Jumanji (1995)</td>\n",
       "      <td>Adventure|Children|Fantasy</td>\n",
       "      <td>3.211977</td>\n",
       "    </tr>\n",
       "    <tr>\n",
       "      <th>3</th>\n",
       "      <td>Grumpier Old Men (1995)</td>\n",
       "      <td>Comedy|Romance</td>\n",
       "      <td>3.151040</td>\n",
       "    </tr>\n",
       "    <tr>\n",
       "      <th>4</th>\n",
       "      <td>Waiting to Exhale (1995)</td>\n",
       "      <td>Comedy|Drama|Romance</td>\n",
       "      <td>2.861393</td>\n",
       "    </tr>\n",
       "    <tr>\n",
       "      <th>5</th>\n",
       "      <td>Father of the Bride Part II (1995)</td>\n",
       "      <td>Comedy</td>\n",
       "      <td>3.064592</td>\n",
       "    </tr>\n",
       "    <tr>\n",
       "      <th>...</th>\n",
       "      <td>...</td>\n",
       "      <td>...</td>\n",
       "      <td>...</td>\n",
       "    </tr>\n",
       "    <tr>\n",
       "      <th>131254</th>\n",
       "      <td>Kein Bund für's Leben (2007)</td>\n",
       "      <td>Comedy</td>\n",
       "      <td>4.000000</td>\n",
       "    </tr>\n",
       "    <tr>\n",
       "      <th>131256</th>\n",
       "      <td>Feuer, Eis &amp; Dosenbier (2002)</td>\n",
       "      <td>Comedy</td>\n",
       "      <td>4.000000</td>\n",
       "    </tr>\n",
       "    <tr>\n",
       "      <th>131258</th>\n",
       "      <td>The Pirates (2014)</td>\n",
       "      <td>Adventure</td>\n",
       "      <td>2.500000</td>\n",
       "    </tr>\n",
       "    <tr>\n",
       "      <th>131260</th>\n",
       "      <td>Rentun Ruusu (2001)</td>\n",
       "      <td>(no genres listed)</td>\n",
       "      <td>3.000000</td>\n",
       "    </tr>\n",
       "    <tr>\n",
       "      <th>131262</th>\n",
       "      <td>Innocence (2014)</td>\n",
       "      <td>Adventure|Fantasy|Horror</td>\n",
       "      <td>4.000000</td>\n",
       "    </tr>\n",
       "  </tbody>\n",
       "</table>\n",
       "<p>26744 rows × 3 columns</p>\n",
       "</div>"
      ],
      "text/plain": [
       "                                      title  \\\n",
       "movieId                                       \n",
       "1                          Toy Story (1995)   \n",
       "2                            Jumanji (1995)   \n",
       "3                   Grumpier Old Men (1995)   \n",
       "4                  Waiting to Exhale (1995)   \n",
       "5        Father of the Bride Part II (1995)   \n",
       "...                                     ...   \n",
       "131254         Kein Bund für's Leben (2007)   \n",
       "131256        Feuer, Eis & Dosenbier (2002)   \n",
       "131258                   The Pirates (2014)   \n",
       "131260                  Rentun Ruusu (2001)   \n",
       "131262                     Innocence (2014)   \n",
       "\n",
       "                                              genres  avg_rating  \n",
       "movieId                                                           \n",
       "1        Adventure|Animation|Children|Comedy|Fantasy    3.921240  \n",
       "2                         Adventure|Children|Fantasy    3.211977  \n",
       "3                                     Comedy|Romance    3.151040  \n",
       "4                               Comedy|Drama|Romance    2.861393  \n",
       "5                                             Comedy    3.064592  \n",
       "...                                              ...         ...  \n",
       "131254                                        Comedy    4.000000  \n",
       "131256                                        Comedy    4.000000  \n",
       "131258                                     Adventure    2.500000  \n",
       "131260                            (no genres listed)    3.000000  \n",
       "131262                      Adventure|Fantasy|Horror    4.000000  \n",
       "\n",
       "[26744 rows x 3 columns]"
      ]
     },
     "execution_count": 52,
     "metadata": {},
     "output_type": "execute_result"
    }
   ],
   "source": [
    "df_movies"
   ]
  },
  {
   "cell_type": "markdown",
   "id": "533686ab-b887-4bc1-acfb-63ed0c0fa023",
   "metadata": {},
   "source": [
    "# Genome Tag Graph"
   ]
  },
  {
   "cell_type": "code",
   "execution_count": 21,
   "id": "8ff96668-8ba7-4857-9ed0-b991549cf408",
   "metadata": {},
   "outputs": [],
   "source": [
    "#creating a new dataframe, df_movie_genomescores, that shows all 1128 available genome scores for each movie \n",
    "df_movie_genomescores = pd.merge(df_movies, df_genome_scores, on = \"movieId\")\n",
    "\n",
    "#mapping the names from the table df_genometags to the genome tag ids in the df_movie_genomescores df\n",
    "df_movie_genomescores[\"genome_tag\"] = df_movie_genomescores[\"tagId\"].map(df_genometags[\"tag\"])\n",
    "\n",
    "#creating a new column, relevance_sum, a sum of all relevance scores for every movie, showing how \"common\" a genome tag is\n",
    "genomescore_sums = df_movie_genomescores.groupby(\"genome_tag\")[\"relevance\"].sum().sort_values(ascending = False)\n",
    "df_movie_genomescores = df_movie_genomescores.merge(genomescore_sums, on = \"genome_tag\")\n",
    "df_movie_genomescores.rename({\"relevance_x\" : \"inv_relevance\", \"relevance_y\" : \"relevance_sum\"}, axis = 1,  inplace = True)\n",
    "                            \n",
    "#creating a new dataframe, movies_with_genomes, listing all movies that actually have genome tags. Not all movies in df_movies have genome tags\n",
    "movies_with_genomes = df_movie_genomescores.drop_duplicates(subset=[\"movieId\"])\n",
    "movies_with_genomes.drop([\"tagId\", \"inv_relevance\", \"genome_tag\", \"relevance_sum\"], axis = 1, inplace = True)\n",
    "\n",
    "#creating a new column \"overall_genomescores\" in df_movie_genomescores, displaying the overall sum of genometag scores. This is used to scale genometags within a single movie\n",
    "overall_genomescore = []\n",
    "for j, movie in movies_with_genomes.iterrows():\n",
    "    sum = df_movie_genomescores.loc[df_movie_genomescores[\"movieId\"] == movie[\"movieId\"]][\"inv_relevance\"].sum()\n",
    "    overall_genomescore.append(sum)\n",
    "movies_with_genomes[\"overall_genomescores\"] = overall_genomescore\n",
    "\n",
    "#merging the column \"overall_genomescores\" from movies_with_genomes\n",
    "df_movie_genomescores = df_movie_genomescores.merge(movies_with_genomes[[\"movieId\", \"overall_genomescores\"]], on=\"movieId\")\n",
    "\n",
    "#creating the column \"genome_effect_on_rating\", describing how each genomescore relates to the avg_rating of its movie\n",
    "df_movie_genomescores[\"genome_effect_on_rating\"] = np.round((df_movie_genomescores[\"inv_relevance\"]/ df_movie_genomescores[\"overall_genomescores\"]), 20) * df_movie_genomescores[\"avg_rating\"]\n",
    "\n",
    "#dropna values that came from round errors\n",
    "df_movie_genomescores.dropna(inplace=True)"
   ]
  },
  {
   "cell_type": "code",
   "execution_count": 22,
   "id": "e7f9e50e-ef66-461c-8d00-c724ba1d4dab",
   "metadata": {},
   "outputs": [],
   "source": [
    "#creating a new DataFrame, genome_rating, grouping the df_movie_genomescores on the genome_tag, leaving us with a df of only the 1128 genome tags and its relevant values\n",
    "genome_rating = df_movie_genomescores.groupby([\"genome_tag\",\"relevance_sum\"])[\"genome_effect_on_rating\"].sum().reset_index(name =  'rating_amount')\n",
    "a = 33849.582297801215 #sum of all ratings\n",
    "b = 1128 #number of genome tags\n",
    "genome_rating[\"avg_rating\"] =  ((genome_rating[\"rating_amount\"] / genome_rating[\"relevance_sum\"] ) * a)/b *5 #multiplying by 5 to get the same scale as avg_rating on df_movies"
   ]
  },
  {
   "cell_type": "code",
   "execution_count": 50,
   "id": "416c7d27-beff-4631-bd6e-d61c874d0782",
   "metadata": {
    "scrolled": true
   },
   "outputs": [
    {
     "data": {
      "application/vnd.plotly.v1+json": {
       "config": {
        "plotlyServerURL": "https://plot.ly"
       },
       "data": [
        {
         "customdata": [
          [
           "007"
          ],
          [
           "007 (series)"
          ],
          [
           "18th century"
          ],
          [
           "1920s"
          ],
          [
           "1930s"
          ],
          [
           "1950s"
          ],
          [
           "1960s"
          ],
          [
           "1970s"
          ],
          [
           "1980s"
          ],
          [
           "19th century"
          ],
          [
           "3d"
          ],
          [
           "70mm"
          ],
          [
           "80s"
          ],
          [
           "9/11"
          ],
          [
           "aardman"
          ],
          [
           "aardman studios"
          ],
          [
           "abortion"
          ],
          [
           "absurd"
          ],
          [
           "action"
          ],
          [
           "action packed"
          ],
          [
           "adaptation"
          ],
          [
           "adapted from:book"
          ],
          [
           "adapted from:comic"
          ],
          [
           "adapted from:game"
          ],
          [
           "addiction"
          ],
          [
           "adolescence"
          ],
          [
           "adoption"
          ],
          [
           "adultery"
          ],
          [
           "adventure"
          ],
          [
           "affectionate"
          ],
          [
           "afi 100"
          ],
          [
           "afi 100 (laughs)"
          ],
          [
           "afi 100 (movie quotes)"
          ],
          [
           "africa"
          ],
          [
           "afterlife"
          ],
          [
           "aging"
          ],
          [
           "aids"
          ],
          [
           "airplane"
          ],
          [
           "airport"
          ],
          [
           "alaska"
          ],
          [
           "alcatraz"
          ],
          [
           "alcoholism"
          ],
          [
           "alien"
          ],
          [
           "alien invasion"
          ],
          [
           "aliens"
          ],
          [
           "allegory"
          ],
          [
           "almodovar"
          ],
          [
           "alone in the world"
          ],
          [
           "alter ego"
          ],
          [
           "alternate endings"
          ],
          [
           "alternate history"
          ],
          [
           "alternate reality"
          ],
          [
           "alternate universe"
          ],
          [
           "amazing cinematography"
          ],
          [
           "amazing photography"
          ],
          [
           "american civil war"
          ],
          [
           "amnesia"
          ],
          [
           "amy smart"
          ],
          [
           "android(s)/cyborg(s)"
          ],
          [
           "androids"
          ],
          [
           "animal movie"
          ],
          [
           "animals"
          ],
          [
           "animated"
          ],
          [
           "animation"
          ],
          [
           "anime"
          ],
          [
           "antarctica"
          ],
          [
           "anti-hero"
          ],
          [
           "anti-semitism"
          ],
          [
           "anti-war"
          ],
          [
           "apocalypse"
          ],
          [
           "archaeology"
          ],
          [
           "argentina"
          ],
          [
           "arms dealer"
          ],
          [
           "arnold"
          ],
          [
           "art"
          ],
          [
           "art house"
          ],
          [
           "artificial intelligence"
          ],
          [
           "artist"
          ],
          [
           "artistic"
          ],
          [
           "artsy"
          ],
          [
           "assassin"
          ],
          [
           "assassination"
          ],
          [
           "assassins"
          ],
          [
           "astronauts"
          ],
          [
           "atheism"
          ],
          [
           "atmospheric"
          ],
          [
           "australia"
          ],
          [
           "australian"
          ],
          [
           "author:alan moore"
          ],
          [
           "author:neil gaiman"
          ],
          [
           "autism"
          ],
          [
           "aviation"
          ],
          [
           "awesome"
          ],
          [
           "awesome soundtrack"
          ],
          [
           "awful"
          ],
          [
           "bad"
          ],
          [
           "bad acting"
          ],
          [
           "bad cgi"
          ],
          [
           "bad ending"
          ],
          [
           "bad plot"
          ],
          [
           "bad science"
          ],
          [
           "bad script"
          ],
          [
           "bad sequel"
          ],
          [
           "ballet"
          ],
          [
           "bank robbery"
          ],
          [
           "baseball"
          ],
          [
           "based on a book"
          ],
          [
           "based on a comic"
          ],
          [
           "based on a play"
          ],
          [
           "based on a true story"
          ],
          [
           "based on a tv show"
          ],
          [
           "based on a video game"
          ],
          [
           "based on book"
          ],
          [
           "based on comic"
          ],
          [
           "based on true story"
          ],
          [
           "basketball"
          ],
          [
           "batman"
          ],
          [
           "bdsm"
          ],
          [
           "beatles"
          ],
          [
           "beautiful"
          ],
          [
           "beautiful scenery"
          ],
          [
           "beautifully filmed"
          ],
          [
           "beauty pageant"
          ],
          [
           "beer"
          ],
          [
           "berlin"
          ],
          [
           "best of 2005"
          ],
          [
           "best war films"
          ],
          [
           "betrayal"
          ],
          [
           "better than expected"
          ],
          [
           "better than the american version"
          ],
          [
           "biblical"
          ],
          [
           "big budget"
          ],
          [
           "biographical"
          ],
          [
           "biography"
          ],
          [
           "biopic"
          ],
          [
           "birds"
          ],
          [
           "biting"
          ],
          [
           "bittersweet"
          ],
          [
           "bizarre"
          ],
          [
           "black and white"
          ],
          [
           "black comedy"
          ],
          [
           "blaxploitation"
          ],
          [
           "bleak"
          ],
          [
           "blindness"
          ],
          [
           "blood"
          ],
          [
           "bloody"
          ],
          [
           "boarding school"
          ],
          [
           "boat"
          ],
          [
           "bollywood"
          ],
          [
           "bombs"
          ],
          [
           "bond"
          ],
          [
           "book"
          ],
          [
           "book was better"
          ],
          [
           "books"
          ],
          [
           "boring"
          ],
          [
           "boring!"
          ],
          [
           "boston"
          ],
          [
           "bowling"
          ],
          [
           "boxing"
          ],
          [
           "brainwashing"
          ],
          [
           "brazil"
          ],
          [
           "breathtaking"
          ],
          [
           "brilliant"
          ],
          [
           "british"
          ],
          [
           "british comedy"
          ],
          [
           "broadway"
          ],
          [
           "brothers"
          ],
          [
           "brutal"
          ],
          [
           "brutality"
          ],
          [
           "buddy movie"
          ],
          [
           "bullshit history"
          ],
          [
           "bullying"
          ],
          [
           "business"
          ],
          [
           "c.s. lewis"
          ],
          [
           "california"
          ],
          [
           "camp"
          ],
          [
           "campy"
          ],
          [
           "canada"
          ],
          [
           "cancer"
          ],
          [
           "cannibalism"
          ],
          [
           "caper"
          ],
          [
           "capitalism"
          ],
          [
           "car chase"
          ],
          [
           "carrie-anne moss"
          ],
          [
           "cars"
          ],
          [
           "cartoon"
          ],
          [
           "casino"
          ],
          [
           "catastrophe"
          ],
          [
           "cathartic"
          ],
          [
           "catholicism"
          ],
          [
           "censorship"
          ],
          [
           "cerebral"
          ],
          [
           "cgi"
          ],
          [
           "character study"
          ],
          [
           "chase"
          ],
          [
           "cheating"
          ],
          [
           "cheerleading"
          ],
          [
           "cheesy"
          ],
          [
           "chess"
          ],
          [
           "chicago"
          ],
          [
           "chick flick"
          ],
          [
           "child abuse"
          ],
          [
           "childhood"
          ],
          [
           "children"
          ],
          [
           "china"
          ],
          [
           "chocolate"
          ],
          [
           "chris tucker"
          ],
          [
           "christian"
          ],
          [
           "christianity"
          ],
          [
           "christmas"
          ],
          [
           "cia"
          ],
          [
           "cinematography"
          ],
          [
           "circus"
          ],
          [
           "civil war"
          ],
          [
           "classic"
          ],
          [
           "classic car"
          ],
          [
           "classical music"
          ],
          [
           "claustrophobic"
          ],
          [
           "claymation"
          ],
          [
           "clever"
          ],
          [
           "clones"
          ],
          [
           "cloning"
          ],
          [
           "clowns"
          ],
          [
           "coen bros"
          ],
          [
           "coen brothers"
          ],
          [
           "cold war"
          ],
          [
           "college"
          ],
          [
           "colonialism"
          ],
          [
           "colourful"
          ],
          [
           "comedy"
          ],
          [
           "comic"
          ],
          [
           "comic book"
          ],
          [
           "comic book adaption"
          ],
          [
           "comics"
          ],
          [
           "coming of age"
          ],
          [
           "coming-of-age"
          ],
          [
           "communism"
          ],
          [
           "compassionate"
          ],
          [
           "competition"
          ],
          [
           "complex"
          ],
          [
           "complex characters"
          ],
          [
           "complicated"
          ],
          [
           "complicated plot"
          ],
          [
           "computer animation"
          ],
          [
           "computer game"
          ],
          [
           "computers"
          ],
          [
           "con artists"
          ],
          [
           "con men"
          ],
          [
           "confrontational"
          ],
          [
           "confusing"
          ],
          [
           "conspiracy"
          ],
          [
           "conspiracy theory"
          ],
          [
           "controversial"
          ],
          [
           "cooking"
          ],
          [
           "cool"
          ],
          [
           "corny"
          ],
          [
           "corporate america"
          ],
          [
           "corruption"
          ],
          [
           "costume drama"
          ],
          [
           "courage"
          ],
          [
           "court"
          ],
          [
           "courtroom"
          ],
          [
           "courtroom drama"
          ],
          [
           "crappy sequel"
          ],
          [
           "crazy"
          ],
          [
           "creativity"
          ],
          [
           "creepy"
          ],
          [
           "crime"
          ],
          [
           "crime gone awry"
          ],
          [
           "criterion"
          ],
          [
           "cross dressing"
          ],
          [
           "crude humor"
          ],
          [
           "cuba"
          ],
          [
           "cult"
          ],
          [
           "cult classic"
          ],
          [
           "cult film"
          ],
          [
           "culture clash"
          ],
          [
           "cute"
          ],
          [
           "cute!"
          ],
          [
           "cyberpunk"
          ],
          [
           "cyborgs"
          ],
          [
           "cynical"
          ],
          [
           "dance"
          ],
          [
           "dancing"
          ],
          [
           "dark"
          ],
          [
           "dark comedy"
          ],
          [
           "dark fantasy"
          ],
          [
           "dark hero"
          ],
          [
           "dark humor"
          ],
          [
           "dc comics"
          ],
          [
           "deadpan"
          ],
          [
           "death"
          ],
          [
           "death penalty"
          ],
          [
           "demons"
          ],
          [
           "depp & burton"
          ],
          [
           "depressing"
          ],
          [
           "depression"
          ],
          [
           "desert"
          ],
          [
           "destiny"
          ],
          [
           "detective"
          ],
          [
           "devil"
          ],
          [
           "dialogue"
          ],
          [
           "dialogue driven"
          ],
          [
           "dinosaurs"
          ],
          [
           "directorial debut"
          ],
          [
           "disability"
          ],
          [
           "disappointing"
          ],
          [
           "disaster"
          ],
          [
           "disney"
          ],
          [
           "disney animated feature"
          ],
          [
           "distopia"
          ],
          [
           "disturbing"
          ],
          [
           "divorce"
          ],
          [
           "doctors"
          ],
          [
           "documentary"
          ],
          [
           "dog"
          ],
          [
           "dogs"
          ],
          [
           "dolphins"
          ],
          [
           "downbeat"
          ],
          [
           "dr. seuss"
          ],
          [
           "dragon"
          ],
          [
           "dragons"
          ],
          [
           "drama"
          ],
          [
           "dramatic"
          ],
          [
           "dreamlike"
          ],
          [
           "dreams"
          ],
          [
           "dreamworks"
          ],
          [
           "drinking"
          ],
          [
           "drug abuse"
          ],
          [
           "drug addiction"
          ],
          [
           "drugs"
          ],
          [
           "dumb"
          ],
          [
           "dumb but funny"
          ],
          [
           "dynamic cgi action"
          ],
          [
           "dysfunctional family"
          ],
          [
           "dystopia"
          ],
          [
           "dystopic future"
          ],
          [
           "earnest"
          ],
          [
           "easily confused with other movie(s) (title)"
          ],
          [
           "east germany"
          ],
          [
           "eccentricity"
          ],
          [
           "ecology"
          ],
          [
           "educational"
          ],
          [
           "eerie"
          ],
          [
           "effects"
          ],
          [
           "egypt"
          ],
          [
           "emma watson"
          ],
          [
           "emotional"
          ],
          [
           "end of the world"
          ],
          [
           "england"
          ],
          [
           "enigmatic"
          ],
          [
           "ennio morricone"
          ],
          [
           "enormously long battle scene"
          ],
          [
           "ensemble cast"
          ],
          [
           "entertaining"
          ],
          [
           "entirely dialogue"
          ],
          [
           "environment"
          ],
          [
           "environmental"
          ],
          [
           "epic"
          ],
          [
           "erotic"
          ],
          [
           "espionage"
          ],
          [
           "ethnic conflict"
          ],
          [
           "evolution"
          ],
          [
           "excellent"
          ],
          [
           "excellent script"
          ],
          [
           "exceptional acting"
          ],
          [
           "exciting"
          ],
          [
           "existentialism"
          ],
          [
           "explosions"
          ],
          [
           "factual"
          ],
          [
           "fairy tale"
          ],
          [
           "fairy tales"
          ],
          [
           "fake documentary"
          ],
          [
           "family"
          ],
          [
           "family bonds"
          ],
          [
           "family drama"
          ],
          [
           "fantasy"
          ],
          [
           "fantasy world"
          ],
          [
           "farce"
          ],
          [
           "fascism"
          ],
          [
           "fashion"
          ],
          [
           "fast paced"
          ],
          [
           "father daughter relationship"
          ],
          [
           "father son relationship"
          ],
          [
           "father-son relationship"
          ],
          [
           "fbi"
          ],
          [
           "feel good movie"
          ],
          [
           "feel-good"
          ],
          [
           "fight scenes"
          ],
          [
           "fighting"
          ],
          [
           "fighting the system"
          ],
          [
           "figure skating"
          ],
          [
           "film noir"
          ],
          [
           "finnish"
          ],
          [
           "firefly"
          ],
          [
           "first contact"
          ],
          [
           "fish"
          ],
          [
           "flashbacks"
          ],
          [
           "food"
          ],
          [
           "football"
          ],
          [
           "forceful"
          ],
          [
           "foreign"
          ],
          [
           "foul language"
          ],
          [
           "fountain of youth"
          ],
          [
           "france"
          ],
          [
           "franchise"
          ],
          [
           "francis ford copolla"
          ],
          [
           "free speech"
          ],
          [
           "free to download"
          ],
          [
           "freedom"
          ],
          [
           "french"
          ],
          [
           "friendship"
          ],
          [
           "frightening"
          ],
          [
           "fun"
          ],
          [
           "fun movie"
          ],
          [
           "funniest movies"
          ],
          [
           "funny"
          ],
          [
           "funny as hell"
          ],
          [
           "future"
          ],
          [
           "futuristic"
          ],
          [
           "gambling"
          ],
          [
           "gangs"
          ],
          [
           "gangster"
          ],
          [
           "gangsters"
          ],
          [
           "gay"
          ],
          [
           "gay character"
          ],
          [
           "geek"
          ],
          [
           "geeks"
          ],
          [
           "genetics"
          ],
          [
           "genius"
          ],
          [
           "genocide"
          ],
          [
           "george orwell"
          ],
          [
           "german"
          ],
          [
           "germany"
          ],
          [
           "ghosts"
          ],
          [
           "ghosts/afterlife"
          ],
          [
           "giant robots"
          ],
          [
           "gilliam"
          ],
          [
           "girlie movie"
          ],
          [
           "glbt"
          ],
          [
           "global warming"
          ],
          [
           "god"
          ],
          [
           "golden palm"
          ],
          [
           "golf"
          ],
          [
           "good"
          ],
          [
           "good acting"
          ],
          [
           "good action"
          ],
          [
           "good dialogue"
          ],
          [
           "good music"
          ],
          [
           "good romantic comedies"
          ],
          [
           "good sequel"
          ],
          [
           "good soundtrack"
          ],
          [
           "good story"
          ],
          [
           "good versus evil"
          ],
          [
           "goofy"
          ],
          [
           "gore"
          ],
          [
           "goretastic"
          ],
          [
           "gory"
          ],
          [
           "goth"
          ],
          [
           "gothic"
          ],
          [
           "graphic design"
          ],
          [
           "graphic novel"
          ],
          [
           "gratuitous violence"
          ],
          [
           "great"
          ],
          [
           "great acting"
          ],
          [
           "great cinematography"
          ],
          [
           "great dialogue"
          ],
          [
           "great ending"
          ],
          [
           "great movie"
          ],
          [
           "great music"
          ],
          [
           "great soundtrack"
          ],
          [
           "greed"
          ],
          [
           "grim"
          ],
          [
           "grindhouse"
          ],
          [
           "gritty"
          ],
          [
           "gross-out"
          ],
          [
           "gruesome"
          ],
          [
           "guilt"
          ],
          [
           "guilty pleasure"
          ],
          [
           "gulf war"
          ],
          [
           "gunfight"
          ],
          [
           "guns"
          ],
          [
           "gypsy accent"
          ],
          [
           "hackers"
          ],
          [
           "hacking"
          ],
          [
           "halloween"
          ],
          [
           "hallucinatory"
          ],
          [
           "handycam"
          ],
          [
           "hannibal lecter"
          ],
          [
           "happy ending"
          ],
          [
           "hard to watch"
          ],
          [
           "harry potter"
          ],
          [
           "harsh"
          ],
          [
           "haunted house"
          ],
          [
           "hawaii"
          ],
          [
           "heartbreaking"
          ],
          [
           "heartwarming"
          ],
          [
           "heist"
          ],
          [
           "heroin"
          ],
          [
           "heroine"
          ],
          [
           "heroine in tight suit"
          ],
          [
           "high fantasy"
          ],
          [
           "high school"
          ],
          [
           "highly quotable"
          ],
          [
           "hilarious"
          ],
          [
           "hillarious"
          ],
          [
           "hip hop"
          ],
          [
           "historical"
          ],
          [
           "history"
          ],
          [
           "hit men"
          ],
          [
           "hitchcock"
          ],
          [
           "hitman"
          ],
          [
           "holiday"
          ],
          [
           "hollywood"
          ],
          [
           "holocaust"
          ],
          [
           "homeless"
          ],
          [
           "homophobia"
          ],
          [
           "homosexuality"
          ],
          [
           "honest"
          ],
          [
           "hong kong"
          ],
          [
           "horrible"
          ],
          [
           "horror"
          ],
          [
           "horses"
          ],
          [
           "hospital"
          ],
          [
           "hostage"
          ],
          [
           "hotel"
          ],
          [
           "humanity"
          ],
          [
           "humor"
          ],
          [
           "humorous"
          ],
          [
           "hunting"
          ],
          [
           "idealism"
          ],
          [
           "identity"
          ],
          [
           "idiotic"
          ],
          [
           "imaginary friend"
          ],
          [
           "imagination"
          ],
          [
           "imdb top 250"
          ],
          [
           "immigrants"
          ],
          [
           "immortality"
          ],
          [
           "incest"
          ],
          [
           "independent film"
          ],
          [
           "india"
          ],
          [
           "indiana jones"
          ],
          [
           "indians"
          ],
          [
           "indie"
          ],
          [
           "infidelity"
          ],
          [
           "innocence lost"
          ],
          [
           "insanity"
          ],
          [
           "inspirational"
          ],
          [
           "inspiring"
          ],
          [
           "intellectual"
          ],
          [
           "intelligent"
          ],
          [
           "intelligent sci-fi"
          ],
          [
           "intense"
          ],
          [
           "interesting"
          ],
          [
           "internet"
          ],
          [
           "interracial romance"
          ],
          [
           "intimate"
          ],
          [
           "investigation"
          ],
          [
           "iran"
          ],
          [
           "iraq"
          ],
          [
           "iraq war"
          ],
          [
           "ireland"
          ],
          [
           "irish"
          ],
          [
           "irish accent"
          ],
          [
           "ironic"
          ],
          [
           "irreverent"
          ],
          [
           "islam"
          ],
          [
           "island"
          ],
          [
           "isolation"
          ],
          [
           "israel"
          ],
          [
           "italian"
          ],
          [
           "italy"
          ],
          [
           "james bond"
          ],
          [
           "jane austen"
          ],
          [
           "japan"
          ],
          [
           "japanese"
          ],
          [
           "jay and silent bob"
          ],
          [
           "jazz"
          ],
          [
           "jesus"
          ],
          [
           "jewish"
          ],
          [
           "jews"
          ],
          [
           "journalism"
          ],
          [
           "judaism"
          ],
          [
           "jungle"
          ],
          [
           "justice"
          ],
          [
           "kick-butt women"
          ],
          [
           "kidnapping"
          ],
          [
           "kids"
          ],
          [
           "kids and family"
          ],
          [
           "king arthur"
          ],
          [
           "kubrick"
          ],
          [
           "kung fu"
          ],
          [
           "kurosawa"
          ],
          [
           "lame"
          ],
          [
           "las vegas"
          ],
          [
           "latin america"
          ],
          [
           "lawyer"
          ],
          [
           "lawyers"
          ],
          [
           "lesbian"
          ],
          [
           "life"
          ],
          [
           "life & death"
          ],
          [
           "life philosophy"
          ],
          [
           "light"
          ],
          [
           "lions"
          ],
          [
           "literary adaptation"
          ],
          [
           "literature"
          ],
          [
           "liv tyler"
          ],
          [
           "london"
          ],
          [
           "lone hero"
          ],
          [
           "loneliness"
          ],
          [
           "long"
          ],
          [
           "los angeles"
          ],
          [
           "love"
          ],
          [
           "love story"
          ],
          [
           "love triangles"
          ],
          [
           "low budget"
          ],
          [
           "lynch"
          ],
          [
           "lyrical"
          ],
          [
           "macabre"
          ],
          [
           "mad scientist"
          ],
          [
           "made for tv"
          ],
          [
           "mafia"
          ],
          [
           "magic"
          ],
          [
           "magic realism"
          ],
          [
           "male nudity"
          ],
          [
           "man versus machine"
          ],
          [
           "manipulation"
          ],
          [
           "marijuana"
          ],
          [
           "marriage"
          ],
          [
           "mars"
          ],
          [
           "martial arts"
          ],
          [
           "marvel"
          ],
          [
           "marx brothers"
          ],
          [
           "masterpiece"
          ],
          [
           "math"
          ],
          [
           "mathematics"
          ],
          [
           "maze"
          ],
          [
           "medieval"
          ],
          [
           "meditative"
          ],
          [
           "melancholic"
          ],
          [
           "melancholy"
          ],
          [
           "memory"
          ],
          [
           "memory loss"
          ],
          [
           "mental hospital"
          ],
          [
           "mental illness"
          ],
          [
           "mentor"
          ],
          [
           "metaphysics"
          ],
          [
           "mexico"
          ],
          [
           "middle east"
          ],
          [
           "midlife crisis"
          ],
          [
           "military"
          ],
          [
           "mindfuck"
          ],
          [
           "mining"
          ],
          [
           "minnesota"
          ],
          [
           "mission from god"
          ],
          [
           "mistaken identity"
          ],
          [
           "miyazaki"
          ],
          [
           "mob"
          ],
          [
           "mockumentary"
          ],
          [
           "modern fantasy"
          ],
          [
           "money"
          ],
          [
           "monkey"
          ],
          [
           "monster"
          ],
          [
           "monsters"
          ],
          [
           "monty python"
          ],
          [
           "moody"
          ],
          [
           "moon"
          ],
          [
           "moral ambiguity"
          ],
          [
           "morality"
          ],
          [
           "mother daughter relationship"
          ],
          [
           "mother-son relationship"
          ],
          [
           "motorcycle"
          ],
          [
           "mountain climbing"
          ],
          [
           "movie business"
          ],
          [
           "movielens top pick"
          ],
          [
           "moving"
          ],
          [
           "mozart"
          ],
          [
           "mtv"
          ],
          [
           "multiple storylines"
          ],
          [
           "mummy"
          ],
          [
           "muppets"
          ],
          [
           "murder"
          ],
          [
           "murder mystery"
          ],
          [
           "music"
          ],
          [
           "music business"
          ],
          [
           "musical"
          ],
          [
           "musicians"
          ],
          [
           "mutants"
          ],
          [
           "mystery"
          ],
          [
           "mythology"
          ],
          [
           "narrated"
          ],
          [
           "nasa"
          ],
          [
           "native americans"
          ],
          [
           "natural disaster"
          ],
          [
           "nature"
          ],
          [
           "nazi"
          ],
          [
           "nazis"
          ],
          [
           "neil gaiman"
          ],
          [
           "neo-nazis"
          ],
          [
           "neo-noir"
          ],
          [
           "nerds"
          ],
          [
           "new jersey"
          ],
          [
           "new orleans"
          ],
          [
           "new york"
          ],
          [
           "new york city"
          ],
          [
           "new zealand"
          ],
          [
           "ninja"
          ],
          [
           "no dialogue"
          ],
          [
           "no plot"
          ],
          [
           "nocturnal"
          ],
          [
           "noir"
          ],
          [
           "noir thriller"
          ],
          [
           "non-hollywood ending"
          ],
          [
           "non-linear"
          ],
          [
           "nonlinear"
          ],
          [
           "nostalgia"
          ],
          [
           "nostalgic"
          ],
          [
           "not as good as the first"
          ],
          [
           "not funny"
          ],
          [
           "notable nudity"
          ],
          [
           "notable soundtrack"
          ],
          [
           "nuclear"
          ],
          [
           "nuclear bomb"
          ],
          [
           "nuclear war"
          ],
          [
           "nudity"
          ],
          [
           "nudity (full frontal - brief)"
          ],
          [
           "nudity (full frontal - notable)"
          ],
          [
           "nudity (full frontal)"
          ],
          [
           "nudity (rear)"
          ],
          [
           "nudity (topless - brief)"
          ],
          [
           "nudity (topless - notable)"
          ],
          [
           "nudity (topless)"
          ],
          [
           "obsession"
          ],
          [
           "ocean"
          ],
          [
           "off-beat comedy"
          ],
          [
           "office"
          ],
          [
           "oil"
          ],
          [
           "olympics"
          ],
          [
           "ominous"
          ],
          [
           "opera"
          ],
          [
           "organized crime"
          ],
          [
           "original"
          ],
          [
           "original plot"
          ],
          [
           "orphans"
          ],
          [
           "oscar"
          ],
          [
           "oscar (best actor)"
          ],
          [
           "oscar (best actress)"
          ],
          [
           "oscar (best animated feature)"
          ],
          [
           "oscar (best cinematography)"
          ],
          [
           "oscar (best directing)"
          ],
          [
           "oscar (best editing)"
          ],
          [
           "oscar (best effects - visual effects)"
          ],
          [
           "oscar (best foreign language film)"
          ],
          [
           "oscar (best music - original score)"
          ],
          [
           "oscar (best music - original song)"
          ],
          [
           "oscar (best picture)"
          ],
          [
           "oscar (best sound)"
          ],
          [
           "oscar (best supporting actor)"
          ],
          [
           "oscar (best supporting actress)"
          ],
          [
           "oscar (best writing - screenplay written directly for the screen)"
          ],
          [
           "oscar winner"
          ],
          [
           "over the top"
          ],
          [
           "overrated"
          ],
          [
           "palestine"
          ],
          [
           "parallel universe"
          ],
          [
           "paranoia"
          ],
          [
           "paranoid"
          ],
          [
           "parenthood"
          ],
          [
           "paris"
          ],
          [
           "parody"
          ],
          [
           "passionate"
          ],
          [
           "penguins"
          ],
          [
           "perfect"
          ],
          [
           "period piece"
          ],
          [
           "peter pan"
          ],
          [
           "pg"
          ],
          [
           "pg-13"
          ],
          [
           "philip k. dick"
          ],
          [
           "philosophical"
          ],
          [
           "philosophy"
          ],
          [
           "photographer"
          ],
          [
           "photography"
          ],
          [
           "pigs"
          ],
          [
           "pirates"
          ],
          [
           "pixar"
          ],
          [
           "pixar animation"
          ],
          [
           "plot"
          ],
          [
           "plot holes"
          ],
          [
           "plot twist"
          ],
          [
           "poetry"
          ],
          [
           "poignant"
          ],
          [
           "pointless"
          ],
          [
           "poker"
          ],
          [
           "poland"
          ],
          [
           "police"
          ],
          [
           "police corruption"
          ],
          [
           "police investigation"
          ],
          [
           "political"
          ],
          [
           "political corruption"
          ],
          [
           "politics"
          ],
          [
           "pornography"
          ],
          [
           "post apocalyptic"
          ],
          [
           "post-apocalyptic"
          ],
          [
           "potential oscar nom"
          ],
          [
           "poverty"
          ],
          [
           "powerful ending"
          ],
          [
           "predictable"
          ],
          [
           "pregnancy"
          ],
          [
           "prejudice"
          ],
          [
           "prequel"
          ],
          [
           "president"
          ],
          [
           "pretentious"
          ],
          [
           "prison"
          ],
          [
           "prison escape"
          ],
          [
           "private detective"
          ],
          [
           "product placement"
          ],
          [
           "prohibition"
          ],
          [
           "propaganda"
          ],
          [
           "prostitution"
          ],
          [
           "psychedelic"
          ],
          [
           "psychiatrist"
          ],
          [
           "psychiatry"
          ],
          [
           "psychological"
          ],
          [
           "psychology"
          ],
          [
           "pulp"
          ],
          [
           "punk"
          ],
          [
           "puppets"
          ],
          [
           "queer"
          ],
          [
           "quirky"
          ],
          [
           "quotable"
          ],
          [
           "rabbits"
          ],
          [
           "race"
          ],
          [
           "race issues"
          ],
          [
           "racing"
          ],
          [
           "racism"
          ],
          [
           "radio"
          ],
          [
           "rags to riches"
          ],
          [
           "rape"
          ],
          [
           "rats"
          ],
          [
           "realistic"
          ],
          [
           "realistic action"
          ],
          [
           "reality tv"
          ],
          [
           "rebellion"
          ],
          [
           "redemption"
          ],
          [
           "reflective"
          ],
          [
           "relationships"
          ],
          [
           "religion"
          ],
          [
           "remade"
          ],
          [
           "remake"
          ],
          [
           "revenge"
          ],
          [
           "revolution"
          ],
          [
           "ridiculous"
          ],
          [
           "rio de janeiro"
          ],
          [
           "road movie"
          ],
          [
           "road trip"
          ],
          [
           "roald dahl"
          ],
          [
           "robbery"
          ],
          [
           "robert downey jr"
          ],
          [
           "robert ludlum"
          ],
          [
           "robot"
          ],
          [
           "robots"
          ],
          [
           "rock and roll"
          ],
          [
           "romance"
          ],
          [
           "romantic"
          ],
          [
           "romantic comedy"
          ],
          [
           "rome"
          ],
          [
           "runaway"
          ],
          [
           "russia"
          ],
          [
           "russian"
          ],
          [
           "sacrifice"
          ],
          [
           "sad"
          ],
          [
           "sad but good"
          ],
          [
           "samurai"
          ],
          [
           "san francisco"
          ],
          [
           "sappy"
          ],
          [
           "sarcasm"
          ],
          [
           "satire"
          ],
          [
           "satirical"
          ],
          [
           "saturday night live"
          ],
          [
           "saturn award (best science fiction film)"
          ],
          [
           "saturn award (best special effects)"
          ],
          [
           "scary"
          ],
          [
           "scenic"
          ],
          [
           "schizophrenia"
          ],
          [
           "school"
          ],
          [
           "sci fi"
          ],
          [
           "sci-fi"
          ],
          [
           "science"
          ],
          [
           "science fiction"
          ],
          [
           "scifi"
          ],
          [
           "scifi cult"
          ],
          [
           "scotland"
          ],
          [
           "screwball"
          ],
          [
           "screwball comedy"
          ],
          [
           "script"
          ],
          [
           "secret service"
          ],
          [
           "secrets"
          ],
          [
           "segregation"
          ],
          [
           "self discovery"
          ],
          [
           "sentimental"
          ],
          [
           "sequel"
          ],
          [
           "sequels"
          ],
          [
           "serial killer"
          ],
          [
           "series"
          ],
          [
           "sex"
          ],
          [
           "sex comedy"
          ],
          [
           "sexual"
          ],
          [
           "sexual abuse"
          ],
          [
           "sexuality"
          ],
          [
           "sexualized violence"
          ],
          [
           "sexy"
          ],
          [
           "shakespeare"
          ],
          [
           "shallow"
          ],
          [
           "shark"
          ],
          [
           "shopping"
          ],
          [
           "short"
          ],
          [
           "short-term memory loss"
          ],
          [
           "silent"
          ],
          [
           "silly"
          ],
          [
           "silly fun"
          ],
          [
           "simple"
          ],
          [
           "single father"
          ],
          [
           "sisters"
          ],
          [
           "skinhead"
          ],
          [
           "slackers"
          ],
          [
           "slapstick"
          ],
          [
           "slasher"
          ],
          [
           "slavery"
          ],
          [
           "slow"
          ],
          [
           "slow paced"
          ],
          [
           "small town"
          ],
          [
           "snakes"
          ],
          [
           "so bad it's funny"
          ],
          [
           "so bad it's good"
          ],
          [
           "soccer"
          ],
          [
           "social commentary"
          ],
          [
           "solitude"
          ],
          [
           "sophia coppola"
          ],
          [
           "south africa"
          ],
          [
           "south america"
          ],
          [
           "southern theme"
          ],
          [
           "space"
          ],
          [
           "space opera"
          ],
          [
           "space program"
          ],
          [
           "space travel"
          ],
          [
           "spaghetti western"
          ],
          [
           "spain"
          ],
          [
           "spanish"
          ],
          [
           "spanish civil war"
          ],
          [
           "special"
          ],
          [
           "special effects"
          ],
          [
           "spelling bee"
          ],
          [
           "spiders"
          ],
          [
           "spielberg"
          ],
          [
           "spies"
          ],
          [
           "splatter"
          ],
          [
           "spock"
          ],
          [
           "spoof"
          ],
          [
           "sports"
          ],
          [
           "spy"
          ],
          [
           "spying"
          ],
          [
           "stage magic"
          ],
          [
           "stand-up comedy"
          ],
          [
           "star trek"
          ],
          [
           "star wars"
          ],
          [
           "steampunk"
          ],
          [
           "stereotypes"
          ],
          [
           "stoner movie"
          ],
          [
           "stop motion"
          ],
          [
           "stop-motion"
          ],
          [
           "story"
          ],
          [
           "storytelling"
          ],
          [
           "stranded"
          ],
          [
           "strange"
          ],
          [
           "strippers"
          ],
          [
           "studio ghibli"
          ],
          [
           "stunning"
          ],
          [
           "stupid"
          ],
          [
           "stupid as hell"
          ],
          [
           "stupidity"
          ],
          [
           "stylish"
          ],
          [
           "stylized"
          ],
          [
           "submarine"
          ],
          [
           "suburbia"
          ],
          [
           "suicide"
          ],
          [
           "suicide attempt"
          ],
          [
           "super hero"
          ],
          [
           "super-hero"
          ],
          [
           "superhero"
          ],
          [
           "superheroes"
          ],
          [
           "supernatural"
          ],
          [
           "suprisingly clever"
          ],
          [
           "surfing"
          ],
          [
           "surprise ending"
          ],
          [
           "surreal"
          ],
          [
           "surrealism"
          ],
          [
           "surveillance"
          ],
          [
           "survival"
          ],
          [
           "suspense"
          ],
          [
           "suspenseful"
          ],
          [
           "swashbuckler"
          ],
          [
           "swedish"
          ],
          [
           "sweet"
          ],
          [
           "switching places"
          ],
          [
           "sword fight"
          ],
          [
           "sword fighting"
          ],
          [
           "talking animals"
          ],
          [
           "talky"
          ],
          [
           "tarantino"
          ],
          [
           "teacher"
          ],
          [
           "tear jerker"
          ],
          [
           "technology"
          ],
          [
           "teen"
          ],
          [
           "teen movie"
          ],
          [
           "teenager"
          ],
          [
           "teenagers"
          ],
          [
           "teens"
          ],
          [
           "teleportation"
          ],
          [
           "television"
          ],
          [
           "tense"
          ],
          [
           "terminal illness"
          ],
          [
           "terrorism"
          ],
          [
           "texas"
          ],
          [
           "thought-provoking"
          ],
          [
           "thriller"
          ],
          [
           "time"
          ],
          [
           "time loop"
          ],
          [
           "time travel"
          ],
          [
           "tokyo"
          ],
          [
           "tolkien"
          ],
          [
           "tom clancy"
          ],
          [
           "too long"
          ],
          [
           "too short"
          ],
          [
           "torture"
          ],
          [
           "touching"
          ],
          [
           "toys"
          ],
          [
           "tragedy"
          ],
          [
           "train"
          ],
          [
           "trains"
          ],
          [
           "transformation"
          ],
          [
           "transgender"
          ],
          [
           "travel"
          ],
          [
           "treasure"
          ],
          [
           "treasure hunt"
          ],
          [
           "tricky"
          ],
          [
           "trilogy"
          ],
          [
           "true story"
          ],
          [
           "truman capote"
          ],
          [
           "twist"
          ],
          [
           "twist ending"
          ],
          [
           "twists & turns"
          ],
          [
           "undercover cop"
          ],
          [
           "underdog"
          ],
          [
           "underrated"
          ],
          [
           "understated"
          ],
          [
           "underwater"
          ],
          [
           "unfunny"
          ],
          [
           "unintentionally funny"
          ],
          [
           "unique"
          ],
          [
           "united nations"
          ],
          [
           "unlikeable characters"
          ],
          [
           "unlikely friendships"
          ],
          [
           "unrealistic"
          ],
          [
           "unusual plot structure"
          ],
          [
           "us history"
          ],
          [
           "utopia"
          ],
          [
           "vampire"
          ],
          [
           "vampire human love"
          ],
          [
           "vampires"
          ],
          [
           "vengeance"
          ],
          [
           "very funny"
          ],
          [
           "very good"
          ],
          [
           "very interesting"
          ],
          [
           "video game"
          ],
          [
           "video game adaptation"
          ],
          [
           "video games"
          ],
          [
           "videogame"
          ],
          [
           "vienna"
          ],
          [
           "vietnam"
          ],
          [
           "vietnam war"
          ],
          [
           "view askew"
          ],
          [
           "vigilante"
          ],
          [
           "vigilantism"
          ],
          [
           "violence"
          ],
          [
           "violent"
          ],
          [
           "virginity"
          ],
          [
           "virtual reality"
          ],
          [
           "virus"
          ],
          [
           "visceral"
          ],
          [
           "visual"
          ],
          [
           "visually appealing"
          ],
          [
           "visually stunning"
          ],
          [
           "visuals"
          ],
          [
           "voodoo"
          ],
          [
           "voyeurism"
          ],
          [
           "war"
          ],
          [
           "war movie"
          ],
          [
           "wartime"
          ],
          [
           "waste of time"
          ],
          [
           "watch the credits"
          ],
          [
           "weapons"
          ],
          [
           "wedding"
          ],
          [
           "weed"
          ],
          [
           "weird"
          ],
          [
           "werewolf"
          ],
          [
           "werewolves"
          ],
          [
           "western"
          ],
          [
           "whimsical"
          ],
          [
           "wilderness"
          ],
          [
           "wine"
          ],
          [
           "wistful"
          ],
          [
           "witch"
          ],
          [
           "witches"
          ],
          [
           "witty"
          ],
          [
           "wizards"
          ],
          [
           "women"
          ],
          [
           "working class"
          ],
          [
           "workplace"
          ],
          [
           "world politics"
          ],
          [
           "world war i"
          ],
          [
           "world war ii"
          ],
          [
           "writer's life"
          ],
          [
           "writers"
          ],
          [
           "writing"
          ],
          [
           "wuxia"
          ],
          [
           "wwii"
          ],
          [
           "zombie"
          ],
          [
           "zombies"
          ]
         ],
         "hovertemplate": "Frequency of genome tag in all movies=%{marker.size}<br>Average Rating=%{marker.color}<br>genome_tag=%{customdata[0]}<extra></extra>",
         "legendgroup": "",
         "marker": {
          "color": [
           3.746863578217812,
           3.777869574302048,
           3.875453359501622,
           3.8222937293800987,
           3.7925362586085143,
           3.7234689828608385,
           3.731235231175902,
           3.6701842773230315,
           3.5540376928133632,
           3.853142758065522,
           3.7126693371406376,
           3.6276813059997686,
           3.644506022132967,
           3.7424915180525375,
           3.829050196125511,
           3.8514024814433663,
           3.8653315652766427,
           3.749101750627666,
           3.6155875415006093,
           3.6628968766218235,
           3.7770951865472395,
           3.7660340407649864,
           3.6148189266523874,
           3.673336617279768,
           3.8004036516635766,
           3.757911494962882,
           3.87816712092481,
           3.7931156148406915,
           3.6830792617017454,
           3.815685005933374,
           3.6103606125878,
           3.776231992747996,
           3.617254821071778,
           3.7959558673883445,
           3.69884714607654,
           3.7735625520125824,
           3.749308029589442,
           3.718285287744989,
           3.6830730463097527,
           3.8407182493845022,
           3.7325012891551737,
           3.8492285456179576,
           3.496730125296291,
           3.5921013932817654,
           3.5829623742289964,
           3.7304224496966443,
           3.959656085785548,
           3.640690439152596,
           3.6954460342255273,
           3.696407140086169,
           3.70566404992605,
           3.6146272259391083,
           3.6316119249702106,
           3.7003922640597713,
           3.645398841596224,
           3.7409755066315133,
           3.6612473639476875,
           3.808438277636375,
           3.6412326212647024,
           3.539668693685286,
           3.8699499656095178,
           3.7608050002302678,
           3.8470180500710613,
           3.794556256062882,
           3.6841050376969022,
           3.733486289905727,
           3.587061152090831,
           3.722454340554294,
           3.641601977150268,
           3.6166201405035197,
           3.5242185071697483,
           3.7843991529827576,
           3.733808066476038,
           3.654818586923996,
           3.793799500513302,
           3.9323487660438246,
           3.463936459395965,
           3.890850420136674,
           3.785692031150928,
           3.7367970024660635,
           3.631120239156976,
           3.7113146349038773,
           3.704039645538064,
           3.6096434434098326,
           3.7984700089251673,
           3.7270638774249294,
           3.820337137115528,
           3.831102357229161,
           3.701039134237574,
           3.8181788988686067,
           3.7021358457898534,
           3.6470288640160216,
           3.5714344003364755,
           3.7385909961399877,
           3.602376704618657,
           3.5758936178128957,
           3.6373161954366195,
           3.6496563172267606,
           3.699053404398943,
           3.7191398864083784,
           3.5619927014203867,
           3.5317576956940395,
           3.666409504246006,
           3.972064375026986,
           3.726834684098319,
           3.865729538835605,
           3.7237710938941397,
           3.5490269027183023,
           3.880597281210278,
           3.6429077996315256,
           3.675129989882125,
           3.6441823960776834,
           3.7123711831670434,
           3.5055029387511807,
           3.7339139844454774,
           3.8412202773775728,
           3.54331544662678,
           3.8610744047591536,
           3.8168553544503494,
           3.756645175735706,
           3.83819905609613,
           3.8138591681809464,
           3.897778363431816,
           3.691929175947041,
           3.8261246911923252,
           3.644873273193174,
           3.6187518684431734,
           3.75936926972581,
           3.834888267996146,
           3.843299289925503,
           3.6156919210014826,
           3.61615636855132,
           3.6765235341214457,
           3.6312601664505584,
           3.662435000502118,
           3.781781215676761,
           3.745795636082396,
           3.779894714666081,
           3.7229292784628436,
           3.774024103335931,
           3.7560072722689353,
           3.7187597060113227,
           3.7409161249654432,
           3.756980133640149,
           3.54303337813747,
           3.6166526671654022,
           3.8618960131527356,
           3.7532491089785673,
           3.8916863395400956,
           3.686516544186353,
           3.7771269742846645,
           3.7469441356992066,
           3.788311165792871,
           3.7809072085965525,
           3.8058545422015655,
           3.7571039871845864,
           3.70845180023186,
           3.745431006906724,
           3.6664235212408745,
           3.689963688995736,
           3.7912642988153964,
           3.7527755788387083,
           3.525631902085265,
           3.7667753832803177,
           3.801536718056529,
           4.050552456352433,
           3.7599067401634327,
           3.565497792476638,
           3.737236155507204,
           3.6768388627478026,
           3.671243701921388,
           3.7572374289643036,
           3.672358245357586,
           3.871942128930278,
           3.7341785230983593,
           3.6641955472150425,
           3.634454334123264,
           3.875921853254015,
           3.7777944931390834,
           3.6247764688285553,
           3.6336363050446296,
           3.7623247009903564,
           3.7349172666156374,
           3.560732853619462,
           3.779175031463619,
           3.793102338575813,
           3.6576955676227896,
           3.8470087752596998,
           3.729504956148495,
           3.816830541980049,
           3.755388729370987,
           3.708333553433488,
           3.5534468685046616,
           3.7367963793213352,
           3.7066725311707645,
           3.8114076751625907,
           3.762359713799441,
           3.5917085153543904,
           3.7641116426181016,
           3.7590067601978276,
           4.043436227482595,
           3.7194470235758943,
           3.8047971135893643,
           3.8107410239821853,
           3.8501385400038712,
           3.7981940961382623,
           3.7686112238858884,
           3.7521800350769996,
           3.6805664018806934,
           3.8592982224813976,
           3.7328468885504296,
           3.730136161971673,
           3.805506802093699,
           3.7381323228627994,
           3.694853439350778,
           3.781465198797017,
           3.851395726730597,
           3.623641400107071,
           3.6978148045817067,
           3.717199975894788,
           3.6595870298646034,
           3.5961095810585304,
           3.7008030950611257,
           3.71586647493947,
           3.671189534467712,
           3.701251586387934,
           3.838712494295784,
           3.7009492423562445,
           3.726317288859989,
           3.8198147070487916,
           3.746777829446774,
           3.5449694818949373,
           3.539925359341227,
           3.5853171074972146,
           3.756987532504687,
           3.7683287072968676,
           3.813879426780737,
           3.711754632921531,
           3.8471791233125123,
           3.6767805432428853,
           3.6833561632702527,
           3.60261329236528,
           3.5629803638770605,
           3.7528370070038246,
           3.6041401338107675,
           3.569356612541195,
           3.7166207887083456,
           3.6637783493600717,
           3.6255508820533207,
           3.532017755068697,
           3.6333527487683965,
           3.6428449334042643,
           3.708067058418727,
           3.9468870603532875,
           3.627023425148921,
           3.6400381386995195,
           3.7460790229017205,
           3.698031451348973,
           3.8587721397654033,
           3.6852295764870275,
           3.7331315342548517,
           3.709530668481106,
           3.6949493217063782,
           3.5936102627974953,
           3.6971769526230713,
           3.788922181498316,
           3.5582059388119145,
           3.5818980342012847,
           3.7722774241494914,
           3.861592554056859,
           3.8987424806793536,
           3.788787118520807,
           3.778118705934808,
           3.602760488863417,
           3.6684981427410435,
           3.6903634063403294,
           3.826399273693728,
           3.942247795953218,
           3.975004562658841,
           3.505719590833074,
           3.51584383000874,
           3.715684787976242,
           3.9873869473706702,
           3.9859685207218583,
           3.492146402035992,
           3.6728434842928994,
           3.6975301871846433,
           3.680526680138396,
           3.64655595231008,
           3.4988914139056355,
           3.7755816487418805,
           3.7021167812661644,
           3.7351285552141205,
           3.6876074276912303,
           3.704098378428205,
           3.6178229510674016,
           3.766440654202499,
           3.6370628811112455,
           3.7591857268769906,
           3.63015065211028,
           3.654310119384599,
           3.7707755054641967,
           3.7569196747680254,
           3.6119191982532866,
           3.691280202966276,
           3.7278347450675673,
           3.6483006982629034,
           3.682990646133855,
           3.907577519993879,
           3.9499504112451684,
           3.7171158276768863,
           3.7171355139597306,
           3.930383277838013,
           3.72251238320025,
           3.8936990289227196,
           3.883420183598609,
           3.840216296141754,
           3.8542310312472807,
           3.780868154053112,
           3.8045403339888195,
           3.658971237601869,
           3.7175865313552277,
           3.739415440344829,
           3.707298225075015,
           3.7794287706182415,
           3.753741157074651,
           3.816093034261815,
           3.786426807678157,
           3.7141887783546075,
           3.7402332216050533,
           3.6793992049322126,
           3.580126900194119,
           3.6862581972007815,
           3.54688780246542,
           3.8256164765992926,
           3.53532231701642,
           3.5297896687875947,
           3.711818741853512,
           3.713065672169524,
           3.7267422133310752,
           3.7990696779216835,
           3.727787436725904,
           3.7644778922606266,
           3.6803976905424234,
           3.485635018076713,
           3.6499096040080365,
           3.8356013961774504,
           3.7180537554718396,
           3.5803211621322224,
           3.7811538108421887,
           3.8236130211924375,
           3.7119239784052693,
           3.6292964279780615,
           3.7039317412350425,
           3.6997492651534203,
           3.8141295177855805,
           3.780354967651083,
           3.7453817970536574,
           3.5405890735441377,
           3.848954252771132,
           3.6439371548582566,
           3.7832294118077163,
           3.6939085851952562,
           3.6842849127976054,
           3.670877007793148,
           3.6993462290088,
           3.593246927940697,
           3.7663585965440394,
           3.626386878280386,
           3.6808807704367315,
           3.760206830943065,
           3.7654273269529366,
           3.874942160246346,
           3.7427276421243953,
           3.826635225116988,
           3.795772095969943,
           3.6546412338848793,
           3.764067212857128,
           3.831750995021124,
           3.740454775633309,
           3.862087952412956,
           3.6089616998715246,
           3.816337359426838,
           3.6597123866874286,
           3.6689638131093663,
           3.6743641938568157,
           3.7984186126233865,
           3.805482816418319,
           3.720010914718693,
           3.5618474576120414,
           3.6807503752869413,
           3.9340378545849495,
           3.7190062534726342,
           3.9295803628992636,
           3.707820200245344,
           3.7597874661311153,
           3.689678964220197,
           3.5673108119922974,
           3.8020277202006953,
           3.907697091764075,
           3.6260382531524415,
           3.803880066773675,
           3.5935199152642063,
           3.7774485770531747,
           3.8720806498054614,
           3.60207612171434,
           3.6948632010609743,
           3.733223743926808,
           3.865864606415573,
           3.6635947725883518,
           3.9166955578221705,
           3.76442679649284,
           3.5365055726196797,
           3.7440358595065866,
           3.779448951392554,
           3.705923186319997,
           3.81103998643058,
           3.6915821967125724,
           3.5166115997264003,
           3.495387796315608,
           3.7312639083842147,
           3.7096140755278393,
           3.650228000828786,
           3.7488264735581893,
           3.7915663569092044,
           3.85636967847792,
           3.7045353802336063,
           3.749964366724835,
           3.5663912260414237,
           3.6044747907947574,
           3.6588882956651343,
           3.819126587451275,
           3.7925487034823573,
           3.7232203424040087,
           3.6708153478624577,
           3.685648710113468,
           3.6952756197177976,
           3.678632569153775,
           3.93205210304485,
           3.918368338460688,
           3.649378781106696,
           3.6844267831534787,
           3.825620847026752,
           3.782218344063712,
           3.7495615143595886,
           3.678010277828247,
           3.702576292392789,
           3.7220394129826606,
           3.762916586871214,
           3.9837683946108395,
           3.6756284006432076,
           3.765941490887424,
           3.6008219271669373,
           3.666060734541616,
           3.65707566393844,
           3.394163162559871,
           3.6438118253529685,
           3.6374404671291654,
           3.6922037105986396,
           3.6726021995775198,
           3.750315931402767,
           3.538705070340569,
           3.621647393530281,
           3.7983778699598307,
           3.684259763147452,
           3.6637223961047534,
           3.6277706645619197,
           3.748093392633345,
           3.654957617052631,
           3.701279316789141,
           3.632666106415012,
           3.751390265312394,
           3.6444063629443746,
           3.837112208392488,
           3.703510008316133,
           3.678500410360526,
           3.5531678680611565,
           3.7659897367092565,
           3.727230461365425,
           3.6826991073396598,
           3.708688280842374,
           3.518730134272248,
           3.7897192528502566,
           3.6556499803716473,
           3.5973310460586045,
           3.614057480085726,
           3.7644130915584784,
           3.7230191508136743,
           3.6487519263048496,
           3.814010415298962,
           3.753910897614661,
           3.754617354492234,
           3.763577231081898,
           3.6517066137925274,
           3.861872864559552,
           3.673001402801184,
           3.781569578402678,
           3.6505909346805616,
           3.660653310708591,
           3.792574023977056,
           3.6358691902355753,
           3.7046006777862424,
           3.7486958861633255,
           3.627344189978494,
           3.7800912069034838,
           3.6944130349679223,
           3.876722870369105,
           3.6872850066000398,
           3.6301327730068773,
           3.6706481687421215,
           3.744742770922226,
           3.6462468283181386,
           3.847788186434016,
           3.6400649305816506,
           3.689659499264301,
           3.829571306996063,
           3.778585201857071,
           3.8133307524367273,
           3.7407788186362945,
           3.8279676392754562,
           3.576318077109205,
           3.500163232985121,
           3.917420920609423,
           3.756244781839051,
           3.709673773091141,
           3.8296921132932784,
           3.7100317516601815,
           3.6132569970544672,
           3.70216438646487,
           3.7056622001577164,
           3.7554797762098957,
           3.7374298460714512,
           3.6239283320713866,
           3.681177749850391,
           3.6602637286975654,
           3.65086083561333,
           3.8135690543941085,
           3.7416751404227666,
           3.777150345030939,
           3.800536022108774,
           3.868689398992543,
           3.589985992715516,
           3.838660452112455,
           3.8477387893726456,
           3.8207476769702353,
           3.734668268901883,
           3.668934112032543,
           3.7893978064671523,
           3.6146437303540306,
           3.7239926315130534,
           3.5981008207452394,
           3.70804451526757,
           3.591271832426007,
           3.645516842865743,
           3.743818932710546,
           3.952129000218605,
           3.9203396646550988,
           3.6444338223401713,
           3.944092581445985,
           3.6732051859068866,
           3.6758476315571817,
           3.8235967721082242,
           3.7805672717234136,
           3.7807806552737717,
           3.753813999223656,
           3.6978300957918564,
           3.7712612763838576,
           3.7135764827559354,
           3.7131480812976414,
           3.787669214642893,
           3.872227440808663,
           3.851910518739677,
           3.760074191313962,
           3.896030108297477,
           3.7599810047897613,
           3.7582959883331863,
           3.7315101498530963,
           3.885544925438858,
           3.6987880661599712,
           3.7967585125607783,
           3.7582428057878086,
           3.692563482228462,
           3.857648094287563,
           3.7482422373315667,
           3.6899031546639187,
           3.775639013655945,
           3.707163238016124,
           3.7308952992966393,
           3.79164539449873,
           3.7711783857188315,
           3.666334488825158,
           3.6618411662701025,
           3.7916091595423937,
           3.5402151002862627,
           3.7915481591654503,
           3.808913822178434,
           3.7594627988485856,
           3.733276966141124,
           3.8908528583608186,
           3.762211298102906,
           3.7888482281367555,
           3.8672411489636294,
           3.7702566189241282,
           3.7984800065867192,
           3.7987114320923125,
           3.754054746224323,
           3.680010566177667,
           3.8108726172947938,
           3.799607893709208,
           3.825971713767414,
           3.684000290543734,
           3.6663053614705268,
           3.8638578193953013,
           3.8253157384766467,
           3.850846860217276,
           3.693724000883412,
           3.821425399336855,
           3.910712955041274,
           3.7425371003409995,
           3.7392332994009143,
           3.814668302506701,
           3.645328999371176,
           3.709036529770266,
           3.842498184618922,
           3.805926785626188,
           3.512904211947934,
           3.6880098216843393,
           3.7170254356139685,
           3.9575553827216647,
           3.608996151486701,
           3.6713234816024594,
           3.539650694340848,
           3.8905851521224966,
           3.6693262172218604,
           3.6191205686852514,
           3.5654104173283847,
           3.68827191576526,
           3.6411455187967814,
           3.888428538243212,
           3.8357293631591665,
           3.8033023427348773,
           3.710666493459138,
           3.6740117855101175,
           3.7549557737408024,
           3.70515399143507,
           3.802128273555586,
           3.6351051941624375,
           3.7165561810014216,
           3.7472738228122884,
           3.8381191801419896,
           3.573263627743564,
           3.564474214869425,
           3.7689088074862536,
           3.7830545405595286,
           3.726224564280194,
           3.902805642277895,
           3.7377214828563043,
           3.635843357210181,
           3.767277126128079,
           3.6913308665120064,
           3.7288648330855634,
           3.7608948443086074,
           3.5741516868833596,
           3.5955645760442922,
           3.764789261817559,
           3.716193861823199,
           3.700469853585819,
           3.632821113684722,
           3.680967401145501,
           3.8834886180930743,
           3.75900228108528,
           3.618091358083631,
           3.7671454000683653,
           3.7311181364630697,
           3.7433149833117394,
           3.673284265768537,
           3.7948762655665327,
           3.7469759985448006,
           3.7579462391418472,
           3.718884643609861,
           3.7762973064999397,
           3.60894686101777,
           3.7668142265285405,
           3.859539574024539,
           3.825846661260746,
           3.9588134859842787,
           3.886587671089956,
           3.573661735735825,
           3.6056447568601873,
           3.611544451625497,
           3.67918214381217,
           3.614161587086987,
           3.837181804767842,
           3.7767637917852697,
           3.8240005445998437,
           3.6519263850735655,
           3.6870881691248796,
           3.745721665009186,
           3.598667979380172,
           3.5640567919628365,
           3.713943513100852,
           3.810600844728009,
           3.8422035389820492,
           3.799495990031093,
           3.7379194579958446,
           3.7333012822276848,
           3.67941913488122,
           3.867665524879002,
           3.743755108058368,
           3.7082285395035175,
           3.6117585382110162,
           3.687333753200427,
           3.7729291725534333,
           3.6365990098015026,
           3.6711202874302047,
           3.63789954545647,
           3.7792442712902345,
           3.697531746350383,
           3.840759003948385,
           3.7624423839478665,
           3.7613486622344228,
           3.646377659656288,
           3.6585327458271992,
           3.6046708105774923,
           3.558147884114595,
           3.7848223578851945,
           3.772591806146161,
           3.70190300546771,
           3.7269096868188396,
           3.622266435275268,
           3.7085629354341805,
           3.6228344824055463,
           3.7912650283587506,
           3.699430101840886,
           3.750034782699539,
           3.7296631918176955,
           3.7591187676386912,
           3.8167825094311003,
           3.580977246389147,
           3.9356787525125787,
           3.5139463237829145,
           3.8069540613693365,
           3.668625712772201,
           3.835067217100041,
           3.6836783755807474,
           3.598345157332709,
           3.751216726997708,
           3.7848407883312603,
           3.641834898430518,
           3.6940658884239586,
           3.5654032676875564,
           3.61445622527371,
           3.8456618388575414,
           3.7037421180152013,
           3.775349988394374,
           3.563924489225127,
           3.614411026075448,
           3.6201540915988586,
           3.7848443283421975,
           3.6446728683680125,
           3.68254058016426,
           3.5346575412936154,
           3.7589629381139025,
           3.7705946887483437,
           3.736103799427968,
           3.6708116576277043,
           3.678945134455395,
           3.801429565960227,
           3.935516495109241,
           3.6420188977297308,
           3.8131886797298526,
           3.8623771247674843,
           3.8053453404127047,
           3.782376377919054,
           3.901976810748193,
           3.77504024584618,
           3.724942893143944,
           3.657038846902126,
           3.7032891770129095,
           3.654905292897786,
           3.827100203939406,
           3.7310104405911386,
           3.7800451765753666,
           3.831624214196363,
           3.732833107958588,
           3.7857015266108984,
           3.6503765814651383,
           3.5853713624024546,
           3.560967499374994,
           3.8804517349887475,
           3.7491818443743097,
           3.700433569206373,
           3.703528755205636,
           3.7232629810367284,
           3.5524543491384595,
           3.6835934731032847,
           3.7553115794597405,
           3.6815844486793283,
           3.6975791530833613,
           3.680557612235526,
           3.8258497401987874,
           3.5716266630966125,
           3.53887445093322,
           3.6675681207221538,
           3.8596581165721244,
           3.61510574996931,
           3.740936195595938,
           3.9196307176952043,
           3.777326827256328,
           3.600896293162057,
           3.7499607064503566,
           3.7641766786513338,
           3.7510634396545632,
           3.6962540348492285,
           3.6949652165333546,
           3.629681214690672,
           3.7187107025735195,
           3.655822956267161,
           3.813220242668138,
           3.689224477002098,
           3.6841125488782502,
           3.696193423220107,
           3.650044646672586,
           3.5869793537589567,
           3.6882678543177176,
           3.7862447903281287,
           3.6713042312205686,
           3.854641692028347,
           3.7975103326556034,
           3.6785358007103026,
           3.7500889161936817,
           3.734251501491083,
           3.728156531993094,
           3.7087931945222294,
           3.7334104305670177,
           3.7338570142424574,
           3.7526767842701543,
           3.628911963280075,
           3.7802527462153583,
           3.6043375306527907,
           3.757648160006049,
           3.7536007799237545,
           3.6582233247465137,
           3.7271178219553915,
           3.811862466370581,
           3.896697322392359,
           3.6423214567292277,
           3.805556038211618,
           3.6974343170345887,
           3.676187108267756,
           3.700433152652283,
           3.6305622895209977,
           3.9007765455806878,
           3.7903748356598355,
           3.804722624826564,
           3.8153386371849525,
           3.6219428339434856,
           3.7396525562972887,
           3.7483940172657917,
           3.548115967003072,
           3.4324307209448,
           3.7753149707348506,
           3.9128080733027586,
           3.8896401565437033,
           4.034667838435743,
           3.7908843470310343,
           3.809322678515568,
           3.8013368254221023,
           3.8028867793712218,
           3.7054494524806687,
           3.667073311866112,
           3.655252812769612,
           3.7098001140677384,
           3.7985587451358933,
           3.876636269047502,
           3.7232044437121994,
           3.6910033915941987,
           3.7905166053395236,
           3.7430030700990997,
           3.5567253796003557,
           3.5139310391685368,
           3.676251103292956,
           3.6782303489906862,
           3.636334300876096,
           3.752302425344736,
           3.6287116989548034,
           3.4644963077102946,
           3.5544914269765,
           3.583376649167703,
           3.5145175018529775,
           3.602064801371427,
           3.783452838919577,
           3.820137045941588,
           3.873098524928876,
           3.6497255942213664,
           3.7649420662361304,
           3.7428417668750313,
           3.8270080826793107,
           3.7551335155961967,
           3.7746305971861105,
           3.6020372411559594,
           3.6637317672774774,
           3.5767166229818197,
           3.6884542220382177,
           3.749748770973916,
           3.814068608227707,
           3.88070943322163,
           3.793161165834738,
           3.721799550166871,
           3.6556901409407585,
           3.810731065043682,
           3.952147798424016,
           3.6929437799849407,
           3.6222938612543896,
           3.8899298442741372,
           3.7417394094952323,
           3.690802834188446,
           3.903920746321349,
           3.6815605387359644,
           3.7306004725779465,
           3.73890898863058,
           3.8852941931635314,
           3.940848492372671,
           3.749014312741622,
           3.71188499618488,
           3.8065471771865917,
           3.522507077913461,
           3.653377091145919,
           3.673654967662973,
           3.6359210731281792,
           3.809569343673699,
           3.614985199883973,
           3.7710191991474455,
           3.5418441393780538,
           3.8898704478907513,
           3.727982634680105,
           3.7869816600185313,
           3.778296278126953,
           3.707244456518829,
           3.7923923888854754,
           3.7315366907749943,
           3.4778380450104778,
           3.5975719011621883,
           3.634846998562189,
           3.568941518519026,
           3.753947781341069,
           3.8332120704213124,
           3.843633721654343,
           3.7949338986751457,
           3.6364179036465045,
           3.5942413091082552,
           3.8450001359656016,
           3.669609767187007,
           3.427840822925769,
           3.688504774576562,
           3.655809110245767,
           3.7348690900229164,
           3.7195502582629008,
           3.787107684787037,
           3.7244369903282415,
           3.752402822602287,
           3.7296251128987152,
           3.8193714884124548,
           3.724577660833377,
           3.6290623660917625,
           3.7240550682659506,
           3.776408470068595,
           3.7588784503254855,
           3.6666026639944582,
           3.7263156006990714,
           3.7130866981144193,
           3.7343244420690302,
           3.618683943245351,
           3.6789572369755437,
           3.749457563500683,
           3.794880482808656,
           3.71524311900012,
           3.531854410689927,
           3.529176601567211,
           3.6346833793279663,
           3.6477081809033693,
           3.724777342201432,
           3.709498574539922,
           3.748344808087042,
           3.709294405621058,
           3.762945726936608,
           3.562636805153319,
           3.4376969249317146,
           3.591312244369316,
           3.6687981464177866,
           3.591984488577828,
           3.8559457830523995,
           3.9169768457798044,
           3.60024437974787,
           3.756067758555729,
           3.762267315896918,
           3.696987516851087,
           3.6133715122217898,
           3.6006905481410167,
           3.6097343517978295,
           3.7803229010492627,
           3.948731966073786,
           3.9455839236786265,
           3.8883545133573105,
           3.5577230582583614,
           3.6580344923768937,
           3.831316429355185,
           3.785944359344622,
           3.5270653795956126,
           3.8054948799642387,
           3.7845392434738674,
           3.6184500097401235,
           3.777977568016237,
           3.8132829552113034,
           3.780569310462309,
           3.8074800594075735,
           3.7112751488826627,
           3.6029982598163866,
           3.637569642719474,
           3.5475599989578956,
           3.7855838054829722,
           3.5486624187908475,
           3.814136460526725,
           3.677365503260347,
           3.6489036242483475,
           3.6670596081946005,
           3.570479158847442,
           3.6378147490247037,
           3.776018269687229,
           3.7212049587147873,
           3.7650089676387175,
           3.806425655740426,
           3.768177749162232,
           3.6463743471700982,
           3.7747681024415773,
           3.6747374153913936,
           3.672811570012835,
           3.7579740904328474,
           3.778100759305785,
           3.7989375682896176,
           3.906714912339937,
           3.6941394171934854,
           3.723736259118727,
           3.6904559099069774,
           3.6736711720601187,
           3.6440771815343638,
           3.690661764379394,
           3.7990735632487267,
           3.6044554072308,
           3.6402218682538945,
           3.712521904678248,
           3.671949978874704,
           3.703333816826614,
           3.744929720153979,
           3.7018654429702673,
           3.657401808185737,
           3.837263067823195,
           3.654403737472056,
           3.6305437018945153,
           3.6788133038802817,
           3.6798216185220816,
           3.7762888893799413,
           3.718058976586529,
           3.7904876955114175,
           3.6554150874463955,
           3.7226631862931168,
           3.7084063300564862,
           3.8899003548173616,
           3.7084161308033488,
           3.7212185083825986,
           3.796618920494943,
           3.6739893181342924,
           3.753920258970878,
           3.706878583553588,
           3.6348446147522147,
           3.6876981532167474,
           3.6114930091374626,
           3.7611234099435347,
           3.6366001726069364,
           3.595954293824205,
           3.7694922897529937,
           3.608809942680242,
           3.613182584807786,
           3.564205483736149,
           3.579191461146329,
           3.781316288161587,
           3.569353988530483,
           3.642512627536876,
           3.6166061395777502,
           3.6793922369253043,
           3.719697283167951,
           3.697027141638418,
           3.6682277427211045,
           3.7121919175850833,
           3.819108446905867,
           3.5092428456644638,
           3.660033405272616,
           3.7764619472405334,
           3.6518985950090057,
           3.6870091513698733,
           3.666596653444771,
           4.054354997062432,
           3.776076734827529,
           3.7817328710286175,
           3.777513219117359,
           3.711668352734183,
           3.804675479254722,
           3.772022801173618,
           3.7337857094321096,
           3.872806615187296,
           3.89694344265156,
           3.7655771510559393,
           3.8356923403529835,
           3.7808505228447595,
           3.685612663446507,
           3.9199149303128715,
           3.859438565137224,
           3.803055277359382,
           3.699926821520126,
           3.769222950875938,
           3.735664671283428,
           3.7945246550539298,
           3.803990547148293,
           3.7698488850249796,
           3.783444208305715,
           3.6821390377056264,
           3.751783882448429,
           3.765871349151398
          ],
          "coloraxis": "coloraxis",
          "size": [
           476.30024999999955,
           472.45499999999953,
           720.1962499999995,
           890.3534999999996,
           1425.8444999999997,
           944.8504999999996,
           636.6399999999995,
           1655.4059999999997,
           1157.0697499999997,
           710.2957499999995,
           477.8709999999995,
           682.2807499999996,
           1646.1484999999996,
           168.83074999999948,
           61.26799999999948,
           560.4817499999996,
           205.31049999999948,
           2697.575,
           2754.8377499999997,
           2099.2879999999996,
           3875.0582499999996,
           3375.6155,
           1044.9769999999996,
           318.87799999999953,
           1297.3697499999996,
           1424.3592499999995,
           1208.1419999999996,
           1496.8704999999995,
           2298.4117499999998,
           2381.7332499999998,
           277.1222499999995,
           783.1857499999995,
           1198.2412499999996,
           491.8459999999995,
           470.45924999999954,
           997.2299999999996,
           756.9334999999995,
           198.9249999999995,
           256.0929999999995,
           165.2784999999995,
           168.6477499999995,
           488.7272499999995,
           649.7104999999996,
           514.3994999999995,
           772.9069999999996,
           2672.7327499999997,
           200.1509999999995,
           780.4267499999995,
           2095.3597499999996,
           1338.9999999999995,
           1588.1814999999997,
           1452.3477499999997,
           775.2899999999995,
           1288.0327499999996,
           1640.3889999999997,
           321.7807499999995,
           315.5057499999995,
           835.4754999999996,
           1112.9314999999997,
           299.7224999999995,
           639.1622499999995,
           1275.9597499999995,
           502.5617499999995,
           851.3044999999995,
           358.6977499999995,
           435.62224999999955,
           1492.6982499999997,
           491.60274999999956,
           394.5204999999995,
           1196.8727499999995,
           144.7577499999995,
           407.36799999999954,
           672.3077499999996,
           144.04224999999948,
           2251.1672499999995,
           1054.6012499999995,
           297.5669999999995,
           1047.3709999999996,
           1910.2574999999997,
           843.5844999999996,
           1097.5172499999996,
           1853.1694999999997,
           745.9894999999996,
           471.2879999999995,
           1240.3739999999996,
           2803.89425,
           787.7517499999996,
           252.5017499999995,
           306.3187499999995,
           714.3459999999995,
           307.8614999999995,
           248.5502499999995,
           795.6489999999995,
           2116.9559999999997,
           1023.9642499999995,
           1184.4534999999996,
           1831.5489999999998,
           1328.3202499999995,
           2377.218,
           2483.4842499999995,
           818.5982499999996,
           632.5132499999995,
           174.05574999999948,
           110.71499999999948,
           595.6694999999995,
           84.29374999999948,
           2840.582,
           621.0997499999995,
           1765.7852499999997,
           1094.7757499999996,
           502.2592499999995,
           550.7542499999995,
           2622.5035,
           297.1894999999995,
           1633.6237499999995,
           244.9124999999995,
           79.14074999999949,
           906.7029999999995,
           62.59749999999947,
           1381.1437499999995,
           2901.3075,
           2386.3639999999996,
           265.3304999999995,
           594.4642499999995,
           723.1702499999996,
           882.5142499999996,
           608.0222499999995,
           3234.9235,
           2224.86525,
           397.3334999999995,
           347.2899999999995,
           2214.4359999999997,
           1111.2017499999995,
           808.0029999999996,
           996.0274999999996,
           294.6749999999995,
           1120.3709999999996,
           2296.5004999999996,
           1034.1297499999996,
           1307.4042499999996,
           1768.8949999999998,
           286.6752499999995,
           2187.32725,
           1387.9622499999996,
           1183.3177499999995,
           1699.1859999999997,
           265.0964999999995,
           508.79074999999955,
           1109.7777499999995,
           586.3924999999996,
           488.2709999999995,
           868.1112499999996,
           979.1622499999995,
           2124.6769999999997,
           1319.8792499999997,
           1088.9719999999995,
           595.2824999999996,
           321.1949999999995,
           351.8522499999995,
           1471.1502499999997,
           233.4904999999995,
           2256.5815,
           311.6362499999995,
           1985.4147499999997,
           644.8299999999996,
           363.1499999999995,
           1508.9569999999997,
           1452.7097499999995,
           4240.041499999999,
           1046.1637499999995,
           661.1169999999995,
           1621.1147499999997,
           795.7897499999996,
           199.3457499999995,
           1926.8544999999997,
           1668.1639999999998,
           1249.0882499999996,
           541.2557499999996,
           968.0064999999996,
           426.01449999999954,
           798.6939999999995,
           850.8007499999995,
           1184.7239999999997,
           272.51974999999953,
           794.8972499999995,
           792.7687499999996,
           220.57149999999947,
           4677.036,
           876.5437499999996,
           638.5117499999996,
           1537.4897499999997,
           2998.2065,
           752.4842499999995,
           2112.6182499999995,
           3545.6814999999997,
           1093.5049999999997,
           600.6452499999996,
           991.5819999999995,
           351.5639999999995,
           272.5047499999995,
           1264.5432499999997,
           365.0719999999995,
           3376.9802499999996,
           1492.9169999999997,
           260.9542499999995,
           411.3817499999995,
           168.4584999999995,
           427.16349999999954,
           369.20249999999953,
           182.8664999999995,
           352.0129999999995,
           3595.95925,
           239.0379999999995,
           615.4504999999996,
           2027.5409999999997,
           2568.7115,
           303.0032499999995,
           1416.3459999999995,
           61.75324999999948,
           3452.40325,
           1074.9779999999996,
           676.5489999999995,
           401.02674999999954,
           619.6032499999995,
           152.8592499999995,
           834.9377499999996,
           452.2894999999995,
           332.8209999999995,
           1543.5622499999997,
           2599.7219999999998,
           1213.6102499999997,
           559.1492499999996,
           423.3212499999995,
           803.7679999999996,
           1800.8974999999996,
           1235.7772499999996,
           279.2334999999995,
           1321.6524999999997,
           484.04624999999953,
           3329.01675,
           1288.1762499999995,
           1594.6964999999996,
           1031.7122499999996,
           1934.3022499999997,
           608.1987499999996,
           450.3234999999995,
           556.4769999999995,
           520.6349999999995,
           632.7984999999995,
           813.1612499999995,
           1581.6359999999997,
           721.5977499999996,
           974.6864999999996,
           255.7142499999995,
           2255.3064999999997,
           665.2339999999996,
           656.6017499999996,
           3311.91025,
           1279.3737499999995,
           1682.8352499999996,
           504.21924999999953,
           728.1859999999996,
           373.6167499999995,
           1078.0579999999995,
           1172.6922499999996,
           2645.3099999999995,
           1361.0549999999996,
           1703.8299999999997,
           2465.1009999999997,
           4025.1322499999997,
           501.33824999999956,
           2457.4894999999997,
           280.5802499999995,
           1385.7044999999996,
           2781.36275,
           2870.42125,
           4052.3554999999997,
           1356.8109999999997,
           998.6379999999996,
           442.8282499999995,
           381.52699999999953,
           1546.8197499999997,
           567.3207499999995,
           568.5479999999995,
           1762.9124999999997,
           1473.3389999999997,
           1035.6242499999996,
           2516.27825,
           1646.6234999999997,
           238.4019999999995,
           478.52874999999955,
           3126.36275,
           742.8017499999995,
           1448.2417499999997,
           170.8749999999995,
           1166.4347499999997,
           2233.653,
           972.1457499999996,
           3903.95025,
           896.2709999999995,
           598.8307499999995,
           5090.336,
           894.9164999999996,
           667.7094999999996,
           1245.8249999999996,
           554.7059999999996,
           457.77124999999955,
           1483.8277499999997,
           651.3839999999996,
           251.9499999999995,
           1989.3417499999996,
           2063.0354999999995,
           1328.9489999999996,
           1898.4122499999996,
           825.8167499999995,
           638.6929999999995,
           283.4924999999995,
           347.3232499999995,
           2213.0487499999995,
           201.31999999999948,
           184.6074999999995,
           680.2987499999996,
           3743.00625,
           3104.8594999999996,
           2241.7279999999996,
           1791.9109999999996,
           407.15599999999955,
           2801.7234999999996,
           884.0137499999996,
           836.8877499999995,
           1146.6837499999997,
           847.2442499999995,
           1167.9564999999996,
           1321.0827499999996,
           2454.6135,
           968.0367499999995,
           901.4562499999996,
           2206.1645,
           516.2584999999996,
           112.09674999999949,
           1462.9832499999995,
           284.3877499999995,
           585.3122499999995,
           1141.4792499999996,
           1162.6507499999996,
           406.1752499999995,
           90.61024999999948,
           2239.5995,
           1093.5984999999996,
           1275.5692499999996,
           3406.5769999999998,
           353.2849999999995,
           1123.1967499999996,
           1427.5052499999997,
           2717.6265,
           3252.3869999999997,
           576.6059999999995,
           551.9847499999995,
           854.9952499999996,
           1671.2902499999996,
           630.0892499999995,
           1818.1494999999998,
           390.26499999999953,
           2282.70875,
           2867.4452499999998,
           2589.9602499999996,
           1558.0202499999996,
           2733.5119999999997,
           553.9524999999995,
           1140.0724999999995,
           821.2019999999995,
           593.7284999999995,
           446.01924999999954,
           3226.191,
           901.1847499999996,
           1993.6204999999998,
           1955.7622499999998,
           3361.6347499999997,
           1417.1907499999995,
           630.2874999999996,
           945.8609999999995,
           2078.16425,
           1012.5167499999995,
           484.5754999999995,
           551.9577499999996,
           842.5399999999996,
           2398.2887499999997,
           2749.7437499999996,
           3115.9314999999997,
           1244.2627499999996,
           1500.4104999999997,
           121.38699999999949,
           1225.1482499999995,
           983.2447499999996,
           597.6919999999996,
           3226.3509999999997,
           418.4939999999995,
           586.2947499999996,
           199.6442499999995,
           180.9542499999995,
           2195.7425,
           1615.0602499999995,
           1238.7134999999996,
           243.4469999999995,
           684.0472499999995,
           2069.5229999999997,
           625.0442499999996,
           540.7124999999995,
           853.7559999999995,
           891.5599999999996,
           924.4764999999995,
           2599.8622499999997,
           574.0289999999995,
           2605.2045,
           3499.997,
           702.7952499999996,
           2020.3839999999996,
           1299.5029999999997,
           990.1147499999996,
           1118.6744999999996,
           328.3432499999995,
           1471.4539999999997,
           1141.6929999999995,
           2655.9494999999997,
           1010.6972499999996,
           1633.8542499999996,
           778.5829999999996,
           621.1324999999996,
           499.20174999999955,
           482.3309999999995,
           527.1579999999996,
           613.6234999999996,
           828.0279999999996,
           478.7224999999995,
           608.5314999999995,
           711.0157499999996,
           820.5264999999996,
           347.8277499999995,
           1861.5409999999997,
           713.3549999999996,
           460.6309999999995,
           1138.2547499999996,
           2486.0767499999997,
           314.8747499999995,
           4406.228,
           2773.51275,
           2562.4062499999995,
           1906.1734999999996,
           1703.6352499999996,
           796.5377499999995,
           986.3492499999995,
           4724.043,
           931.8149999999996,
           1436.6604999999997,
           2365.1229999999996,
           508.3432499999995,
           768.9677499999996,
           1783.7247499999996,
           954.0152499999996,
           749.7322499999996,
           841.8302499999995,
           854.5699999999996,
           1144.7422499999996,
           4425.55225,
           3585.4035,
           1403.2332499999995,
           1142.4822499999996,
           5181.025,
           3212.5679999999998,
           981.6422499999995,
           1585.3854999999996,
           3525.3875,
           1874.4867499999996,
           2757.90825,
           1925.1864999999996,
           292.5112499999995,
           712.5534999999995,
           2183.932,
           688.7274999999995,
           228.5712499999995,
           2523.5967499999997,
           886.5367499999995,
           595.8747499999995,
           329.6649999999995,
           298.3547499999995,
           345.4002499999995,
           619.0597499999996,
           266.52449999999953,
           44.05474999999948,
           2739.7675,
           874.6754999999996,
           125.59024999999949,
           3370.3179999999998,
           407.9824999999995,
           458.62474999999955,
           1261.9074999999996,
           1600.1432499999996,
           796.1587499999996,
           382.2874999999995,
           427.48324999999954,
           308.0474999999995,
           1073.7162499999997,
           1129.2567499999996,
           2076.1294999999996,
           1607.0727499999996,
           408.2299999999995,
           946.7567499999996,
           1384.4294999999995,
           882.9232499999996,
           1063.1819999999996,
           491.9917499999995,
           1351.2907499999997,
           544.2304999999996,
           333.9417499999995,
           296.2764999999995,
           1041.5082499999996,
           451.2784999999995,
           491.32499999999953,
           2680.8594999999996,
           378.3592499999995,
           1353.8124999999995,
           1162.4117499999995,
           435.83399999999955,
           2021.3567499999997,
           472.02399999999955,
           1766.6864999999996,
           1415.2912499999995,
           1523.5762499999996,
           2222.4174999999996,
           879.6854999999996,
           2303.4419999999996,
           1815.2132499999996,
           1448.9134999999997,
           236.3372499999995,
           1481.5492499999996,
           3442.2887499999997,
           733.4259999999996,
           1153.5554999999995,
           433.8454999999995,
           1874.6374999999996,
           156.00524999999948,
           118.48499999999947,
           1295.5542499999997,
           1246.1944999999996,
           1059.4059999999995,
           807.3989999999995,
           1958.1549999999997,
           2045.0342499999997,
           912.4297499999996,
           1771.4932499999998,
           1562.3024999999996,
           593.9807499999996,
           3250.1949999999997,
           3315.6077499999997,
           1583.2562499999997,
           1148.4509999999996,
           2582.3557499999997,
           1544.8822499999997,
           160.3639999999995,
           334.0117499999995,
           143.4207499999995,
           792.5014999999995,
           481.63399999999956,
           1854.6557499999997,
           1697.5192499999996,
           1115.9497499999995,
           1301.0077499999995,
           1362.3334999999997,
           695.2172499999996,
           468.7002499999995,
           241.4127499999995,
           476.69424999999956,
           83.82224999999949,
           294.5059999999995,
           657.1422499999995,
           473.1822499999995,
           154.4069999999995,
           301.5877499999995,
           772.7174999999995,
           735.7554999999995,
           886.8012499999995,
           843.0927499999996,
           679.9252499999996,
           779.7427499999995,
           3000.7839999999997,
           1029.4919999999995,
           1256.7042499999995,
           1128.2037499999997,
           1214.9924999999996,
           202.99924999999948,
           211.3152499999995,
           594.6847499999996,
           116.0007499999995,
           1159.5639999999996,
           534.5602499999995,
           652.1984999999995,
           1039.3959999999995,
           722.7354999999995,
           494.8349999999995,
           1817.7884999999997,
           3161.2169999999996,
           4007.28975,
           3160.0699999999997,
           529.7762499999995,
           736.6489999999995,
           1332.7859999999996,
           317.66649999999953,
           1425.8619999999996,
           2861.8862499999996,
           3328.6702499999997,
           1301.7462499999997,
           986.8282499999996,
           2014.5969999999998,
           2494.9512499999996,
           881.5284999999996,
           1139.5314999999996,
           491.9517499999995,
           774.0437499999996,
           1898.2639999999997,
           1829.7269999999996,
           964.9002499999996,
           621.4224999999996,
           1053.0747499999995,
           826.6857499999995,
           2613.81875,
           367.3512499999995,
           1971.3077499999997,
           462.5467499999995,
           1280.6622499999996,
           733.9244999999995,
           448.4272499999995,
           252.67199999999949,
           95.57974999999949,
           2168.3879999999995,
           319.0209999999995,
           130.4519999999995,
           818.9399999999996,
           508.01199999999955,
           1458.6172499999996,
           3993.4044999999996,
           2302.07725,
           1464.8422499999997,
           1014.9577499999996,
           337.5067499999995,
           1935.8257499999997,
           5497.90475,
           440.7609999999995,
           372.4682499999995,
           444.6722499999995,
           387.37499999999955,
           515.7364999999995,
           1182.5269999999996,
           323.64474999999953,
           405.26649999999955,
           796.2914999999996,
           608.3222499999996,
           85.12174999999948,
           1167.8902499999997,
           322.0937499999995,
           1172.7499999999995,
           669.5687499999996,
           285.9732499999995,
           1082.8892499999995,
           853.3819999999996,
           164.7579999999995,
           1051.2592499999996,
           330.7184999999995,
           2272.3199999999997,
           1573.2067499999996,
           424.37274999999954,
           569.5254999999995,
           704.5384999999995,
           122.29674999999949,
           453.9337499999995,
           2357.2617499999997,
           478.2989999999995,
           606.4999999999995,
           190.0317499999995,
           2355.5177499999995,
           175.62299999999948,
           488.2174999999995,
           2689.0807499999996,
           1363.2342499999995,
           1071.9199999999996,
           447.0444999999995,
           888.7024999999995,
           688.4754999999996,
           788.0129999999996,
           1107.6477499999996,
           1202.5002499999996,
           2882.3597499999996,
           280.2919999999995,
           263.1352499999995,
           2388.04625,
           304.0649999999995,
           526.6684999999995,
           566.2567499999996,
           137.3814999999995,
           115.74099999999947,
           622.7964999999996,
           925.7257499999996,
           1806.9449999999997,
           953.9984999999996,
           991.2367499999996,
           1165.0509999999997,
           179.2747499999995,
           782.4502499999995,
           387.7014999999995,
           1180.1684999999995,
           2547.7752499999997,
           837.7959999999996,
           768.3114999999996,
           402.6532499999995,
           826.3709999999995,
           1259.0972499999996,
           495.32249999999954,
           2066.6155,
           514.3967499999995,
           3122.604,
           1157.5984999999996,
           973.7632499999996,
           280.58924999999954,
           287.2359999999995,
           289.3184999999995,
           944.9022499999995,
           2879.9462499999995,
           2470.2594999999997,
           983.1532499999996,
           1306.5054999999995,
           1506.2137499999997,
           2496.7219999999998,
           1710.6202499999997,
           2754.8487499999997,
           465.5064999999995,
           1682.8404999999996,
           221.2492499999995,
           839.4517499999996,
           144.71574999999947,
           1159.2959999999996,
           252.57449999999952,
           838.8192499999996,
           7575.47025,
           2494.50575,
           396.7992499999995,
           2460.7844999999998,
           1141.1107499999996,
           2894.2502499999996,
           531.6294999999996,
           1386.8407499999996,
           3348.9669999999996,
           638.2904999999995,
           1520.2887499999997,
           1732.9909999999998,
           270.2669999999995,
           578.0302499999996,
           903.7742499999996,
           405.3517499999995,
           1428.9047499999997,
           2723.1294999999996,
           1445.6474999999996,
           2380.5244999999995,
           644.2812499999995,
           2293.8894999999998,
           204.3302499999995,
           1728.7547499999996,
           1502.6472499999995,
           1945.6857499999996,
           1392.4249999999997,
           794.2124999999995,
           1156.9429999999995,
           2650.5272499999996,
           282.6554999999995,
           1035.2069999999997,
           1711.5657499999998,
           107.60999999999949,
           727.7672499999995,
           3640.17825,
           902.1914999999996,
           1352.1187499999996,
           1532.0712499999997,
           513.2447499999995,
           1496.3084999999996,
           527.9984999999996,
           91.83099999999948,
           84.81024999999948,
           190.8579999999995,
           2778.9447499999997,
           1598.0667499999997,
           1667.3729999999996,
           986.9692499999995,
           1746.8904999999997,
           2447.98775,
           664.3954999999995,
           741.3607499999996,
           593.2522499999995,
           1463.9167499999996,
           3226.60675,
           1279.1922499999996,
           741.9167499999995,
           1348.0377499999995,
           3952.8089999999997,
           623.9822499999996,
           617.4644999999996,
           849.2954999999996,
           607.1829999999995,
           2057.7257499999996,
           3612.2322499999996,
           428.14974999999953,
           2021.2519999999997,
           252.2779999999995,
           421.57949999999954,
           910.8849999999995,
           1262.8592499999995,
           983.0072499999995,
           262.8247499999995,
           930.8072499999996,
           341.5467499999995,
           826.1959999999996,
           843.7122499999996,
           431.1727499999995,
           654.4627499999996,
           1012.0154999999996,
           2400.4652499999997,
           1953.4704999999997,
           1836.7079999999996,
           250.4597499999995,
           648.2154999999996,
           2004.5034999999998,
           3018.4689999999996,
           2148.7839999999997,
           401.09899999999953,
           1107.6824999999997,
           1618.2454999999995,
           748.9464999999996,
           729.7217499999996,
           950.4992499999996,
           696.3687499999995,
           468.22849999999954,
           533.3522499999996,
           1882.1864999999996,
           1176.9579999999996,
           902.3814999999996,
           1102.3664999999996,
           3661.6769999999997,
           2911.8174999999997,
           2926.51725,
           852.0839999999996,
           297.3147499999995,
           1044.5354999999995,
           2808.2065,
           1215.1437499999995,
           1178.6504999999995,
           345.66124999999954,
           1762.0132499999997,
           975.3787499999996,
           228.9627499999995,
           413.5639999999995,
           871.1077499999996,
           155.6357499999995,
           497.3282499999995,
           462.24049999999954,
           581.5499999999995,
           2495.9015,
           2522.01275,
           1286.9692499999996,
           296.2774999999995,
           4322.635249999999,
           404.0662499999995,
           781.0332499999996,
           2432.4887499999995,
           1171.0677499999997,
           1163.3804999999995,
           309.4429999999995,
           1033.1152499999996,
           627.0389999999995,
           1175.0497499999997,
           1553.8472499999996,
           2099.0942499999996,
           758.9052499999996,
           573.0314999999996,
           635.7502499999996,
           2004.9302499999997,
           1596.3062499999996,
           445.15649999999954,
           1339.6464999999996,
           2448.4885,
           1190.1634999999997,
           856.2059999999996,
           1955.4862499999997,
           1506.2549999999997,
           716.5624999999995,
           399.1622499999995,
           1024.1319999999996,
           633.5807499999995,
           1329.9467499999996,
           826.8677499999995,
           2866.32525,
           1642.5034999999996,
           1413.9847499999996,
           1726.4387499999996,
           920.9114999999996,
           1138.9169999999997,
           1186.5394999999996,
           1546.7569999999996,
           875.6894999999996,
           391.7954999999995,
           1297.3999999999996,
           1111.3102499999995,
           844.8594999999996,
           2669.5557499999995,
           2866.89,
           191.9119999999995,
           2246.8419999999996,
           330.9537499999995,
           821.2484999999996,
           368.20249999999953,
           304.2679999999995,
           978.3879999999996,
           2298.9504999999995,
           2409.2212499999996,
           1505.0959999999995,
           809.6124999999996,
           639.5457499999995,
           242.61324999999948,
           395.5649999999995,
           2109.92575,
           527.6697499999996,
           456.87474999999955,
           1213.3517499999996,
           958.0129999999996,
           1972.8899999999996,
           860.1272499999995,
           3049.9815,
           381.9192499999995,
           187.4919999999995,
           3495.7844999999998,
           2225.8312499999997,
           209.1734999999995,
           196.2607499999995,
           201.4044999999995,
           673.0392499999996,
           710.6329999999996,
           603.9269999999996,
           356.6307499999995,
           688.2144999999996,
           206.6449999999995,
           473.0854999999995,
           929.3887499999996,
           486.5567499999995,
           1492.8472499999996,
           2498.0227499999996,
           776.9234999999995,
           839.5664999999996,
           205.1584999999995,
           764.7582499999995,
           2051.6364999999996,
           216.57624999999948,
           716.8644999999996,
           648.1819999999996,
           906.8119999999996,
           1529.2704999999996,
           290.3782499999995,
           929.6657499999995,
           134.49799999999948,
           137.78224999999946,
           614.2789999999995,
           2677.2212499999996,
           1422.8294999999996,
           626.3714999999995,
           298.4904999999995,
           4428.5822499999995,
           4650.53025,
           528.7994999999995,
           1092.0969999999995,
           253.03499999999948,
           111.90774999999948,
           1674.6544999999996,
           1046.0999999999997,
           1158.0744999999995,
           1352.9957499999996,
           2121.4689999999996,
           3290.995,
           430.7102499999995,
           1284.3999999999996,
           874.5862499999996,
           1006.2524999999996,
           864.5402499999996,
           543.5827499999996,
           758.9284999999995,
           1576.1194999999996,
           1176.4704999999997,
           3372.2684999999997,
           224.9644999999995,
           812.0282499999996,
           2436.2062499999997,
           1308.3802499999997,
           1703.3182499999996,
           1900.1832499999996,
           3387.1755,
           2065.9427499999997,
           793.3117499999996,
           127.5862499999995,
           1531.4132499999996,
           798.9887499999995,
           477.5857499999995,
           418.51224999999954,
           741.1889999999995,
           3745.9069999999997,
           148.2567499999995,
           1340.9697499999995,
           897.7384999999996,
           2080.0467499999995,
           1874.3522499999997,
           2212.0757499999995,
           803.5847499999995,
           697.2847499999996,
           1522.9182499999997,
           490.42799999999954,
           306.6324999999995,
           2328.4504999999995,
           446.20674999999954,
           393.3339999999995,
           1002.4334999999996,
           2174.4799999999996,
           1934.7252499999997,
           936.4167499999995,
           379.08449999999954,
           331.4137499999995,
           1675.4669999999996,
           163.36799999999948,
           586.8637499999995,
           1257.3039999999996,
           884.0287499999996,
           1851.0249999999996,
           2059.54825,
           286.8709999999995,
           2043.8179999999998,
           248.9232499999995,
           298.6269999999995,
           3221.06875,
           493.4939999999995,
           494.5969999999995,
           361.3029999999995,
           625.3627499999996,
           1274.3057499999995,
           927.5207499999996,
           1381.7262499999997,
           337.76474999999954,
           1736.3259999999996,
           1951.6254999999996,
           3344.85225,
           647.6584999999995,
           1358.1982499999997,
           2369.5064999999995,
           707.1474999999996,
           251.0822499999995,
           2542.25825,
           580.7604999999995,
           606.6832499999996,
           153.2199999999995,
           1066.5542499999997,
           2916.4995,
           869.3707499999996,
           3320.8079999999995,
           1314.0919999999996,
           1103.5814999999996,
           281.2987499999995,
           736.5049999999995,
           197.8314999999995,
           3508.55325,
           3228.0337499999996,
           2546.4419999999996,
           3199.55775,
           786.7084999999996,
           291.84224999999947,
           276.1489999999995,
           187.6532499999995,
           404.5669999999995,
           175.8382499999995,
           142.63474999999949,
           527.3359999999996,
           850.1147499999996,
           875.1969999999995,
           3188.5122499999998,
           2769.66475,
           670.9302499999995,
           366.30349999999953,
           431.99824999999953,
           2260.9112499999997,
           2874.6369999999997,
           3741.88825,
           2972.7794999999996,
           1231.9492499999997,
           268.1092499999995,
           682.0527499999996,
           874.3149999999996,
           678.3652499999996,
           1281.0374999999997,
           273.5019999999995,
           680.1549999999995,
           2721.9239999999995,
           436.2107499999995,
           791.6409999999995,
           3743.33925,
           777.7512499999996,
           365.3449999999995,
           479.7347499999995,
           2242.25825,
           1286.9384999999995,
           934.3042499999996,
           758.0257499999996,
           440.6139999999995,
           814.3027499999996,
           2493.9602499999996,
           526.1089999999996,
           2202.9629999999997,
           582.9004999999995,
           1237.9994999999997,
           949.5892499999995,
           458.8167499999995,
           577.5344999999995,
           682.4702499999995,
           2585.6207499999996,
           943.3429999999996,
           429.5569999999995,
           468.1947499999995,
           1153.2754999999995,
           313.25799999999947
          ],
          "sizemode": "area",
          "sizeref": 18.938675625000002,
          "symbol": "circle"
         },
         "mode": "markers",
         "name": "",
         "showlegend": false,
         "type": "scattergl",
         "x": [
          476.30024999999955,
          472.45499999999953,
          720.1962499999995,
          890.3534999999996,
          1425.8444999999997,
          944.8504999999996,
          636.6399999999995,
          1655.4059999999997,
          1157.0697499999997,
          710.2957499999995,
          477.8709999999995,
          682.2807499999996,
          1646.1484999999996,
          168.83074999999948,
          61.26799999999948,
          560.4817499999996,
          205.31049999999948,
          2697.575,
          2754.8377499999997,
          2099.2879999999996,
          3875.0582499999996,
          3375.6155,
          1044.9769999999996,
          318.87799999999953,
          1297.3697499999996,
          1424.3592499999995,
          1208.1419999999996,
          1496.8704999999995,
          2298.4117499999998,
          2381.7332499999998,
          277.1222499999995,
          783.1857499999995,
          1198.2412499999996,
          491.8459999999995,
          470.45924999999954,
          997.2299999999996,
          756.9334999999995,
          198.9249999999995,
          256.0929999999995,
          165.2784999999995,
          168.6477499999995,
          488.7272499999995,
          649.7104999999996,
          514.3994999999995,
          772.9069999999996,
          2672.7327499999997,
          200.1509999999995,
          780.4267499999995,
          2095.3597499999996,
          1338.9999999999995,
          1588.1814999999997,
          1452.3477499999997,
          775.2899999999995,
          1288.0327499999996,
          1640.3889999999997,
          321.7807499999995,
          315.5057499999995,
          835.4754999999996,
          1112.9314999999997,
          299.7224999999995,
          639.1622499999995,
          1275.9597499999995,
          502.5617499999995,
          851.3044999999995,
          358.6977499999995,
          435.62224999999955,
          1492.6982499999997,
          491.60274999999956,
          394.5204999999995,
          1196.8727499999995,
          144.7577499999995,
          407.36799999999954,
          672.3077499999996,
          144.04224999999948,
          2251.1672499999995,
          1054.6012499999995,
          297.5669999999995,
          1047.3709999999996,
          1910.2574999999997,
          843.5844999999996,
          1097.5172499999996,
          1853.1694999999997,
          745.9894999999996,
          471.2879999999995,
          1240.3739999999996,
          2803.89425,
          787.7517499999996,
          252.5017499999995,
          306.3187499999995,
          714.3459999999995,
          307.8614999999995,
          248.5502499999995,
          795.6489999999995,
          2116.9559999999997,
          1023.9642499999995,
          1184.4534999999996,
          1831.5489999999998,
          1328.3202499999995,
          2377.218,
          2483.4842499999995,
          818.5982499999996,
          632.5132499999995,
          174.05574999999948,
          110.71499999999948,
          595.6694999999995,
          84.29374999999948,
          2840.582,
          621.0997499999995,
          1765.7852499999997,
          1094.7757499999996,
          502.2592499999995,
          550.7542499999995,
          2622.5035,
          297.1894999999995,
          1633.6237499999995,
          244.9124999999995,
          79.14074999999949,
          906.7029999999995,
          62.59749999999947,
          1381.1437499999995,
          2901.3075,
          2386.3639999999996,
          265.3304999999995,
          594.4642499999995,
          723.1702499999996,
          882.5142499999996,
          608.0222499999995,
          3234.9235,
          2224.86525,
          397.3334999999995,
          347.2899999999995,
          2214.4359999999997,
          1111.2017499999995,
          808.0029999999996,
          996.0274999999996,
          294.6749999999995,
          1120.3709999999996,
          2296.5004999999996,
          1034.1297499999996,
          1307.4042499999996,
          1768.8949999999998,
          286.6752499999995,
          2187.32725,
          1387.9622499999996,
          1183.3177499999995,
          1699.1859999999997,
          265.0964999999995,
          508.79074999999955,
          1109.7777499999995,
          586.3924999999996,
          488.2709999999995,
          868.1112499999996,
          979.1622499999995,
          2124.6769999999997,
          1319.8792499999997,
          1088.9719999999995,
          595.2824999999996,
          321.1949999999995,
          351.8522499999995,
          1471.1502499999997,
          233.4904999999995,
          2256.5815,
          311.6362499999995,
          1985.4147499999997,
          644.8299999999996,
          363.1499999999995,
          1508.9569999999997,
          1452.7097499999995,
          4240.041499999999,
          1046.1637499999995,
          661.1169999999995,
          1621.1147499999997,
          795.7897499999996,
          199.3457499999995,
          1926.8544999999997,
          1668.1639999999998,
          1249.0882499999996,
          541.2557499999996,
          968.0064999999996,
          426.01449999999954,
          798.6939999999995,
          850.8007499999995,
          1184.7239999999997,
          272.51974999999953,
          794.8972499999995,
          792.7687499999996,
          220.57149999999947,
          4677.036,
          876.5437499999996,
          638.5117499999996,
          1537.4897499999997,
          2998.2065,
          752.4842499999995,
          2112.6182499999995,
          3545.6814999999997,
          1093.5049999999997,
          600.6452499999996,
          991.5819999999995,
          351.5639999999995,
          272.5047499999995,
          1264.5432499999997,
          365.0719999999995,
          3376.9802499999996,
          1492.9169999999997,
          260.9542499999995,
          411.3817499999995,
          168.4584999999995,
          427.16349999999954,
          369.20249999999953,
          182.8664999999995,
          352.0129999999995,
          3595.95925,
          239.0379999999995,
          615.4504999999996,
          2027.5409999999997,
          2568.7115,
          303.0032499999995,
          1416.3459999999995,
          61.75324999999948,
          3452.40325,
          1074.9779999999996,
          676.5489999999995,
          401.02674999999954,
          619.6032499999995,
          152.8592499999995,
          834.9377499999996,
          452.2894999999995,
          332.8209999999995,
          1543.5622499999997,
          2599.7219999999998,
          1213.6102499999997,
          559.1492499999996,
          423.3212499999995,
          803.7679999999996,
          1800.8974999999996,
          1235.7772499999996,
          279.2334999999995,
          1321.6524999999997,
          484.04624999999953,
          3329.01675,
          1288.1762499999995,
          1594.6964999999996,
          1031.7122499999996,
          1934.3022499999997,
          608.1987499999996,
          450.3234999999995,
          556.4769999999995,
          520.6349999999995,
          632.7984999999995,
          813.1612499999995,
          1581.6359999999997,
          721.5977499999996,
          974.6864999999996,
          255.7142499999995,
          2255.3064999999997,
          665.2339999999996,
          656.6017499999996,
          3311.91025,
          1279.3737499999995,
          1682.8352499999996,
          504.21924999999953,
          728.1859999999996,
          373.6167499999995,
          1078.0579999999995,
          1172.6922499999996,
          2645.3099999999995,
          1361.0549999999996,
          1703.8299999999997,
          2465.1009999999997,
          4025.1322499999997,
          501.33824999999956,
          2457.4894999999997,
          280.5802499999995,
          1385.7044999999996,
          2781.36275,
          2870.42125,
          4052.3554999999997,
          1356.8109999999997,
          998.6379999999996,
          442.8282499999995,
          381.52699999999953,
          1546.8197499999997,
          567.3207499999995,
          568.5479999999995,
          1762.9124999999997,
          1473.3389999999997,
          1035.6242499999996,
          2516.27825,
          1646.6234999999997,
          238.4019999999995,
          478.52874999999955,
          3126.36275,
          742.8017499999995,
          1448.2417499999997,
          170.8749999999995,
          1166.4347499999997,
          2233.653,
          972.1457499999996,
          3903.95025,
          896.2709999999995,
          598.8307499999995,
          5090.336,
          894.9164999999996,
          667.7094999999996,
          1245.8249999999996,
          554.7059999999996,
          457.77124999999955,
          1483.8277499999997,
          651.3839999999996,
          251.9499999999995,
          1989.3417499999996,
          2063.0354999999995,
          1328.9489999999996,
          1898.4122499999996,
          825.8167499999995,
          638.6929999999995,
          283.4924999999995,
          347.3232499999995,
          2213.0487499999995,
          201.31999999999948,
          184.6074999999995,
          680.2987499999996,
          3743.00625,
          3104.8594999999996,
          2241.7279999999996,
          1791.9109999999996,
          407.15599999999955,
          2801.7234999999996,
          884.0137499999996,
          836.8877499999995,
          1146.6837499999997,
          847.2442499999995,
          1167.9564999999996,
          1321.0827499999996,
          2454.6135,
          968.0367499999995,
          901.4562499999996,
          2206.1645,
          516.2584999999996,
          112.09674999999949,
          1462.9832499999995,
          284.3877499999995,
          585.3122499999995,
          1141.4792499999996,
          1162.6507499999996,
          406.1752499999995,
          90.61024999999948,
          2239.5995,
          1093.5984999999996,
          1275.5692499999996,
          3406.5769999999998,
          353.2849999999995,
          1123.1967499999996,
          1427.5052499999997,
          2717.6265,
          3252.3869999999997,
          576.6059999999995,
          551.9847499999995,
          854.9952499999996,
          1671.2902499999996,
          630.0892499999995,
          1818.1494999999998,
          390.26499999999953,
          2282.70875,
          2867.4452499999998,
          2589.9602499999996,
          1558.0202499999996,
          2733.5119999999997,
          553.9524999999995,
          1140.0724999999995,
          821.2019999999995,
          593.7284999999995,
          446.01924999999954,
          3226.191,
          901.1847499999996,
          1993.6204999999998,
          1955.7622499999998,
          3361.6347499999997,
          1417.1907499999995,
          630.2874999999996,
          945.8609999999995,
          2078.16425,
          1012.5167499999995,
          484.5754999999995,
          551.9577499999996,
          842.5399999999996,
          2398.2887499999997,
          2749.7437499999996,
          3115.9314999999997,
          1244.2627499999996,
          1500.4104999999997,
          121.38699999999949,
          1225.1482499999995,
          983.2447499999996,
          597.6919999999996,
          3226.3509999999997,
          418.4939999999995,
          586.2947499999996,
          199.6442499999995,
          180.9542499999995,
          2195.7425,
          1615.0602499999995,
          1238.7134999999996,
          243.4469999999995,
          684.0472499999995,
          2069.5229999999997,
          625.0442499999996,
          540.7124999999995,
          853.7559999999995,
          891.5599999999996,
          924.4764999999995,
          2599.8622499999997,
          574.0289999999995,
          2605.2045,
          3499.997,
          702.7952499999996,
          2020.3839999999996,
          1299.5029999999997,
          990.1147499999996,
          1118.6744999999996,
          328.3432499999995,
          1471.4539999999997,
          1141.6929999999995,
          2655.9494999999997,
          1010.6972499999996,
          1633.8542499999996,
          778.5829999999996,
          621.1324999999996,
          499.20174999999955,
          482.3309999999995,
          527.1579999999996,
          613.6234999999996,
          828.0279999999996,
          478.7224999999995,
          608.5314999999995,
          711.0157499999996,
          820.5264999999996,
          347.8277499999995,
          1861.5409999999997,
          713.3549999999996,
          460.6309999999995,
          1138.2547499999996,
          2486.0767499999997,
          314.8747499999995,
          4406.228,
          2773.51275,
          2562.4062499999995,
          1906.1734999999996,
          1703.6352499999996,
          796.5377499999995,
          986.3492499999995,
          4724.043,
          931.8149999999996,
          1436.6604999999997,
          2365.1229999999996,
          508.3432499999995,
          768.9677499999996,
          1783.7247499999996,
          954.0152499999996,
          749.7322499999996,
          841.8302499999995,
          854.5699999999996,
          1144.7422499999996,
          4425.55225,
          3585.4035,
          1403.2332499999995,
          1142.4822499999996,
          5181.025,
          3212.5679999999998,
          981.6422499999995,
          1585.3854999999996,
          3525.3875,
          1874.4867499999996,
          2757.90825,
          1925.1864999999996,
          292.5112499999995,
          712.5534999999995,
          2183.932,
          688.7274999999995,
          228.5712499999995,
          2523.5967499999997,
          886.5367499999995,
          595.8747499999995,
          329.6649999999995,
          298.3547499999995,
          345.4002499999995,
          619.0597499999996,
          266.52449999999953,
          44.05474999999948,
          2739.7675,
          874.6754999999996,
          125.59024999999949,
          3370.3179999999998,
          407.9824999999995,
          458.62474999999955,
          1261.9074999999996,
          1600.1432499999996,
          796.1587499999996,
          382.2874999999995,
          427.48324999999954,
          308.0474999999995,
          1073.7162499999997,
          1129.2567499999996,
          2076.1294999999996,
          1607.0727499999996,
          408.2299999999995,
          946.7567499999996,
          1384.4294999999995,
          882.9232499999996,
          1063.1819999999996,
          491.9917499999995,
          1351.2907499999997,
          544.2304999999996,
          333.9417499999995,
          296.2764999999995,
          1041.5082499999996,
          451.2784999999995,
          491.32499999999953,
          2680.8594999999996,
          378.3592499999995,
          1353.8124999999995,
          1162.4117499999995,
          435.83399999999955,
          2021.3567499999997,
          472.02399999999955,
          1766.6864999999996,
          1415.2912499999995,
          1523.5762499999996,
          2222.4174999999996,
          879.6854999999996,
          2303.4419999999996,
          1815.2132499999996,
          1448.9134999999997,
          236.3372499999995,
          1481.5492499999996,
          3442.2887499999997,
          733.4259999999996,
          1153.5554999999995,
          433.8454999999995,
          1874.6374999999996,
          156.00524999999948,
          118.48499999999947,
          1295.5542499999997,
          1246.1944999999996,
          1059.4059999999995,
          807.3989999999995,
          1958.1549999999997,
          2045.0342499999997,
          912.4297499999996,
          1771.4932499999998,
          1562.3024999999996,
          593.9807499999996,
          3250.1949999999997,
          3315.6077499999997,
          1583.2562499999997,
          1148.4509999999996,
          2582.3557499999997,
          1544.8822499999997,
          160.3639999999995,
          334.0117499999995,
          143.4207499999995,
          792.5014999999995,
          481.63399999999956,
          1854.6557499999997,
          1697.5192499999996,
          1115.9497499999995,
          1301.0077499999995,
          1362.3334999999997,
          695.2172499999996,
          468.7002499999995,
          241.4127499999995,
          476.69424999999956,
          83.82224999999949,
          294.5059999999995,
          657.1422499999995,
          473.1822499999995,
          154.4069999999995,
          301.5877499999995,
          772.7174999999995,
          735.7554999999995,
          886.8012499999995,
          843.0927499999996,
          679.9252499999996,
          779.7427499999995,
          3000.7839999999997,
          1029.4919999999995,
          1256.7042499999995,
          1128.2037499999997,
          1214.9924999999996,
          202.99924999999948,
          211.3152499999995,
          594.6847499999996,
          116.0007499999995,
          1159.5639999999996,
          534.5602499999995,
          652.1984999999995,
          1039.3959999999995,
          722.7354999999995,
          494.8349999999995,
          1817.7884999999997,
          3161.2169999999996,
          4007.28975,
          3160.0699999999997,
          529.7762499999995,
          736.6489999999995,
          1332.7859999999996,
          317.66649999999953,
          1425.8619999999996,
          2861.8862499999996,
          3328.6702499999997,
          1301.7462499999997,
          986.8282499999996,
          2014.5969999999998,
          2494.9512499999996,
          881.5284999999996,
          1139.5314999999996,
          491.9517499999995,
          774.0437499999996,
          1898.2639999999997,
          1829.7269999999996,
          964.9002499999996,
          621.4224999999996,
          1053.0747499999995,
          826.6857499999995,
          2613.81875,
          367.3512499999995,
          1971.3077499999997,
          462.5467499999995,
          1280.6622499999996,
          733.9244999999995,
          448.4272499999995,
          252.67199999999949,
          95.57974999999949,
          2168.3879999999995,
          319.0209999999995,
          130.4519999999995,
          818.9399999999996,
          508.01199999999955,
          1458.6172499999996,
          3993.4044999999996,
          2302.07725,
          1464.8422499999997,
          1014.9577499999996,
          337.5067499999995,
          1935.8257499999997,
          5497.90475,
          440.7609999999995,
          372.4682499999995,
          444.6722499999995,
          387.37499999999955,
          515.7364999999995,
          1182.5269999999996,
          323.64474999999953,
          405.26649999999955,
          796.2914999999996,
          608.3222499999996,
          85.12174999999948,
          1167.8902499999997,
          322.0937499999995,
          1172.7499999999995,
          669.5687499999996,
          285.9732499999995,
          1082.8892499999995,
          853.3819999999996,
          164.7579999999995,
          1051.2592499999996,
          330.7184999999995,
          2272.3199999999997,
          1573.2067499999996,
          424.37274999999954,
          569.5254999999995,
          704.5384999999995,
          122.29674999999949,
          453.9337499999995,
          2357.2617499999997,
          478.2989999999995,
          606.4999999999995,
          190.0317499999995,
          2355.5177499999995,
          175.62299999999948,
          488.2174999999995,
          2689.0807499999996,
          1363.2342499999995,
          1071.9199999999996,
          447.0444999999995,
          888.7024999999995,
          688.4754999999996,
          788.0129999999996,
          1107.6477499999996,
          1202.5002499999996,
          2882.3597499999996,
          280.2919999999995,
          263.1352499999995,
          2388.04625,
          304.0649999999995,
          526.6684999999995,
          566.2567499999996,
          137.3814999999995,
          115.74099999999947,
          622.7964999999996,
          925.7257499999996,
          1806.9449999999997,
          953.9984999999996,
          991.2367499999996,
          1165.0509999999997,
          179.2747499999995,
          782.4502499999995,
          387.7014999999995,
          1180.1684999999995,
          2547.7752499999997,
          837.7959999999996,
          768.3114999999996,
          402.6532499999995,
          826.3709999999995,
          1259.0972499999996,
          495.32249999999954,
          2066.6155,
          514.3967499999995,
          3122.604,
          1157.5984999999996,
          973.7632499999996,
          280.58924999999954,
          287.2359999999995,
          289.3184999999995,
          944.9022499999995,
          2879.9462499999995,
          2470.2594999999997,
          983.1532499999996,
          1306.5054999999995,
          1506.2137499999997,
          2496.7219999999998,
          1710.6202499999997,
          2754.8487499999997,
          465.5064999999995,
          1682.8404999999996,
          221.2492499999995,
          839.4517499999996,
          144.71574999999947,
          1159.2959999999996,
          252.57449999999952,
          838.8192499999996,
          7575.47025,
          2494.50575,
          396.7992499999995,
          2460.7844999999998,
          1141.1107499999996,
          2894.2502499999996,
          531.6294999999996,
          1386.8407499999996,
          3348.9669999999996,
          638.2904999999995,
          1520.2887499999997,
          1732.9909999999998,
          270.2669999999995,
          578.0302499999996,
          903.7742499999996,
          405.3517499999995,
          1428.9047499999997,
          2723.1294999999996,
          1445.6474999999996,
          2380.5244999999995,
          644.2812499999995,
          2293.8894999999998,
          204.3302499999995,
          1728.7547499999996,
          1502.6472499999995,
          1945.6857499999996,
          1392.4249999999997,
          794.2124999999995,
          1156.9429999999995,
          2650.5272499999996,
          282.6554999999995,
          1035.2069999999997,
          1711.5657499999998,
          107.60999999999949,
          727.7672499999995,
          3640.17825,
          902.1914999999996,
          1352.1187499999996,
          1532.0712499999997,
          513.2447499999995,
          1496.3084999999996,
          527.9984999999996,
          91.83099999999948,
          84.81024999999948,
          190.8579999999995,
          2778.9447499999997,
          1598.0667499999997,
          1667.3729999999996,
          986.9692499999995,
          1746.8904999999997,
          2447.98775,
          664.3954999999995,
          741.3607499999996,
          593.2522499999995,
          1463.9167499999996,
          3226.60675,
          1279.1922499999996,
          741.9167499999995,
          1348.0377499999995,
          3952.8089999999997,
          623.9822499999996,
          617.4644999999996,
          849.2954999999996,
          607.1829999999995,
          2057.7257499999996,
          3612.2322499999996,
          428.14974999999953,
          2021.2519999999997,
          252.2779999999995,
          421.57949999999954,
          910.8849999999995,
          1262.8592499999995,
          983.0072499999995,
          262.8247499999995,
          930.8072499999996,
          341.5467499999995,
          826.1959999999996,
          843.7122499999996,
          431.1727499999995,
          654.4627499999996,
          1012.0154999999996,
          2400.4652499999997,
          1953.4704999999997,
          1836.7079999999996,
          250.4597499999995,
          648.2154999999996,
          2004.5034999999998,
          3018.4689999999996,
          2148.7839999999997,
          401.09899999999953,
          1107.6824999999997,
          1618.2454999999995,
          748.9464999999996,
          729.7217499999996,
          950.4992499999996,
          696.3687499999995,
          468.22849999999954,
          533.3522499999996,
          1882.1864999999996,
          1176.9579999999996,
          902.3814999999996,
          1102.3664999999996,
          3661.6769999999997,
          2911.8174999999997,
          2926.51725,
          852.0839999999996,
          297.3147499999995,
          1044.5354999999995,
          2808.2065,
          1215.1437499999995,
          1178.6504999999995,
          345.66124999999954,
          1762.0132499999997,
          975.3787499999996,
          228.9627499999995,
          413.5639999999995,
          871.1077499999996,
          155.6357499999995,
          497.3282499999995,
          462.24049999999954,
          581.5499999999995,
          2495.9015,
          2522.01275,
          1286.9692499999996,
          296.2774999999995,
          4322.635249999999,
          404.0662499999995,
          781.0332499999996,
          2432.4887499999995,
          1171.0677499999997,
          1163.3804999999995,
          309.4429999999995,
          1033.1152499999996,
          627.0389999999995,
          1175.0497499999997,
          1553.8472499999996,
          2099.0942499999996,
          758.9052499999996,
          573.0314999999996,
          635.7502499999996,
          2004.9302499999997,
          1596.3062499999996,
          445.15649999999954,
          1339.6464999999996,
          2448.4885,
          1190.1634999999997,
          856.2059999999996,
          1955.4862499999997,
          1506.2549999999997,
          716.5624999999995,
          399.1622499999995,
          1024.1319999999996,
          633.5807499999995,
          1329.9467499999996,
          826.8677499999995,
          2866.32525,
          1642.5034999999996,
          1413.9847499999996,
          1726.4387499999996,
          920.9114999999996,
          1138.9169999999997,
          1186.5394999999996,
          1546.7569999999996,
          875.6894999999996,
          391.7954999999995,
          1297.3999999999996,
          1111.3102499999995,
          844.8594999999996,
          2669.5557499999995,
          2866.89,
          191.9119999999995,
          2246.8419999999996,
          330.9537499999995,
          821.2484999999996,
          368.20249999999953,
          304.2679999999995,
          978.3879999999996,
          2298.9504999999995,
          2409.2212499999996,
          1505.0959999999995,
          809.6124999999996,
          639.5457499999995,
          242.61324999999948,
          395.5649999999995,
          2109.92575,
          527.6697499999996,
          456.87474999999955,
          1213.3517499999996,
          958.0129999999996,
          1972.8899999999996,
          860.1272499999995,
          3049.9815,
          381.9192499999995,
          187.4919999999995,
          3495.7844999999998,
          2225.8312499999997,
          209.1734999999995,
          196.2607499999995,
          201.4044999999995,
          673.0392499999996,
          710.6329999999996,
          603.9269999999996,
          356.6307499999995,
          688.2144999999996,
          206.6449999999995,
          473.0854999999995,
          929.3887499999996,
          486.5567499999995,
          1492.8472499999996,
          2498.0227499999996,
          776.9234999999995,
          839.5664999999996,
          205.1584999999995,
          764.7582499999995,
          2051.6364999999996,
          216.57624999999948,
          716.8644999999996,
          648.1819999999996,
          906.8119999999996,
          1529.2704999999996,
          290.3782499999995,
          929.6657499999995,
          134.49799999999948,
          137.78224999999946,
          614.2789999999995,
          2677.2212499999996,
          1422.8294999999996,
          626.3714999999995,
          298.4904999999995,
          4428.5822499999995,
          4650.53025,
          528.7994999999995,
          1092.0969999999995,
          253.03499999999948,
          111.90774999999948,
          1674.6544999999996,
          1046.0999999999997,
          1158.0744999999995,
          1352.9957499999996,
          2121.4689999999996,
          3290.995,
          430.7102499999995,
          1284.3999999999996,
          874.5862499999996,
          1006.2524999999996,
          864.5402499999996,
          543.5827499999996,
          758.9284999999995,
          1576.1194999999996,
          1176.4704999999997,
          3372.2684999999997,
          224.9644999999995,
          812.0282499999996,
          2436.2062499999997,
          1308.3802499999997,
          1703.3182499999996,
          1900.1832499999996,
          3387.1755,
          2065.9427499999997,
          793.3117499999996,
          127.5862499999995,
          1531.4132499999996,
          798.9887499999995,
          477.5857499999995,
          418.51224999999954,
          741.1889999999995,
          3745.9069999999997,
          148.2567499999995,
          1340.9697499999995,
          897.7384999999996,
          2080.0467499999995,
          1874.3522499999997,
          2212.0757499999995,
          803.5847499999995,
          697.2847499999996,
          1522.9182499999997,
          490.42799999999954,
          306.6324999999995,
          2328.4504999999995,
          446.20674999999954,
          393.3339999999995,
          1002.4334999999996,
          2174.4799999999996,
          1934.7252499999997,
          936.4167499999995,
          379.08449999999954,
          331.4137499999995,
          1675.4669999999996,
          163.36799999999948,
          586.8637499999995,
          1257.3039999999996,
          884.0287499999996,
          1851.0249999999996,
          2059.54825,
          286.8709999999995,
          2043.8179999999998,
          248.9232499999995,
          298.6269999999995,
          3221.06875,
          493.4939999999995,
          494.5969999999995,
          361.3029999999995,
          625.3627499999996,
          1274.3057499999995,
          927.5207499999996,
          1381.7262499999997,
          337.76474999999954,
          1736.3259999999996,
          1951.6254999999996,
          3344.85225,
          647.6584999999995,
          1358.1982499999997,
          2369.5064999999995,
          707.1474999999996,
          251.0822499999995,
          2542.25825,
          580.7604999999995,
          606.6832499999996,
          153.2199999999995,
          1066.5542499999997,
          2916.4995,
          869.3707499999996,
          3320.8079999999995,
          1314.0919999999996,
          1103.5814999999996,
          281.2987499999995,
          736.5049999999995,
          197.8314999999995,
          3508.55325,
          3228.0337499999996,
          2546.4419999999996,
          3199.55775,
          786.7084999999996,
          291.84224999999947,
          276.1489999999995,
          187.6532499999995,
          404.5669999999995,
          175.8382499999995,
          142.63474999999949,
          527.3359999999996,
          850.1147499999996,
          875.1969999999995,
          3188.5122499999998,
          2769.66475,
          670.9302499999995,
          366.30349999999953,
          431.99824999999953,
          2260.9112499999997,
          2874.6369999999997,
          3741.88825,
          2972.7794999999996,
          1231.9492499999997,
          268.1092499999995,
          682.0527499999996,
          874.3149999999996,
          678.3652499999996,
          1281.0374999999997,
          273.5019999999995,
          680.1549999999995,
          2721.9239999999995,
          436.2107499999995,
          791.6409999999995,
          3743.33925,
          777.7512499999996,
          365.3449999999995,
          479.7347499999995,
          2242.25825,
          1286.9384999999995,
          934.3042499999996,
          758.0257499999996,
          440.6139999999995,
          814.3027499999996,
          2493.9602499999996,
          526.1089999999996,
          2202.9629999999997,
          582.9004999999995,
          1237.9994999999997,
          949.5892499999995,
          458.8167499999995,
          577.5344999999995,
          682.4702499999995,
          2585.6207499999996,
          943.3429999999996,
          429.5569999999995,
          468.1947499999995,
          1153.2754999999995,
          313.25799999999947
         ],
         "xaxis": "x",
         "y": [
          3.746863578217812,
          3.777869574302048,
          3.875453359501622,
          3.8222937293800987,
          3.7925362586085143,
          3.7234689828608385,
          3.731235231175902,
          3.6701842773230315,
          3.5540376928133632,
          3.853142758065522,
          3.7126693371406376,
          3.6276813059997686,
          3.644506022132967,
          3.7424915180525375,
          3.829050196125511,
          3.8514024814433663,
          3.8653315652766427,
          3.749101750627666,
          3.6155875415006093,
          3.6628968766218235,
          3.7770951865472395,
          3.7660340407649864,
          3.6148189266523874,
          3.673336617279768,
          3.8004036516635766,
          3.757911494962882,
          3.87816712092481,
          3.7931156148406915,
          3.6830792617017454,
          3.815685005933374,
          3.6103606125878,
          3.776231992747996,
          3.617254821071778,
          3.7959558673883445,
          3.69884714607654,
          3.7735625520125824,
          3.749308029589442,
          3.718285287744989,
          3.6830730463097527,
          3.8407182493845022,
          3.7325012891551737,
          3.8492285456179576,
          3.496730125296291,
          3.5921013932817654,
          3.5829623742289964,
          3.7304224496966443,
          3.959656085785548,
          3.640690439152596,
          3.6954460342255273,
          3.696407140086169,
          3.70566404992605,
          3.6146272259391083,
          3.6316119249702106,
          3.7003922640597713,
          3.645398841596224,
          3.7409755066315133,
          3.6612473639476875,
          3.808438277636375,
          3.6412326212647024,
          3.539668693685286,
          3.8699499656095178,
          3.7608050002302678,
          3.8470180500710613,
          3.794556256062882,
          3.6841050376969022,
          3.733486289905727,
          3.587061152090831,
          3.722454340554294,
          3.641601977150268,
          3.6166201405035197,
          3.5242185071697483,
          3.7843991529827576,
          3.733808066476038,
          3.654818586923996,
          3.793799500513302,
          3.9323487660438246,
          3.463936459395965,
          3.890850420136674,
          3.785692031150928,
          3.7367970024660635,
          3.631120239156976,
          3.7113146349038773,
          3.704039645538064,
          3.6096434434098326,
          3.7984700089251673,
          3.7270638774249294,
          3.820337137115528,
          3.831102357229161,
          3.701039134237574,
          3.8181788988686067,
          3.7021358457898534,
          3.6470288640160216,
          3.5714344003364755,
          3.7385909961399877,
          3.602376704618657,
          3.5758936178128957,
          3.6373161954366195,
          3.6496563172267606,
          3.699053404398943,
          3.7191398864083784,
          3.5619927014203867,
          3.5317576956940395,
          3.666409504246006,
          3.972064375026986,
          3.726834684098319,
          3.865729538835605,
          3.7237710938941397,
          3.5490269027183023,
          3.880597281210278,
          3.6429077996315256,
          3.675129989882125,
          3.6441823960776834,
          3.7123711831670434,
          3.5055029387511807,
          3.7339139844454774,
          3.8412202773775728,
          3.54331544662678,
          3.8610744047591536,
          3.8168553544503494,
          3.756645175735706,
          3.83819905609613,
          3.8138591681809464,
          3.897778363431816,
          3.691929175947041,
          3.8261246911923252,
          3.644873273193174,
          3.6187518684431734,
          3.75936926972581,
          3.834888267996146,
          3.843299289925503,
          3.6156919210014826,
          3.61615636855132,
          3.6765235341214457,
          3.6312601664505584,
          3.662435000502118,
          3.781781215676761,
          3.745795636082396,
          3.779894714666081,
          3.7229292784628436,
          3.774024103335931,
          3.7560072722689353,
          3.7187597060113227,
          3.7409161249654432,
          3.756980133640149,
          3.54303337813747,
          3.6166526671654022,
          3.8618960131527356,
          3.7532491089785673,
          3.8916863395400956,
          3.686516544186353,
          3.7771269742846645,
          3.7469441356992066,
          3.788311165792871,
          3.7809072085965525,
          3.8058545422015655,
          3.7571039871845864,
          3.70845180023186,
          3.745431006906724,
          3.6664235212408745,
          3.689963688995736,
          3.7912642988153964,
          3.7527755788387083,
          3.525631902085265,
          3.7667753832803177,
          3.801536718056529,
          4.050552456352433,
          3.7599067401634327,
          3.565497792476638,
          3.737236155507204,
          3.6768388627478026,
          3.671243701921388,
          3.7572374289643036,
          3.672358245357586,
          3.871942128930278,
          3.7341785230983593,
          3.6641955472150425,
          3.634454334123264,
          3.875921853254015,
          3.7777944931390834,
          3.6247764688285553,
          3.6336363050446296,
          3.7623247009903564,
          3.7349172666156374,
          3.560732853619462,
          3.779175031463619,
          3.793102338575813,
          3.6576955676227896,
          3.8470087752596998,
          3.729504956148495,
          3.816830541980049,
          3.755388729370987,
          3.708333553433488,
          3.5534468685046616,
          3.7367963793213352,
          3.7066725311707645,
          3.8114076751625907,
          3.762359713799441,
          3.5917085153543904,
          3.7641116426181016,
          3.7590067601978276,
          4.043436227482595,
          3.7194470235758943,
          3.8047971135893643,
          3.8107410239821853,
          3.8501385400038712,
          3.7981940961382623,
          3.7686112238858884,
          3.7521800350769996,
          3.6805664018806934,
          3.8592982224813976,
          3.7328468885504296,
          3.730136161971673,
          3.805506802093699,
          3.7381323228627994,
          3.694853439350778,
          3.781465198797017,
          3.851395726730597,
          3.623641400107071,
          3.6978148045817067,
          3.717199975894788,
          3.6595870298646034,
          3.5961095810585304,
          3.7008030950611257,
          3.71586647493947,
          3.671189534467712,
          3.701251586387934,
          3.838712494295784,
          3.7009492423562445,
          3.726317288859989,
          3.8198147070487916,
          3.746777829446774,
          3.5449694818949373,
          3.539925359341227,
          3.5853171074972146,
          3.756987532504687,
          3.7683287072968676,
          3.813879426780737,
          3.711754632921531,
          3.8471791233125123,
          3.6767805432428853,
          3.6833561632702527,
          3.60261329236528,
          3.5629803638770605,
          3.7528370070038246,
          3.6041401338107675,
          3.569356612541195,
          3.7166207887083456,
          3.6637783493600717,
          3.6255508820533207,
          3.532017755068697,
          3.6333527487683965,
          3.6428449334042643,
          3.708067058418727,
          3.9468870603532875,
          3.627023425148921,
          3.6400381386995195,
          3.7460790229017205,
          3.698031451348973,
          3.8587721397654033,
          3.6852295764870275,
          3.7331315342548517,
          3.709530668481106,
          3.6949493217063782,
          3.5936102627974953,
          3.6971769526230713,
          3.788922181498316,
          3.5582059388119145,
          3.5818980342012847,
          3.7722774241494914,
          3.861592554056859,
          3.8987424806793536,
          3.788787118520807,
          3.778118705934808,
          3.602760488863417,
          3.6684981427410435,
          3.6903634063403294,
          3.826399273693728,
          3.942247795953218,
          3.975004562658841,
          3.505719590833074,
          3.51584383000874,
          3.715684787976242,
          3.9873869473706702,
          3.9859685207218583,
          3.492146402035992,
          3.6728434842928994,
          3.6975301871846433,
          3.680526680138396,
          3.64655595231008,
          3.4988914139056355,
          3.7755816487418805,
          3.7021167812661644,
          3.7351285552141205,
          3.6876074276912303,
          3.704098378428205,
          3.6178229510674016,
          3.766440654202499,
          3.6370628811112455,
          3.7591857268769906,
          3.63015065211028,
          3.654310119384599,
          3.7707755054641967,
          3.7569196747680254,
          3.6119191982532866,
          3.691280202966276,
          3.7278347450675673,
          3.6483006982629034,
          3.682990646133855,
          3.907577519993879,
          3.9499504112451684,
          3.7171158276768863,
          3.7171355139597306,
          3.930383277838013,
          3.72251238320025,
          3.8936990289227196,
          3.883420183598609,
          3.840216296141754,
          3.8542310312472807,
          3.780868154053112,
          3.8045403339888195,
          3.658971237601869,
          3.7175865313552277,
          3.739415440344829,
          3.707298225075015,
          3.7794287706182415,
          3.753741157074651,
          3.816093034261815,
          3.786426807678157,
          3.7141887783546075,
          3.7402332216050533,
          3.6793992049322126,
          3.580126900194119,
          3.6862581972007815,
          3.54688780246542,
          3.8256164765992926,
          3.53532231701642,
          3.5297896687875947,
          3.711818741853512,
          3.713065672169524,
          3.7267422133310752,
          3.7990696779216835,
          3.727787436725904,
          3.7644778922606266,
          3.6803976905424234,
          3.485635018076713,
          3.6499096040080365,
          3.8356013961774504,
          3.7180537554718396,
          3.5803211621322224,
          3.7811538108421887,
          3.8236130211924375,
          3.7119239784052693,
          3.6292964279780615,
          3.7039317412350425,
          3.6997492651534203,
          3.8141295177855805,
          3.780354967651083,
          3.7453817970536574,
          3.5405890735441377,
          3.848954252771132,
          3.6439371548582566,
          3.7832294118077163,
          3.6939085851952562,
          3.6842849127976054,
          3.670877007793148,
          3.6993462290088,
          3.593246927940697,
          3.7663585965440394,
          3.626386878280386,
          3.6808807704367315,
          3.760206830943065,
          3.7654273269529366,
          3.874942160246346,
          3.7427276421243953,
          3.826635225116988,
          3.795772095969943,
          3.6546412338848793,
          3.764067212857128,
          3.831750995021124,
          3.740454775633309,
          3.862087952412956,
          3.6089616998715246,
          3.816337359426838,
          3.6597123866874286,
          3.6689638131093663,
          3.6743641938568157,
          3.7984186126233865,
          3.805482816418319,
          3.720010914718693,
          3.5618474576120414,
          3.6807503752869413,
          3.9340378545849495,
          3.7190062534726342,
          3.9295803628992636,
          3.707820200245344,
          3.7597874661311153,
          3.689678964220197,
          3.5673108119922974,
          3.8020277202006953,
          3.907697091764075,
          3.6260382531524415,
          3.803880066773675,
          3.5935199152642063,
          3.7774485770531747,
          3.8720806498054614,
          3.60207612171434,
          3.6948632010609743,
          3.733223743926808,
          3.865864606415573,
          3.6635947725883518,
          3.9166955578221705,
          3.76442679649284,
          3.5365055726196797,
          3.7440358595065866,
          3.779448951392554,
          3.705923186319997,
          3.81103998643058,
          3.6915821967125724,
          3.5166115997264003,
          3.495387796315608,
          3.7312639083842147,
          3.7096140755278393,
          3.650228000828786,
          3.7488264735581893,
          3.7915663569092044,
          3.85636967847792,
          3.7045353802336063,
          3.749964366724835,
          3.5663912260414237,
          3.6044747907947574,
          3.6588882956651343,
          3.819126587451275,
          3.7925487034823573,
          3.7232203424040087,
          3.6708153478624577,
          3.685648710113468,
          3.6952756197177976,
          3.678632569153775,
          3.93205210304485,
          3.918368338460688,
          3.649378781106696,
          3.6844267831534787,
          3.825620847026752,
          3.782218344063712,
          3.7495615143595886,
          3.678010277828247,
          3.702576292392789,
          3.7220394129826606,
          3.762916586871214,
          3.9837683946108395,
          3.6756284006432076,
          3.765941490887424,
          3.6008219271669373,
          3.666060734541616,
          3.65707566393844,
          3.394163162559871,
          3.6438118253529685,
          3.6374404671291654,
          3.6922037105986396,
          3.6726021995775198,
          3.750315931402767,
          3.538705070340569,
          3.621647393530281,
          3.7983778699598307,
          3.684259763147452,
          3.6637223961047534,
          3.6277706645619197,
          3.748093392633345,
          3.654957617052631,
          3.701279316789141,
          3.632666106415012,
          3.751390265312394,
          3.6444063629443746,
          3.837112208392488,
          3.703510008316133,
          3.678500410360526,
          3.5531678680611565,
          3.7659897367092565,
          3.727230461365425,
          3.6826991073396598,
          3.708688280842374,
          3.518730134272248,
          3.7897192528502566,
          3.6556499803716473,
          3.5973310460586045,
          3.614057480085726,
          3.7644130915584784,
          3.7230191508136743,
          3.6487519263048496,
          3.814010415298962,
          3.753910897614661,
          3.754617354492234,
          3.763577231081898,
          3.6517066137925274,
          3.861872864559552,
          3.673001402801184,
          3.781569578402678,
          3.6505909346805616,
          3.660653310708591,
          3.792574023977056,
          3.6358691902355753,
          3.7046006777862424,
          3.7486958861633255,
          3.627344189978494,
          3.7800912069034838,
          3.6944130349679223,
          3.876722870369105,
          3.6872850066000398,
          3.6301327730068773,
          3.6706481687421215,
          3.744742770922226,
          3.6462468283181386,
          3.847788186434016,
          3.6400649305816506,
          3.689659499264301,
          3.829571306996063,
          3.778585201857071,
          3.8133307524367273,
          3.7407788186362945,
          3.8279676392754562,
          3.576318077109205,
          3.500163232985121,
          3.917420920609423,
          3.756244781839051,
          3.709673773091141,
          3.8296921132932784,
          3.7100317516601815,
          3.6132569970544672,
          3.70216438646487,
          3.7056622001577164,
          3.7554797762098957,
          3.7374298460714512,
          3.6239283320713866,
          3.681177749850391,
          3.6602637286975654,
          3.65086083561333,
          3.8135690543941085,
          3.7416751404227666,
          3.777150345030939,
          3.800536022108774,
          3.868689398992543,
          3.589985992715516,
          3.838660452112455,
          3.8477387893726456,
          3.8207476769702353,
          3.734668268901883,
          3.668934112032543,
          3.7893978064671523,
          3.6146437303540306,
          3.7239926315130534,
          3.5981008207452394,
          3.70804451526757,
          3.591271832426007,
          3.645516842865743,
          3.743818932710546,
          3.952129000218605,
          3.9203396646550988,
          3.6444338223401713,
          3.944092581445985,
          3.6732051859068866,
          3.6758476315571817,
          3.8235967721082242,
          3.7805672717234136,
          3.7807806552737717,
          3.753813999223656,
          3.6978300957918564,
          3.7712612763838576,
          3.7135764827559354,
          3.7131480812976414,
          3.787669214642893,
          3.872227440808663,
          3.851910518739677,
          3.760074191313962,
          3.896030108297477,
          3.7599810047897613,
          3.7582959883331863,
          3.7315101498530963,
          3.885544925438858,
          3.6987880661599712,
          3.7967585125607783,
          3.7582428057878086,
          3.692563482228462,
          3.857648094287563,
          3.7482422373315667,
          3.6899031546639187,
          3.775639013655945,
          3.707163238016124,
          3.7308952992966393,
          3.79164539449873,
          3.7711783857188315,
          3.666334488825158,
          3.6618411662701025,
          3.7916091595423937,
          3.5402151002862627,
          3.7915481591654503,
          3.808913822178434,
          3.7594627988485856,
          3.733276966141124,
          3.8908528583608186,
          3.762211298102906,
          3.7888482281367555,
          3.8672411489636294,
          3.7702566189241282,
          3.7984800065867192,
          3.7987114320923125,
          3.754054746224323,
          3.680010566177667,
          3.8108726172947938,
          3.799607893709208,
          3.825971713767414,
          3.684000290543734,
          3.6663053614705268,
          3.8638578193953013,
          3.8253157384766467,
          3.850846860217276,
          3.693724000883412,
          3.821425399336855,
          3.910712955041274,
          3.7425371003409995,
          3.7392332994009143,
          3.814668302506701,
          3.645328999371176,
          3.709036529770266,
          3.842498184618922,
          3.805926785626188,
          3.512904211947934,
          3.6880098216843393,
          3.7170254356139685,
          3.9575553827216647,
          3.608996151486701,
          3.6713234816024594,
          3.539650694340848,
          3.8905851521224966,
          3.6693262172218604,
          3.6191205686852514,
          3.5654104173283847,
          3.68827191576526,
          3.6411455187967814,
          3.888428538243212,
          3.8357293631591665,
          3.8033023427348773,
          3.710666493459138,
          3.6740117855101175,
          3.7549557737408024,
          3.70515399143507,
          3.802128273555586,
          3.6351051941624375,
          3.7165561810014216,
          3.7472738228122884,
          3.8381191801419896,
          3.573263627743564,
          3.564474214869425,
          3.7689088074862536,
          3.7830545405595286,
          3.726224564280194,
          3.902805642277895,
          3.7377214828563043,
          3.635843357210181,
          3.767277126128079,
          3.6913308665120064,
          3.7288648330855634,
          3.7608948443086074,
          3.5741516868833596,
          3.5955645760442922,
          3.764789261817559,
          3.716193861823199,
          3.700469853585819,
          3.632821113684722,
          3.680967401145501,
          3.8834886180930743,
          3.75900228108528,
          3.618091358083631,
          3.7671454000683653,
          3.7311181364630697,
          3.7433149833117394,
          3.673284265768537,
          3.7948762655665327,
          3.7469759985448006,
          3.7579462391418472,
          3.718884643609861,
          3.7762973064999397,
          3.60894686101777,
          3.7668142265285405,
          3.859539574024539,
          3.825846661260746,
          3.9588134859842787,
          3.886587671089956,
          3.573661735735825,
          3.6056447568601873,
          3.611544451625497,
          3.67918214381217,
          3.614161587086987,
          3.837181804767842,
          3.7767637917852697,
          3.8240005445998437,
          3.6519263850735655,
          3.6870881691248796,
          3.745721665009186,
          3.598667979380172,
          3.5640567919628365,
          3.713943513100852,
          3.810600844728009,
          3.8422035389820492,
          3.799495990031093,
          3.7379194579958446,
          3.7333012822276848,
          3.67941913488122,
          3.867665524879002,
          3.743755108058368,
          3.7082285395035175,
          3.6117585382110162,
          3.687333753200427,
          3.7729291725534333,
          3.6365990098015026,
          3.6711202874302047,
          3.63789954545647,
          3.7792442712902345,
          3.697531746350383,
          3.840759003948385,
          3.7624423839478665,
          3.7613486622344228,
          3.646377659656288,
          3.6585327458271992,
          3.6046708105774923,
          3.558147884114595,
          3.7848223578851945,
          3.772591806146161,
          3.70190300546771,
          3.7269096868188396,
          3.622266435275268,
          3.7085629354341805,
          3.6228344824055463,
          3.7912650283587506,
          3.699430101840886,
          3.750034782699539,
          3.7296631918176955,
          3.7591187676386912,
          3.8167825094311003,
          3.580977246389147,
          3.9356787525125787,
          3.5139463237829145,
          3.8069540613693365,
          3.668625712772201,
          3.835067217100041,
          3.6836783755807474,
          3.598345157332709,
          3.751216726997708,
          3.7848407883312603,
          3.641834898430518,
          3.6940658884239586,
          3.5654032676875564,
          3.61445622527371,
          3.8456618388575414,
          3.7037421180152013,
          3.775349988394374,
          3.563924489225127,
          3.614411026075448,
          3.6201540915988586,
          3.7848443283421975,
          3.6446728683680125,
          3.68254058016426,
          3.5346575412936154,
          3.7589629381139025,
          3.7705946887483437,
          3.736103799427968,
          3.6708116576277043,
          3.678945134455395,
          3.801429565960227,
          3.935516495109241,
          3.6420188977297308,
          3.8131886797298526,
          3.8623771247674843,
          3.8053453404127047,
          3.782376377919054,
          3.901976810748193,
          3.77504024584618,
          3.724942893143944,
          3.657038846902126,
          3.7032891770129095,
          3.654905292897786,
          3.827100203939406,
          3.7310104405911386,
          3.7800451765753666,
          3.831624214196363,
          3.732833107958588,
          3.7857015266108984,
          3.6503765814651383,
          3.5853713624024546,
          3.560967499374994,
          3.8804517349887475,
          3.7491818443743097,
          3.700433569206373,
          3.703528755205636,
          3.7232629810367284,
          3.5524543491384595,
          3.6835934731032847,
          3.7553115794597405,
          3.6815844486793283,
          3.6975791530833613,
          3.680557612235526,
          3.8258497401987874,
          3.5716266630966125,
          3.53887445093322,
          3.6675681207221538,
          3.8596581165721244,
          3.61510574996931,
          3.740936195595938,
          3.9196307176952043,
          3.777326827256328,
          3.600896293162057,
          3.7499607064503566,
          3.7641766786513338,
          3.7510634396545632,
          3.6962540348492285,
          3.6949652165333546,
          3.629681214690672,
          3.7187107025735195,
          3.655822956267161,
          3.813220242668138,
          3.689224477002098,
          3.6841125488782502,
          3.696193423220107,
          3.650044646672586,
          3.5869793537589567,
          3.6882678543177176,
          3.7862447903281287,
          3.6713042312205686,
          3.854641692028347,
          3.7975103326556034,
          3.6785358007103026,
          3.7500889161936817,
          3.734251501491083,
          3.728156531993094,
          3.7087931945222294,
          3.7334104305670177,
          3.7338570142424574,
          3.7526767842701543,
          3.628911963280075,
          3.7802527462153583,
          3.6043375306527907,
          3.757648160006049,
          3.7536007799237545,
          3.6582233247465137,
          3.7271178219553915,
          3.811862466370581,
          3.896697322392359,
          3.6423214567292277,
          3.805556038211618,
          3.6974343170345887,
          3.676187108267756,
          3.700433152652283,
          3.6305622895209977,
          3.9007765455806878,
          3.7903748356598355,
          3.804722624826564,
          3.8153386371849525,
          3.6219428339434856,
          3.7396525562972887,
          3.7483940172657917,
          3.548115967003072,
          3.4324307209448,
          3.7753149707348506,
          3.9128080733027586,
          3.8896401565437033,
          4.034667838435743,
          3.7908843470310343,
          3.809322678515568,
          3.8013368254221023,
          3.8028867793712218,
          3.7054494524806687,
          3.667073311866112,
          3.655252812769612,
          3.7098001140677384,
          3.7985587451358933,
          3.876636269047502,
          3.7232044437121994,
          3.6910033915941987,
          3.7905166053395236,
          3.7430030700990997,
          3.5567253796003557,
          3.5139310391685368,
          3.676251103292956,
          3.6782303489906862,
          3.636334300876096,
          3.752302425344736,
          3.6287116989548034,
          3.4644963077102946,
          3.5544914269765,
          3.583376649167703,
          3.5145175018529775,
          3.602064801371427,
          3.783452838919577,
          3.820137045941588,
          3.873098524928876,
          3.6497255942213664,
          3.7649420662361304,
          3.7428417668750313,
          3.8270080826793107,
          3.7551335155961967,
          3.7746305971861105,
          3.6020372411559594,
          3.6637317672774774,
          3.5767166229818197,
          3.6884542220382177,
          3.749748770973916,
          3.814068608227707,
          3.88070943322163,
          3.793161165834738,
          3.721799550166871,
          3.6556901409407585,
          3.810731065043682,
          3.952147798424016,
          3.6929437799849407,
          3.6222938612543896,
          3.8899298442741372,
          3.7417394094952323,
          3.690802834188446,
          3.903920746321349,
          3.6815605387359644,
          3.7306004725779465,
          3.73890898863058,
          3.8852941931635314,
          3.940848492372671,
          3.749014312741622,
          3.71188499618488,
          3.8065471771865917,
          3.522507077913461,
          3.653377091145919,
          3.673654967662973,
          3.6359210731281792,
          3.809569343673699,
          3.614985199883973,
          3.7710191991474455,
          3.5418441393780538,
          3.8898704478907513,
          3.727982634680105,
          3.7869816600185313,
          3.778296278126953,
          3.707244456518829,
          3.7923923888854754,
          3.7315366907749943,
          3.4778380450104778,
          3.5975719011621883,
          3.634846998562189,
          3.568941518519026,
          3.753947781341069,
          3.8332120704213124,
          3.843633721654343,
          3.7949338986751457,
          3.6364179036465045,
          3.5942413091082552,
          3.8450001359656016,
          3.669609767187007,
          3.427840822925769,
          3.688504774576562,
          3.655809110245767,
          3.7348690900229164,
          3.7195502582629008,
          3.787107684787037,
          3.7244369903282415,
          3.752402822602287,
          3.7296251128987152,
          3.8193714884124548,
          3.724577660833377,
          3.6290623660917625,
          3.7240550682659506,
          3.776408470068595,
          3.7588784503254855,
          3.6666026639944582,
          3.7263156006990714,
          3.7130866981144193,
          3.7343244420690302,
          3.618683943245351,
          3.6789572369755437,
          3.749457563500683,
          3.794880482808656,
          3.71524311900012,
          3.531854410689927,
          3.529176601567211,
          3.6346833793279663,
          3.6477081809033693,
          3.724777342201432,
          3.709498574539922,
          3.748344808087042,
          3.709294405621058,
          3.762945726936608,
          3.562636805153319,
          3.4376969249317146,
          3.591312244369316,
          3.6687981464177866,
          3.591984488577828,
          3.8559457830523995,
          3.9169768457798044,
          3.60024437974787,
          3.756067758555729,
          3.762267315896918,
          3.696987516851087,
          3.6133715122217898,
          3.6006905481410167,
          3.6097343517978295,
          3.7803229010492627,
          3.948731966073786,
          3.9455839236786265,
          3.8883545133573105,
          3.5577230582583614,
          3.6580344923768937,
          3.831316429355185,
          3.785944359344622,
          3.5270653795956126,
          3.8054948799642387,
          3.7845392434738674,
          3.6184500097401235,
          3.777977568016237,
          3.8132829552113034,
          3.780569310462309,
          3.8074800594075735,
          3.7112751488826627,
          3.6029982598163866,
          3.637569642719474,
          3.5475599989578956,
          3.7855838054829722,
          3.5486624187908475,
          3.814136460526725,
          3.677365503260347,
          3.6489036242483475,
          3.6670596081946005,
          3.570479158847442,
          3.6378147490247037,
          3.776018269687229,
          3.7212049587147873,
          3.7650089676387175,
          3.806425655740426,
          3.768177749162232,
          3.6463743471700982,
          3.7747681024415773,
          3.6747374153913936,
          3.672811570012835,
          3.7579740904328474,
          3.778100759305785,
          3.7989375682896176,
          3.906714912339937,
          3.6941394171934854,
          3.723736259118727,
          3.6904559099069774,
          3.6736711720601187,
          3.6440771815343638,
          3.690661764379394,
          3.7990735632487267,
          3.6044554072308,
          3.6402218682538945,
          3.712521904678248,
          3.671949978874704,
          3.703333816826614,
          3.744929720153979,
          3.7018654429702673,
          3.657401808185737,
          3.837263067823195,
          3.654403737472056,
          3.6305437018945153,
          3.6788133038802817,
          3.6798216185220816,
          3.7762888893799413,
          3.718058976586529,
          3.7904876955114175,
          3.6554150874463955,
          3.7226631862931168,
          3.7084063300564862,
          3.8899003548173616,
          3.7084161308033488,
          3.7212185083825986,
          3.796618920494943,
          3.6739893181342924,
          3.753920258970878,
          3.706878583553588,
          3.6348446147522147,
          3.6876981532167474,
          3.6114930091374626,
          3.7611234099435347,
          3.6366001726069364,
          3.595954293824205,
          3.7694922897529937,
          3.608809942680242,
          3.613182584807786,
          3.564205483736149,
          3.579191461146329,
          3.781316288161587,
          3.569353988530483,
          3.642512627536876,
          3.6166061395777502,
          3.6793922369253043,
          3.719697283167951,
          3.697027141638418,
          3.6682277427211045,
          3.7121919175850833,
          3.819108446905867,
          3.5092428456644638,
          3.660033405272616,
          3.7764619472405334,
          3.6518985950090057,
          3.6870091513698733,
          3.666596653444771,
          4.054354997062432,
          3.776076734827529,
          3.7817328710286175,
          3.777513219117359,
          3.711668352734183,
          3.804675479254722,
          3.772022801173618,
          3.7337857094321096,
          3.872806615187296,
          3.89694344265156,
          3.7655771510559393,
          3.8356923403529835,
          3.7808505228447595,
          3.685612663446507,
          3.9199149303128715,
          3.859438565137224,
          3.803055277359382,
          3.699926821520126,
          3.769222950875938,
          3.735664671283428,
          3.7945246550539298,
          3.803990547148293,
          3.7698488850249796,
          3.783444208305715,
          3.6821390377056264,
          3.751783882448429,
          3.765871349151398
         ],
         "yaxis": "y"
        }
       ],
       "layout": {
        "coloraxis": {
         "colorbar": {
          "title": {
           "text": "Average Rating"
          }
         },
         "colorscale": [
          [
           0,
           "rgb(0,0,131)"
          ],
          [
           0.2,
           "rgb(0,60,170)"
          ],
          [
           0.4,
           "rgb(5,255,255)"
          ],
          [
           0.6,
           "rgb(255,255,0)"
          ],
          [
           0.8,
           "rgb(250,0,0)"
          ],
          [
           1,
           "rgb(128,0,0)"
          ]
         ]
        },
        "height": 500,
        "legend": {
         "itemsizing": "constant",
         "tracegroupgap": 0
        },
        "margin": {
         "t": 60
        },
        "template": {
         "data": {
          "bar": [
           {
            "error_x": {
             "color": "#2a3f5f"
            },
            "error_y": {
             "color": "#2a3f5f"
            },
            "marker": {
             "line": {
              "color": "#E5ECF6",
              "width": 0.5
             },
             "pattern": {
              "fillmode": "overlay",
              "size": 10,
              "solidity": 0.2
             }
            },
            "type": "bar"
           }
          ],
          "barpolar": [
           {
            "marker": {
             "line": {
              "color": "#E5ECF6",
              "width": 0.5
             },
             "pattern": {
              "fillmode": "overlay",
              "size": 10,
              "solidity": 0.2
             }
            },
            "type": "barpolar"
           }
          ],
          "carpet": [
           {
            "aaxis": {
             "endlinecolor": "#2a3f5f",
             "gridcolor": "white",
             "linecolor": "white",
             "minorgridcolor": "white",
             "startlinecolor": "#2a3f5f"
            },
            "baxis": {
             "endlinecolor": "#2a3f5f",
             "gridcolor": "white",
             "linecolor": "white",
             "minorgridcolor": "white",
             "startlinecolor": "#2a3f5f"
            },
            "type": "carpet"
           }
          ],
          "choropleth": [
           {
            "colorbar": {
             "outlinewidth": 0,
             "ticks": ""
            },
            "type": "choropleth"
           }
          ],
          "contour": [
           {
            "colorbar": {
             "outlinewidth": 0,
             "ticks": ""
            },
            "colorscale": [
             [
              0,
              "#0d0887"
             ],
             [
              0.1111111111111111,
              "#46039f"
             ],
             [
              0.2222222222222222,
              "#7201a8"
             ],
             [
              0.3333333333333333,
              "#9c179e"
             ],
             [
              0.4444444444444444,
              "#bd3786"
             ],
             [
              0.5555555555555556,
              "#d8576b"
             ],
             [
              0.6666666666666666,
              "#ed7953"
             ],
             [
              0.7777777777777778,
              "#fb9f3a"
             ],
             [
              0.8888888888888888,
              "#fdca26"
             ],
             [
              1,
              "#f0f921"
             ]
            ],
            "type": "contour"
           }
          ],
          "contourcarpet": [
           {
            "colorbar": {
             "outlinewidth": 0,
             "ticks": ""
            },
            "type": "contourcarpet"
           }
          ],
          "heatmap": [
           {
            "colorbar": {
             "outlinewidth": 0,
             "ticks": ""
            },
            "colorscale": [
             [
              0,
              "#0d0887"
             ],
             [
              0.1111111111111111,
              "#46039f"
             ],
             [
              0.2222222222222222,
              "#7201a8"
             ],
             [
              0.3333333333333333,
              "#9c179e"
             ],
             [
              0.4444444444444444,
              "#bd3786"
             ],
             [
              0.5555555555555556,
              "#d8576b"
             ],
             [
              0.6666666666666666,
              "#ed7953"
             ],
             [
              0.7777777777777778,
              "#fb9f3a"
             ],
             [
              0.8888888888888888,
              "#fdca26"
             ],
             [
              1,
              "#f0f921"
             ]
            ],
            "type": "heatmap"
           }
          ],
          "heatmapgl": [
           {
            "colorbar": {
             "outlinewidth": 0,
             "ticks": ""
            },
            "colorscale": [
             [
              0,
              "#0d0887"
             ],
             [
              0.1111111111111111,
              "#46039f"
             ],
             [
              0.2222222222222222,
              "#7201a8"
             ],
             [
              0.3333333333333333,
              "#9c179e"
             ],
             [
              0.4444444444444444,
              "#bd3786"
             ],
             [
              0.5555555555555556,
              "#d8576b"
             ],
             [
              0.6666666666666666,
              "#ed7953"
             ],
             [
              0.7777777777777778,
              "#fb9f3a"
             ],
             [
              0.8888888888888888,
              "#fdca26"
             ],
             [
              1,
              "#f0f921"
             ]
            ],
            "type": "heatmapgl"
           }
          ],
          "histogram": [
           {
            "marker": {
             "pattern": {
              "fillmode": "overlay",
              "size": 10,
              "solidity": 0.2
             }
            },
            "type": "histogram"
           }
          ],
          "histogram2d": [
           {
            "colorbar": {
             "outlinewidth": 0,
             "ticks": ""
            },
            "colorscale": [
             [
              0,
              "#0d0887"
             ],
             [
              0.1111111111111111,
              "#46039f"
             ],
             [
              0.2222222222222222,
              "#7201a8"
             ],
             [
              0.3333333333333333,
              "#9c179e"
             ],
             [
              0.4444444444444444,
              "#bd3786"
             ],
             [
              0.5555555555555556,
              "#d8576b"
             ],
             [
              0.6666666666666666,
              "#ed7953"
             ],
             [
              0.7777777777777778,
              "#fb9f3a"
             ],
             [
              0.8888888888888888,
              "#fdca26"
             ],
             [
              1,
              "#f0f921"
             ]
            ],
            "type": "histogram2d"
           }
          ],
          "histogram2dcontour": [
           {
            "colorbar": {
             "outlinewidth": 0,
             "ticks": ""
            },
            "colorscale": [
             [
              0,
              "#0d0887"
             ],
             [
              0.1111111111111111,
              "#46039f"
             ],
             [
              0.2222222222222222,
              "#7201a8"
             ],
             [
              0.3333333333333333,
              "#9c179e"
             ],
             [
              0.4444444444444444,
              "#bd3786"
             ],
             [
              0.5555555555555556,
              "#d8576b"
             ],
             [
              0.6666666666666666,
              "#ed7953"
             ],
             [
              0.7777777777777778,
              "#fb9f3a"
             ],
             [
              0.8888888888888888,
              "#fdca26"
             ],
             [
              1,
              "#f0f921"
             ]
            ],
            "type": "histogram2dcontour"
           }
          ],
          "mesh3d": [
           {
            "colorbar": {
             "outlinewidth": 0,
             "ticks": ""
            },
            "type": "mesh3d"
           }
          ],
          "parcoords": [
           {
            "line": {
             "colorbar": {
              "outlinewidth": 0,
              "ticks": ""
             }
            },
            "type": "parcoords"
           }
          ],
          "pie": [
           {
            "automargin": true,
            "type": "pie"
           }
          ],
          "scatter": [
           {
            "fillpattern": {
             "fillmode": "overlay",
             "size": 10,
             "solidity": 0.2
            },
            "type": "scatter"
           }
          ],
          "scatter3d": [
           {
            "line": {
             "colorbar": {
              "outlinewidth": 0,
              "ticks": ""
             }
            },
            "marker": {
             "colorbar": {
              "outlinewidth": 0,
              "ticks": ""
             }
            },
            "type": "scatter3d"
           }
          ],
          "scattercarpet": [
           {
            "marker": {
             "colorbar": {
              "outlinewidth": 0,
              "ticks": ""
             }
            },
            "type": "scattercarpet"
           }
          ],
          "scattergeo": [
           {
            "marker": {
             "colorbar": {
              "outlinewidth": 0,
              "ticks": ""
             }
            },
            "type": "scattergeo"
           }
          ],
          "scattergl": [
           {
            "marker": {
             "colorbar": {
              "outlinewidth": 0,
              "ticks": ""
             }
            },
            "type": "scattergl"
           }
          ],
          "scattermapbox": [
           {
            "marker": {
             "colorbar": {
              "outlinewidth": 0,
              "ticks": ""
             }
            },
            "type": "scattermapbox"
           }
          ],
          "scatterpolar": [
           {
            "marker": {
             "colorbar": {
              "outlinewidth": 0,
              "ticks": ""
             }
            },
            "type": "scatterpolar"
           }
          ],
          "scatterpolargl": [
           {
            "marker": {
             "colorbar": {
              "outlinewidth": 0,
              "ticks": ""
             }
            },
            "type": "scatterpolargl"
           }
          ],
          "scatterternary": [
           {
            "marker": {
             "colorbar": {
              "outlinewidth": 0,
              "ticks": ""
             }
            },
            "type": "scatterternary"
           }
          ],
          "surface": [
           {
            "colorbar": {
             "outlinewidth": 0,
             "ticks": ""
            },
            "colorscale": [
             [
              0,
              "#0d0887"
             ],
             [
              0.1111111111111111,
              "#46039f"
             ],
             [
              0.2222222222222222,
              "#7201a8"
             ],
             [
              0.3333333333333333,
              "#9c179e"
             ],
             [
              0.4444444444444444,
              "#bd3786"
             ],
             [
              0.5555555555555556,
              "#d8576b"
             ],
             [
              0.6666666666666666,
              "#ed7953"
             ],
             [
              0.7777777777777778,
              "#fb9f3a"
             ],
             [
              0.8888888888888888,
              "#fdca26"
             ],
             [
              1,
              "#f0f921"
             ]
            ],
            "type": "surface"
           }
          ],
          "table": [
           {
            "cells": {
             "fill": {
              "color": "#EBF0F8"
             },
             "line": {
              "color": "white"
             }
            },
            "header": {
             "fill": {
              "color": "#C8D4E3"
             },
             "line": {
              "color": "white"
             }
            },
            "type": "table"
           }
          ]
         },
         "layout": {
          "annotationdefaults": {
           "arrowcolor": "#2a3f5f",
           "arrowhead": 0,
           "arrowwidth": 1
          },
          "autotypenumbers": "strict",
          "coloraxis": {
           "colorbar": {
            "outlinewidth": 0,
            "ticks": ""
           }
          },
          "colorscale": {
           "diverging": [
            [
             0,
             "#8e0152"
            ],
            [
             0.1,
             "#c51b7d"
            ],
            [
             0.2,
             "#de77ae"
            ],
            [
             0.3,
             "#f1b6da"
            ],
            [
             0.4,
             "#fde0ef"
            ],
            [
             0.5,
             "#f7f7f7"
            ],
            [
             0.6,
             "#e6f5d0"
            ],
            [
             0.7,
             "#b8e186"
            ],
            [
             0.8,
             "#7fbc41"
            ],
            [
             0.9,
             "#4d9221"
            ],
            [
             1,
             "#276419"
            ]
           ],
           "sequential": [
            [
             0,
             "#0d0887"
            ],
            [
             0.1111111111111111,
             "#46039f"
            ],
            [
             0.2222222222222222,
             "#7201a8"
            ],
            [
             0.3333333333333333,
             "#9c179e"
            ],
            [
             0.4444444444444444,
             "#bd3786"
            ],
            [
             0.5555555555555556,
             "#d8576b"
            ],
            [
             0.6666666666666666,
             "#ed7953"
            ],
            [
             0.7777777777777778,
             "#fb9f3a"
            ],
            [
             0.8888888888888888,
             "#fdca26"
            ],
            [
             1,
             "#f0f921"
            ]
           ],
           "sequentialminus": [
            [
             0,
             "#0d0887"
            ],
            [
             0.1111111111111111,
             "#46039f"
            ],
            [
             0.2222222222222222,
             "#7201a8"
            ],
            [
             0.3333333333333333,
             "#9c179e"
            ],
            [
             0.4444444444444444,
             "#bd3786"
            ],
            [
             0.5555555555555556,
             "#d8576b"
            ],
            [
             0.6666666666666666,
             "#ed7953"
            ],
            [
             0.7777777777777778,
             "#fb9f3a"
            ],
            [
             0.8888888888888888,
             "#fdca26"
            ],
            [
             1,
             "#f0f921"
            ]
           ]
          },
          "colorway": [
           "#636efa",
           "#EF553B",
           "#00cc96",
           "#ab63fa",
           "#FFA15A",
           "#19d3f3",
           "#FF6692",
           "#B6E880",
           "#FF97FF",
           "#FECB52"
          ],
          "font": {
           "color": "#2a3f5f"
          },
          "geo": {
           "bgcolor": "white",
           "lakecolor": "white",
           "landcolor": "#E5ECF6",
           "showlakes": true,
           "showland": true,
           "subunitcolor": "white"
          },
          "hoverlabel": {
           "align": "left"
          },
          "hovermode": "closest",
          "mapbox": {
           "style": "light"
          },
          "paper_bgcolor": "white",
          "plot_bgcolor": "#E5ECF6",
          "polar": {
           "angularaxis": {
            "gridcolor": "white",
            "linecolor": "white",
            "ticks": ""
           },
           "bgcolor": "#E5ECF6",
           "radialaxis": {
            "gridcolor": "white",
            "linecolor": "white",
            "ticks": ""
           }
          },
          "scene": {
           "xaxis": {
            "backgroundcolor": "#E5ECF6",
            "gridcolor": "white",
            "gridwidth": 2,
            "linecolor": "white",
            "showbackground": true,
            "ticks": "",
            "zerolinecolor": "white"
           },
           "yaxis": {
            "backgroundcolor": "#E5ECF6",
            "gridcolor": "white",
            "gridwidth": 2,
            "linecolor": "white",
            "showbackground": true,
            "ticks": "",
            "zerolinecolor": "white"
           },
           "zaxis": {
            "backgroundcolor": "#E5ECF6",
            "gridcolor": "white",
            "gridwidth": 2,
            "linecolor": "white",
            "showbackground": true,
            "ticks": "",
            "zerolinecolor": "white"
           }
          },
          "shapedefaults": {
           "line": {
            "color": "#2a3f5f"
           }
          },
          "ternary": {
           "aaxis": {
            "gridcolor": "white",
            "linecolor": "white",
            "ticks": ""
           },
           "baxis": {
            "gridcolor": "white",
            "linecolor": "white",
            "ticks": ""
           },
           "bgcolor": "#E5ECF6",
           "caxis": {
            "gridcolor": "white",
            "linecolor": "white",
            "ticks": ""
           }
          },
          "title": {
           "x": 0.05
          },
          "xaxis": {
           "automargin": true,
           "gridcolor": "white",
           "linecolor": "white",
           "ticks": "",
           "title": {
            "standoff": 15
           },
           "zerolinecolor": "white",
           "zerolinewidth": 2
          },
          "yaxis": {
           "automargin": true,
           "gridcolor": "white",
           "linecolor": "white",
           "ticks": "",
           "title": {
            "standoff": 15
           },
           "zerolinecolor": "white",
           "zerolinewidth": 2
          }
         }
        },
        "width": 800,
        "xaxis": {
         "anchor": "y",
         "autorange": true,
         "domain": [
          0,
          1
         ],
         "range": [
          -436.0040426020887,
          8250.774109245222
         ],
         "title": {
          "text": "Frequency of genome tag in all movies"
         },
         "type": "linear"
        },
        "yaxis": {
         "anchor": "x",
         "autorange": true,
         "domain": [
          0,
          1
         ],
         "range": [
          3.3480162603581647,
          4.099871788379462
         ],
         "title": {
          "text": "Average Rating"
         },
         "type": "linear"
        }
       }
      },
      "image/png": "[encoded data removed]",
      "text/html": [
       "<div>                            <div id=\"64841b8b-570f-4ef3-bbdc-4e341de08944\" class=\"plotly-graph-div\" style=\"height:500px; width:800px;\"></div>            <script type=\"text/javascript\">                require([\"plotly\"], function(Plotly) {                    window.PLOTLYENV=window.PLOTLYENV || {};                                    if (document.getElementById(\"64841b8b-570f-4ef3-bbdc-4e341de08944\")) {                    Plotly.newPlot(                        \"64841b8b-570f-4ef3-bbdc-4e341de08944\",                        [{\"customdata\":[[\"007\"],[\"007 (series)\"],[\"18th century\"],[\"1920s\"],[\"1930s\"],[\"1950s\"],[\"1960s\"],[\"1970s\"],[\"1980s\"],[\"19th century\"],[\"3d\"],[\"70mm\"],[\"80s\"],[\"9\\u002f11\"],[\"aardman\"],[\"aardman studios\"],[\"abortion\"],[\"absurd\"],[\"action\"],[\"action packed\"],[\"adaptation\"],[\"adapted from:book\"],[\"adapted from:comic\"],[\"adapted from:game\"],[\"addiction\"],[\"adolescence\"],[\"adoption\"],[\"adultery\"],[\"adventure\"],[\"affectionate\"],[\"afi 100\"],[\"afi 100 (laughs)\"],[\"afi 100 (movie quotes)\"],[\"africa\"],[\"afterlife\"],[\"aging\"],[\"aids\"],[\"airplane\"],[\"airport\"],[\"alaska\"],[\"alcatraz\"],[\"alcoholism\"],[\"alien\"],[\"alien invasion\"],[\"aliens\"],[\"allegory\"],[\"almodovar\"],[\"alone in the world\"],[\"alter ego\"],[\"alternate endings\"],[\"alternate history\"],[\"alternate reality\"],[\"alternate universe\"],[\"amazing cinematography\"],[\"amazing photography\"],[\"american civil war\"],[\"amnesia\"],[\"amy smart\"],[\"android(s)\\u002fcyborg(s)\"],[\"androids\"],[\"animal movie\"],[\"animals\"],[\"animated\"],[\"animation\"],[\"anime\"],[\"antarctica\"],[\"anti-hero\"],[\"anti-semitism\"],[\"anti-war\"],[\"apocalypse\"],[\"archaeology\"],[\"argentina\"],[\"arms dealer\"],[\"arnold\"],[\"art\"],[\"art house\"],[\"artificial intelligence\"],[\"artist\"],[\"artistic\"],[\"artsy\"],[\"assassin\"],[\"assassination\"],[\"assassins\"],[\"astronauts\"],[\"atheism\"],[\"atmospheric\"],[\"australia\"],[\"australian\"],[\"author:alan moore\"],[\"author:neil gaiman\"],[\"autism\"],[\"aviation\"],[\"awesome\"],[\"awesome soundtrack\"],[\"awful\"],[\"bad\"],[\"bad acting\"],[\"bad cgi\"],[\"bad ending\"],[\"bad plot\"],[\"bad science\"],[\"bad script\"],[\"bad sequel\"],[\"ballet\"],[\"bank robbery\"],[\"baseball\"],[\"based on a book\"],[\"based on a comic\"],[\"based on a play\"],[\"based on a true story\"],[\"based on a tv show\"],[\"based on a video game\"],[\"based on book\"],[\"based on comic\"],[\"based on true story\"],[\"basketball\"],[\"batman\"],[\"bdsm\"],[\"beatles\"],[\"beautiful\"],[\"beautiful scenery\"],[\"beautifully filmed\"],[\"beauty pageant\"],[\"beer\"],[\"berlin\"],[\"best of 2005\"],[\"best war films\"],[\"betrayal\"],[\"better than expected\"],[\"better than the american version\"],[\"biblical\"],[\"big budget\"],[\"biographical\"],[\"biography\"],[\"biopic\"],[\"birds\"],[\"biting\"],[\"bittersweet\"],[\"bizarre\"],[\"black and white\"],[\"black comedy\"],[\"blaxploitation\"],[\"bleak\"],[\"blindness\"],[\"blood\"],[\"bloody\"],[\"boarding school\"],[\"boat\"],[\"bollywood\"],[\"bombs\"],[\"bond\"],[\"book\"],[\"book was better\"],[\"books\"],[\"boring\"],[\"boring!\"],[\"boston\"],[\"bowling\"],[\"boxing\"],[\"brainwashing\"],[\"brazil\"],[\"breathtaking\"],[\"brilliant\"],[\"british\"],[\"british comedy\"],[\"broadway\"],[\"brothers\"],[\"brutal\"],[\"brutality\"],[\"buddy movie\"],[\"bullshit history\"],[\"bullying\"],[\"business\"],[\"c.s. lewis\"],[\"california\"],[\"camp\"],[\"campy\"],[\"canada\"],[\"cancer\"],[\"cannibalism\"],[\"caper\"],[\"capitalism\"],[\"car chase\"],[\"carrie-anne moss\"],[\"cars\"],[\"cartoon\"],[\"casino\"],[\"catastrophe\"],[\"cathartic\"],[\"catholicism\"],[\"censorship\"],[\"cerebral\"],[\"cgi\"],[\"character study\"],[\"chase\"],[\"cheating\"],[\"cheerleading\"],[\"cheesy\"],[\"chess\"],[\"chicago\"],[\"chick flick\"],[\"child abuse\"],[\"childhood\"],[\"children\"],[\"china\"],[\"chocolate\"],[\"chris tucker\"],[\"christian\"],[\"christianity\"],[\"christmas\"],[\"cia\"],[\"cinematography\"],[\"circus\"],[\"civil war\"],[\"classic\"],[\"classic car\"],[\"classical music\"],[\"claustrophobic\"],[\"claymation\"],[\"clever\"],[\"clones\"],[\"cloning\"],[\"clowns\"],[\"coen bros\"],[\"coen brothers\"],[\"cold war\"],[\"college\"],[\"colonialism\"],[\"colourful\"],[\"comedy\"],[\"comic\"],[\"comic book\"],[\"comic book adaption\"],[\"comics\"],[\"coming of age\"],[\"coming-of-age\"],[\"communism\"],[\"compassionate\"],[\"competition\"],[\"complex\"],[\"complex characters\"],[\"complicated\"],[\"complicated plot\"],[\"computer animation\"],[\"computer game\"],[\"computers\"],[\"con artists\"],[\"con men\"],[\"confrontational\"],[\"confusing\"],[\"conspiracy\"],[\"conspiracy theory\"],[\"controversial\"],[\"cooking\"],[\"cool\"],[\"corny\"],[\"corporate america\"],[\"corruption\"],[\"costume drama\"],[\"courage\"],[\"court\"],[\"courtroom\"],[\"courtroom drama\"],[\"crappy sequel\"],[\"crazy\"],[\"creativity\"],[\"creepy\"],[\"crime\"],[\"crime gone awry\"],[\"criterion\"],[\"cross dressing\"],[\"crude humor\"],[\"cuba\"],[\"cult\"],[\"cult classic\"],[\"cult film\"],[\"culture clash\"],[\"cute\"],[\"cute!\"],[\"cyberpunk\"],[\"cyborgs\"],[\"cynical\"],[\"dance\"],[\"dancing\"],[\"dark\"],[\"dark comedy\"],[\"dark fantasy\"],[\"dark hero\"],[\"dark humor\"],[\"dc comics\"],[\"deadpan\"],[\"death\"],[\"death penalty\"],[\"demons\"],[\"depp & burton\"],[\"depressing\"],[\"depression\"],[\"desert\"],[\"destiny\"],[\"detective\"],[\"devil\"],[\"dialogue\"],[\"dialogue driven\"],[\"dinosaurs\"],[\"directorial debut\"],[\"disability\"],[\"disappointing\"],[\"disaster\"],[\"disney\"],[\"disney animated feature\"],[\"distopia\"],[\"disturbing\"],[\"divorce\"],[\"doctors\"],[\"documentary\"],[\"dog\"],[\"dogs\"],[\"dolphins\"],[\"downbeat\"],[\"dr. seuss\"],[\"dragon\"],[\"dragons\"],[\"drama\"],[\"dramatic\"],[\"dreamlike\"],[\"dreams\"],[\"dreamworks\"],[\"drinking\"],[\"drug abuse\"],[\"drug addiction\"],[\"drugs\"],[\"dumb\"],[\"dumb but funny\"],[\"dynamic cgi action\"],[\"dysfunctional family\"],[\"dystopia\"],[\"dystopic future\"],[\"earnest\"],[\"easily confused with other movie(s) (title)\"],[\"east germany\"],[\"eccentricity\"],[\"ecology\"],[\"educational\"],[\"eerie\"],[\"effects\"],[\"egypt\"],[\"emma watson\"],[\"emotional\"],[\"end of the world\"],[\"england\"],[\"enigmatic\"],[\"ennio morricone\"],[\"enormously long battle scene\"],[\"ensemble cast\"],[\"entertaining\"],[\"entirely dialogue\"],[\"environment\"],[\"environmental\"],[\"epic\"],[\"erotic\"],[\"espionage\"],[\"ethnic conflict\"],[\"evolution\"],[\"excellent\"],[\"excellent script\"],[\"exceptional acting\"],[\"exciting\"],[\"existentialism\"],[\"explosions\"],[\"factual\"],[\"fairy tale\"],[\"fairy tales\"],[\"fake documentary\"],[\"family\"],[\"family bonds\"],[\"family drama\"],[\"fantasy\"],[\"fantasy world\"],[\"farce\"],[\"fascism\"],[\"fashion\"],[\"fast paced\"],[\"father daughter relationship\"],[\"father son relationship\"],[\"father-son relationship\"],[\"fbi\"],[\"feel good movie\"],[\"feel-good\"],[\"fight scenes\"],[\"fighting\"],[\"fighting the system\"],[\"figure skating\"],[\"film noir\"],[\"finnish\"],[\"firefly\"],[\"first contact\"],[\"fish\"],[\"flashbacks\"],[\"food\"],[\"football\"],[\"forceful\"],[\"foreign\"],[\"foul language\"],[\"fountain of youth\"],[\"france\"],[\"franchise\"],[\"francis ford copolla\"],[\"free speech\"],[\"free to download\"],[\"freedom\"],[\"french\"],[\"friendship\"],[\"frightening\"],[\"fun\"],[\"fun movie\"],[\"funniest movies\"],[\"funny\"],[\"funny as hell\"],[\"future\"],[\"futuristic\"],[\"gambling\"],[\"gangs\"],[\"gangster\"],[\"gangsters\"],[\"gay\"],[\"gay character\"],[\"geek\"],[\"geeks\"],[\"genetics\"],[\"genius\"],[\"genocide\"],[\"george orwell\"],[\"german\"],[\"germany\"],[\"ghosts\"],[\"ghosts\\u002fafterlife\"],[\"giant robots\"],[\"gilliam\"],[\"girlie movie\"],[\"glbt\"],[\"global warming\"],[\"god\"],[\"golden palm\"],[\"golf\"],[\"good\"],[\"good acting\"],[\"good action\"],[\"good dialogue\"],[\"good music\"],[\"good romantic comedies\"],[\"good sequel\"],[\"good soundtrack\"],[\"good story\"],[\"good versus evil\"],[\"goofy\"],[\"gore\"],[\"goretastic\"],[\"gory\"],[\"goth\"],[\"gothic\"],[\"graphic design\"],[\"graphic novel\"],[\"gratuitous violence\"],[\"great\"],[\"great acting\"],[\"great cinematography\"],[\"great dialogue\"],[\"great ending\"],[\"great movie\"],[\"great music\"],[\"great soundtrack\"],[\"greed\"],[\"grim\"],[\"grindhouse\"],[\"gritty\"],[\"gross-out\"],[\"gruesome\"],[\"guilt\"],[\"guilty pleasure\"],[\"gulf war\"],[\"gunfight\"],[\"guns\"],[\"gypsy accent\"],[\"hackers\"],[\"hacking\"],[\"halloween\"],[\"hallucinatory\"],[\"handycam\"],[\"hannibal lecter\"],[\"happy ending\"],[\"hard to watch\"],[\"harry potter\"],[\"harsh\"],[\"haunted house\"],[\"hawaii\"],[\"heartbreaking\"],[\"heartwarming\"],[\"heist\"],[\"heroin\"],[\"heroine\"],[\"heroine in tight suit\"],[\"high fantasy\"],[\"high school\"],[\"highly quotable\"],[\"hilarious\"],[\"hillarious\"],[\"hip hop\"],[\"historical\"],[\"history\"],[\"hit men\"],[\"hitchcock\"],[\"hitman\"],[\"holiday\"],[\"hollywood\"],[\"holocaust\"],[\"homeless\"],[\"homophobia\"],[\"homosexuality\"],[\"honest\"],[\"hong kong\"],[\"horrible\"],[\"horror\"],[\"horses\"],[\"hospital\"],[\"hostage\"],[\"hotel\"],[\"humanity\"],[\"humor\"],[\"humorous\"],[\"hunting\"],[\"idealism\"],[\"identity\"],[\"idiotic\"],[\"imaginary friend\"],[\"imagination\"],[\"imdb top 250\"],[\"immigrants\"],[\"immortality\"],[\"incest\"],[\"independent film\"],[\"india\"],[\"indiana jones\"],[\"indians\"],[\"indie\"],[\"infidelity\"],[\"innocence lost\"],[\"insanity\"],[\"inspirational\"],[\"inspiring\"],[\"intellectual\"],[\"intelligent\"],[\"intelligent sci-fi\"],[\"intense\"],[\"interesting\"],[\"internet\"],[\"interracial romance\"],[\"intimate\"],[\"investigation\"],[\"iran\"],[\"iraq\"],[\"iraq war\"],[\"ireland\"],[\"irish\"],[\"irish accent\"],[\"ironic\"],[\"irreverent\"],[\"islam\"],[\"island\"],[\"isolation\"],[\"israel\"],[\"italian\"],[\"italy\"],[\"james bond\"],[\"jane austen\"],[\"japan\"],[\"japanese\"],[\"jay and silent bob\"],[\"jazz\"],[\"jesus\"],[\"jewish\"],[\"jews\"],[\"journalism\"],[\"judaism\"],[\"jungle\"],[\"justice\"],[\"kick-butt women\"],[\"kidnapping\"],[\"kids\"],[\"kids and family\"],[\"king arthur\"],[\"kubrick\"],[\"kung fu\"],[\"kurosawa\"],[\"lame\"],[\"las vegas\"],[\"latin america\"],[\"lawyer\"],[\"lawyers\"],[\"lesbian\"],[\"life\"],[\"life & death\"],[\"life philosophy\"],[\"light\"],[\"lions\"],[\"literary adaptation\"],[\"literature\"],[\"liv tyler\"],[\"london\"],[\"lone hero\"],[\"loneliness\"],[\"long\"],[\"los angeles\"],[\"love\"],[\"love story\"],[\"love triangles\"],[\"low budget\"],[\"lynch\"],[\"lyrical\"],[\"macabre\"],[\"mad scientist\"],[\"made for tv\"],[\"mafia\"],[\"magic\"],[\"magic realism\"],[\"male nudity\"],[\"man versus machine\"],[\"manipulation\"],[\"marijuana\"],[\"marriage\"],[\"mars\"],[\"martial arts\"],[\"marvel\"],[\"marx brothers\"],[\"masterpiece\"],[\"math\"],[\"mathematics\"],[\"maze\"],[\"medieval\"],[\"meditative\"],[\"melancholic\"],[\"melancholy\"],[\"memory\"],[\"memory loss\"],[\"mental hospital\"],[\"mental illness\"],[\"mentor\"],[\"metaphysics\"],[\"mexico\"],[\"middle east\"],[\"midlife crisis\"],[\"military\"],[\"mindfuck\"],[\"mining\"],[\"minnesota\"],[\"mission from god\"],[\"mistaken identity\"],[\"miyazaki\"],[\"mob\"],[\"mockumentary\"],[\"modern fantasy\"],[\"money\"],[\"monkey\"],[\"monster\"],[\"monsters\"],[\"monty python\"],[\"moody\"],[\"moon\"],[\"moral ambiguity\"],[\"morality\"],[\"mother daughter relationship\"],[\"mother-son relationship\"],[\"motorcycle\"],[\"mountain climbing\"],[\"movie business\"],[\"movielens top pick\"],[\"moving\"],[\"mozart\"],[\"mtv\"],[\"multiple storylines\"],[\"mummy\"],[\"muppets\"],[\"murder\"],[\"murder mystery\"],[\"music\"],[\"music business\"],[\"musical\"],[\"musicians\"],[\"mutants\"],[\"mystery\"],[\"mythology\"],[\"narrated\"],[\"nasa\"],[\"native americans\"],[\"natural disaster\"],[\"nature\"],[\"nazi\"],[\"nazis\"],[\"neil gaiman\"],[\"neo-nazis\"],[\"neo-noir\"],[\"nerds\"],[\"new jersey\"],[\"new orleans\"],[\"new york\"],[\"new york city\"],[\"new zealand\"],[\"ninja\"],[\"no dialogue\"],[\"no plot\"],[\"nocturnal\"],[\"noir\"],[\"noir thriller\"],[\"non-hollywood ending\"],[\"non-linear\"],[\"nonlinear\"],[\"nostalgia\"],[\"nostalgic\"],[\"not as good as the first\"],[\"not funny\"],[\"notable nudity\"],[\"notable soundtrack\"],[\"nuclear\"],[\"nuclear bomb\"],[\"nuclear war\"],[\"nudity\"],[\"nudity (full frontal - brief)\"],[\"nudity (full frontal - notable)\"],[\"nudity (full frontal)\"],[\"nudity (rear)\"],[\"nudity (topless - brief)\"],[\"nudity (topless - notable)\"],[\"nudity (topless)\"],[\"obsession\"],[\"ocean\"],[\"off-beat comedy\"],[\"office\"],[\"oil\"],[\"olympics\"],[\"ominous\"],[\"opera\"],[\"organized crime\"],[\"original\"],[\"original plot\"],[\"orphans\"],[\"oscar\"],[\"oscar (best actor)\"],[\"oscar (best actress)\"],[\"oscar (best animated feature)\"],[\"oscar (best cinematography)\"],[\"oscar (best directing)\"],[\"oscar (best editing)\"],[\"oscar (best effects - visual effects)\"],[\"oscar (best foreign language film)\"],[\"oscar (best music - original score)\"],[\"oscar (best music - original song)\"],[\"oscar (best picture)\"],[\"oscar (best sound)\"],[\"oscar (best supporting actor)\"],[\"oscar (best supporting actress)\"],[\"oscar (best writing - screenplay written directly for the screen)\"],[\"oscar winner\"],[\"over the top\"],[\"overrated\"],[\"palestine\"],[\"parallel universe\"],[\"paranoia\"],[\"paranoid\"],[\"parenthood\"],[\"paris\"],[\"parody\"],[\"passionate\"],[\"penguins\"],[\"perfect\"],[\"period piece\"],[\"peter pan\"],[\"pg\"],[\"pg-13\"],[\"philip k. dick\"],[\"philosophical\"],[\"philosophy\"],[\"photographer\"],[\"photography\"],[\"pigs\"],[\"pirates\"],[\"pixar\"],[\"pixar animation\"],[\"plot\"],[\"plot holes\"],[\"plot twist\"],[\"poetry\"],[\"poignant\"],[\"pointless\"],[\"poker\"],[\"poland\"],[\"police\"],[\"police corruption\"],[\"police investigation\"],[\"political\"],[\"political corruption\"],[\"politics\"],[\"pornography\"],[\"post apocalyptic\"],[\"post-apocalyptic\"],[\"potential oscar nom\"],[\"poverty\"],[\"powerful ending\"],[\"predictable\"],[\"pregnancy\"],[\"prejudice\"],[\"prequel\"],[\"president\"],[\"pretentious\"],[\"prison\"],[\"prison escape\"],[\"private detective\"],[\"product placement\"],[\"prohibition\"],[\"propaganda\"],[\"prostitution\"],[\"psychedelic\"],[\"psychiatrist\"],[\"psychiatry\"],[\"psychological\"],[\"psychology\"],[\"pulp\"],[\"punk\"],[\"puppets\"],[\"queer\"],[\"quirky\"],[\"quotable\"],[\"rabbits\"],[\"race\"],[\"race issues\"],[\"racing\"],[\"racism\"],[\"radio\"],[\"rags to riches\"],[\"rape\"],[\"rats\"],[\"realistic\"],[\"realistic action\"],[\"reality tv\"],[\"rebellion\"],[\"redemption\"],[\"reflective\"],[\"relationships\"],[\"religion\"],[\"remade\"],[\"remake\"],[\"revenge\"],[\"revolution\"],[\"ridiculous\"],[\"rio de janeiro\"],[\"road movie\"],[\"road trip\"],[\"roald dahl\"],[\"robbery\"],[\"robert downey jr\"],[\"robert ludlum\"],[\"robot\"],[\"robots\"],[\"rock and roll\"],[\"romance\"],[\"romantic\"],[\"romantic comedy\"],[\"rome\"],[\"runaway\"],[\"russia\"],[\"russian\"],[\"sacrifice\"],[\"sad\"],[\"sad but good\"],[\"samurai\"],[\"san francisco\"],[\"sappy\"],[\"sarcasm\"],[\"satire\"],[\"satirical\"],[\"saturday night live\"],[\"saturn award (best science fiction film)\"],[\"saturn award (best special effects)\"],[\"scary\"],[\"scenic\"],[\"schizophrenia\"],[\"school\"],[\"sci fi\"],[\"sci-fi\"],[\"science\"],[\"science fiction\"],[\"scifi\"],[\"scifi cult\"],[\"scotland\"],[\"screwball\"],[\"screwball comedy\"],[\"script\"],[\"secret service\"],[\"secrets\"],[\"segregation\"],[\"self discovery\"],[\"sentimental\"],[\"sequel\"],[\"sequels\"],[\"serial killer\"],[\"series\"],[\"sex\"],[\"sex comedy\"],[\"sexual\"],[\"sexual abuse\"],[\"sexuality\"],[\"sexualized violence\"],[\"sexy\"],[\"shakespeare\"],[\"shallow\"],[\"shark\"],[\"shopping\"],[\"short\"],[\"short-term memory loss\"],[\"silent\"],[\"silly\"],[\"silly fun\"],[\"simple\"],[\"single father\"],[\"sisters\"],[\"skinhead\"],[\"slackers\"],[\"slapstick\"],[\"slasher\"],[\"slavery\"],[\"slow\"],[\"slow paced\"],[\"small town\"],[\"snakes\"],[\"so bad it's funny\"],[\"so bad it's good\"],[\"soccer\"],[\"social commentary\"],[\"solitude\"],[\"sophia coppola\"],[\"south africa\"],[\"south america\"],[\"southern theme\"],[\"space\"],[\"space opera\"],[\"space program\"],[\"space travel\"],[\"spaghetti western\"],[\"spain\"],[\"spanish\"],[\"spanish civil war\"],[\"special\"],[\"special effects\"],[\"spelling bee\"],[\"spiders\"],[\"spielberg\"],[\"spies\"],[\"splatter\"],[\"spock\"],[\"spoof\"],[\"sports\"],[\"spy\"],[\"spying\"],[\"stage magic\"],[\"stand-up comedy\"],[\"star trek\"],[\"star wars\"],[\"steampunk\"],[\"stereotypes\"],[\"stoner movie\"],[\"stop motion\"],[\"stop-motion\"],[\"story\"],[\"storytelling\"],[\"stranded\"],[\"strange\"],[\"strippers\"],[\"studio ghibli\"],[\"stunning\"],[\"stupid\"],[\"stupid as hell\"],[\"stupidity\"],[\"stylish\"],[\"stylized\"],[\"submarine\"],[\"suburbia\"],[\"suicide\"],[\"suicide attempt\"],[\"super hero\"],[\"super-hero\"],[\"superhero\"],[\"superheroes\"],[\"supernatural\"],[\"suprisingly clever\"],[\"surfing\"],[\"surprise ending\"],[\"surreal\"],[\"surrealism\"],[\"surveillance\"],[\"survival\"],[\"suspense\"],[\"suspenseful\"],[\"swashbuckler\"],[\"swedish\"],[\"sweet\"],[\"switching places\"],[\"sword fight\"],[\"sword fighting\"],[\"talking animals\"],[\"talky\"],[\"tarantino\"],[\"teacher\"],[\"tear jerker\"],[\"technology\"],[\"teen\"],[\"teen movie\"],[\"teenager\"],[\"teenagers\"],[\"teens\"],[\"teleportation\"],[\"television\"],[\"tense\"],[\"terminal illness\"],[\"terrorism\"],[\"texas\"],[\"thought-provoking\"],[\"thriller\"],[\"time\"],[\"time loop\"],[\"time travel\"],[\"tokyo\"],[\"tolkien\"],[\"tom clancy\"],[\"too long\"],[\"too short\"],[\"torture\"],[\"touching\"],[\"toys\"],[\"tragedy\"],[\"train\"],[\"trains\"],[\"transformation\"],[\"transgender\"],[\"travel\"],[\"treasure\"],[\"treasure hunt\"],[\"tricky\"],[\"trilogy\"],[\"true story\"],[\"truman capote\"],[\"twist\"],[\"twist ending\"],[\"twists & turns\"],[\"undercover cop\"],[\"underdog\"],[\"underrated\"],[\"understated\"],[\"underwater\"],[\"unfunny\"],[\"unintentionally funny\"],[\"unique\"],[\"united nations\"],[\"unlikeable characters\"],[\"unlikely friendships\"],[\"unrealistic\"],[\"unusual plot structure\"],[\"us history\"],[\"utopia\"],[\"vampire\"],[\"vampire human love\"],[\"vampires\"],[\"vengeance\"],[\"very funny\"],[\"very good\"],[\"very interesting\"],[\"video game\"],[\"video game adaptation\"],[\"video games\"],[\"videogame\"],[\"vienna\"],[\"vietnam\"],[\"vietnam war\"],[\"view askew\"],[\"vigilante\"],[\"vigilantism\"],[\"violence\"],[\"violent\"],[\"virginity\"],[\"virtual reality\"],[\"virus\"],[\"visceral\"],[\"visual\"],[\"visually appealing\"],[\"visually stunning\"],[\"visuals\"],[\"voodoo\"],[\"voyeurism\"],[\"war\"],[\"war movie\"],[\"wartime\"],[\"waste of time\"],[\"watch the credits\"],[\"weapons\"],[\"wedding\"],[\"weed\"],[\"weird\"],[\"werewolf\"],[\"werewolves\"],[\"western\"],[\"whimsical\"],[\"wilderness\"],[\"wine\"],[\"wistful\"],[\"witch\"],[\"witches\"],[\"witty\"],[\"wizards\"],[\"women\"],[\"working class\"],[\"workplace\"],[\"world politics\"],[\"world war i\"],[\"world war ii\"],[\"writer's life\"],[\"writers\"],[\"writing\"],[\"wuxia\"],[\"wwii\"],[\"zombie\"],[\"zombies\"]],\"hovertemplate\":\"Frequency of genome tag in all movies=%{marker.size}\\u003cbr\\u003eAverage Rating=%{marker.color}\\u003cbr\\u003egenome_tag=%{customdata[0]}\\u003cextra\\u003e\\u003c\\u002fextra\\u003e\",\"legendgroup\":\"\",\"marker\":{\"color\":[3.746863578217812,3.777869574302048,3.875453359501622,3.8222937293800987,3.7925362586085143,3.7234689828608385,3.731235231175902,3.6701842773230315,3.5540376928133632,3.853142758065522,3.7126693371406376,3.6276813059997686,3.644506022132967,3.7424915180525375,3.829050196125511,3.8514024814433663,3.8653315652766427,3.749101750627666,3.6155875415006093,3.6628968766218235,3.7770951865472395,3.7660340407649864,3.6148189266523874,3.673336617279768,3.8004036516635766,3.757911494962882,3.87816712092481,3.7931156148406915,3.6830792617017454,3.815685005933374,3.6103606125878,3.776231992747996,3.617254821071778,3.7959558673883445,3.69884714607654,3.7735625520125824,3.749308029589442,3.718285287744989,3.6830730463097527,3.8407182493845022,3.7325012891551737,3.8492285456179576,3.496730125296291,3.5921013932817654,3.5829623742289964,3.7304224496966443,3.959656085785548,3.640690439152596,3.6954460342255273,3.696407140086169,3.70566404992605,3.6146272259391083,3.6316119249702106,3.7003922640597713,3.645398841596224,3.7409755066315133,3.6612473639476875,3.808438277636375,3.6412326212647024,3.539668693685286,3.8699499656095178,3.7608050002302678,3.8470180500710613,3.794556256062882,3.6841050376969022,3.733486289905727,3.587061152090831,3.722454340554294,3.641601977150268,3.6166201405035197,3.5242185071697483,3.7843991529827576,3.733808066476038,3.654818586923996,3.793799500513302,3.9323487660438246,3.463936459395965,3.890850420136674,3.785692031150928,3.7367970024660635,3.631120239156976,3.7113146349038773,3.704039645538064,3.6096434434098326,3.7984700089251673,3.7270638774249294,3.820337137115528,3.831102357229161,3.701039134237574,3.8181788988686067,3.7021358457898534,3.6470288640160216,3.5714344003364755,3.7385909961399877,3.602376704618657,3.5758936178128957,3.6373161954366195,3.6496563172267606,3.699053404398943,3.7191398864083784,3.5619927014203867,3.5317576956940395,3.666409504246006,3.972064375026986,3.726834684098319,3.865729538835605,3.7237710938941397,3.5490269027183023,3.880597281210278,3.6429077996315256,3.675129989882125,3.6441823960776834,3.7123711831670434,3.5055029387511807,3.7339139844454774,3.8412202773775728,3.54331544662678,3.8610744047591536,3.8168553544503494,3.756645175735706,3.83819905609613,3.8138591681809464,3.897778363431816,3.691929175947041,3.8261246911923252,3.644873273193174,3.6187518684431734,3.75936926972581,3.834888267996146,3.843299289925503,3.6156919210014826,3.61615636855132,3.6765235341214457,3.6312601664505584,3.662435000502118,3.781781215676761,3.745795636082396,3.779894714666081,3.7229292784628436,3.774024103335931,3.7560072722689353,3.7187597060113227,3.7409161249654432,3.756980133640149,3.54303337813747,3.6166526671654022,3.8618960131527356,3.7532491089785673,3.8916863395400956,3.686516544186353,3.7771269742846645,3.7469441356992066,3.788311165792871,3.7809072085965525,3.8058545422015655,3.7571039871845864,3.70845180023186,3.745431006906724,3.6664235212408745,3.689963688995736,3.7912642988153964,3.7527755788387083,3.525631902085265,3.7667753832803177,3.801536718056529,4.050552456352433,3.7599067401634327,3.565497792476638,3.737236155507204,3.6768388627478026,3.671243701921388,3.7572374289643036,3.672358245357586,3.871942128930278,3.7341785230983593,3.6641955472150425,3.634454334123264,3.875921853254015,3.7777944931390834,3.6247764688285553,3.6336363050446296,3.7623247009903564,3.7349172666156374,3.560732853619462,3.779175031463619,3.793102338575813,3.6576955676227896,3.8470087752596998,3.729504956148495,3.816830541980049,3.755388729370987,3.708333553433488,3.5534468685046616,3.7367963793213352,3.7066725311707645,3.8114076751625907,3.762359713799441,3.5917085153543904,3.7641116426181016,3.7590067601978276,4.043436227482595,3.7194470235758943,3.8047971135893643,3.8107410239821853,3.8501385400038712,3.7981940961382623,3.7686112238858884,3.7521800350769996,3.6805664018806934,3.8592982224813976,3.7328468885504296,3.730136161971673,3.805506802093699,3.7381323228627994,3.694853439350778,3.781465198797017,3.851395726730597,3.623641400107071,3.6978148045817067,3.717199975894788,3.6595870298646034,3.5961095810585304,3.7008030950611257,3.71586647493947,3.671189534467712,3.701251586387934,3.838712494295784,3.7009492423562445,3.726317288859989,3.8198147070487916,3.746777829446774,3.5449694818949373,3.539925359341227,3.5853171074972146,3.756987532504687,3.7683287072968676,3.813879426780737,3.711754632921531,3.8471791233125123,3.6767805432428853,3.6833561632702527,3.60261329236528,3.5629803638770605,3.7528370070038246,3.6041401338107675,3.569356612541195,3.7166207887083456,3.6637783493600717,3.6255508820533207,3.532017755068697,3.6333527487683965,3.6428449334042643,3.708067058418727,3.9468870603532875,3.627023425148921,3.6400381386995195,3.7460790229017205,3.698031451348973,3.8587721397654033,3.6852295764870275,3.7331315342548517,3.709530668481106,3.6949493217063782,3.5936102627974953,3.6971769526230713,3.788922181498316,3.5582059388119145,3.5818980342012847,3.7722774241494914,3.861592554056859,3.8987424806793536,3.788787118520807,3.778118705934808,3.602760488863417,3.6684981427410435,3.6903634063403294,3.826399273693728,3.942247795953218,3.975004562658841,3.505719590833074,3.51584383000874,3.715684787976242,3.9873869473706702,3.9859685207218583,3.492146402035992,3.6728434842928994,3.6975301871846433,3.680526680138396,3.64655595231008,3.4988914139056355,3.7755816487418805,3.7021167812661644,3.7351285552141205,3.6876074276912303,3.704098378428205,3.6178229510674016,3.766440654202499,3.6370628811112455,3.7591857268769906,3.63015065211028,3.654310119384599,3.7707755054641967,3.7569196747680254,3.6119191982532866,3.691280202966276,3.7278347450675673,3.6483006982629034,3.682990646133855,3.907577519993879,3.9499504112451684,3.7171158276768863,3.7171355139597306,3.930383277838013,3.72251238320025,3.8936990289227196,3.883420183598609,3.840216296141754,3.8542310312472807,3.780868154053112,3.8045403339888195,3.658971237601869,3.7175865313552277,3.739415440344829,3.707298225075015,3.7794287706182415,3.753741157074651,3.816093034261815,3.786426807678157,3.7141887783546075,3.7402332216050533,3.6793992049322126,3.580126900194119,3.6862581972007815,3.54688780246542,3.8256164765992926,3.53532231701642,3.5297896687875947,3.711818741853512,3.713065672169524,3.7267422133310752,3.7990696779216835,3.727787436725904,3.7644778922606266,3.6803976905424234,3.485635018076713,3.6499096040080365,3.8356013961774504,3.7180537554718396,3.5803211621322224,3.7811538108421887,3.8236130211924375,3.7119239784052693,3.6292964279780615,3.7039317412350425,3.6997492651534203,3.8141295177855805,3.780354967651083,3.7453817970536574,3.5405890735441377,3.848954252771132,3.6439371548582566,3.7832294118077163,3.6939085851952562,3.6842849127976054,3.670877007793148,3.6993462290088,3.593246927940697,3.7663585965440394,3.626386878280386,3.6808807704367315,3.760206830943065,3.7654273269529366,3.874942160246346,3.7427276421243953,3.826635225116988,3.795772095969943,3.6546412338848793,3.764067212857128,3.831750995021124,3.740454775633309,3.862087952412956,3.6089616998715246,3.816337359426838,3.6597123866874286,3.6689638131093663,3.6743641938568157,3.7984186126233865,3.805482816418319,3.720010914718693,3.5618474576120414,3.6807503752869413,3.9340378545849495,3.7190062534726342,3.9295803628992636,3.707820200245344,3.7597874661311153,3.689678964220197,3.5673108119922974,3.8020277202006953,3.907697091764075,3.6260382531524415,3.803880066773675,3.5935199152642063,3.7774485770531747,3.8720806498054614,3.60207612171434,3.6948632010609743,3.733223743926808,3.865864606415573,3.6635947725883518,3.9166955578221705,3.76442679649284,3.5365055726196797,3.7440358595065866,3.779448951392554,3.705923186319997,3.81103998643058,3.6915821967125724,3.5166115997264003,3.495387796315608,3.7312639083842147,3.7096140755278393,3.650228000828786,3.7488264735581893,3.7915663569092044,3.85636967847792,3.7045353802336063,3.749964366724835,3.5663912260414237,3.6044747907947574,3.6588882956651343,3.819126587451275,3.7925487034823573,3.7232203424040087,3.6708153478624577,3.685648710113468,3.6952756197177976,3.678632569153775,3.93205210304485,3.918368338460688,3.649378781106696,3.6844267831534787,3.825620847026752,3.782218344063712,3.7495615143595886,3.678010277828247,3.702576292392789,3.7220394129826606,3.762916586871214,3.9837683946108395,3.6756284006432076,3.765941490887424,3.6008219271669373,3.666060734541616,3.65707566393844,3.394163162559871,3.6438118253529685,3.6374404671291654,3.6922037105986396,3.6726021995775198,3.750315931402767,3.538705070340569,3.621647393530281,3.7983778699598307,3.684259763147452,3.6637223961047534,3.6277706645619197,3.748093392633345,3.654957617052631,3.701279316789141,3.632666106415012,3.751390265312394,3.6444063629443746,3.837112208392488,3.703510008316133,3.678500410360526,3.5531678680611565,3.7659897367092565,3.727230461365425,3.6826991073396598,3.708688280842374,3.518730134272248,3.7897192528502566,3.6556499803716473,3.5973310460586045,3.614057480085726,3.7644130915584784,3.7230191508136743,3.6487519263048496,3.814010415298962,3.753910897614661,3.754617354492234,3.763577231081898,3.6517066137925274,3.861872864559552,3.673001402801184,3.781569578402678,3.6505909346805616,3.660653310708591,3.792574023977056,3.6358691902355753,3.7046006777862424,3.7486958861633255,3.627344189978494,3.7800912069034838,3.6944130349679223,3.876722870369105,3.6872850066000398,3.6301327730068773,3.6706481687421215,3.744742770922226,3.6462468283181386,3.847788186434016,3.6400649305816506,3.689659499264301,3.829571306996063,3.778585201857071,3.8133307524367273,3.7407788186362945,3.8279676392754562,3.576318077109205,3.500163232985121,3.917420920609423,3.756244781839051,3.709673773091141,3.8296921132932784,3.7100317516601815,3.6132569970544672,3.70216438646487,3.7056622001577164,3.7554797762098957,3.7374298460714512,3.6239283320713866,3.681177749850391,3.6602637286975654,3.65086083561333,3.8135690543941085,3.7416751404227666,3.777150345030939,3.800536022108774,3.868689398992543,3.589985992715516,3.838660452112455,3.8477387893726456,3.8207476769702353,3.734668268901883,3.668934112032543,3.7893978064671523,3.6146437303540306,3.7239926315130534,3.5981008207452394,3.70804451526757,3.591271832426007,3.645516842865743,3.743818932710546,3.952129000218605,3.9203396646550988,3.6444338223401713,3.944092581445985,3.6732051859068866,3.6758476315571817,3.8235967721082242,3.7805672717234136,3.7807806552737717,3.753813999223656,3.6978300957918564,3.7712612763838576,3.7135764827559354,3.7131480812976414,3.787669214642893,3.872227440808663,3.851910518739677,3.760074191313962,3.896030108297477,3.7599810047897613,3.7582959883331863,3.7315101498530963,3.885544925438858,3.6987880661599712,3.7967585125607783,3.7582428057878086,3.692563482228462,3.857648094287563,3.7482422373315667,3.6899031546639187,3.775639013655945,3.707163238016124,3.7308952992966393,3.79164539449873,3.7711783857188315,3.666334488825158,3.6618411662701025,3.7916091595423937,3.5402151002862627,3.7915481591654503,3.808913822178434,3.7594627988485856,3.733276966141124,3.8908528583608186,3.762211298102906,3.7888482281367555,3.8672411489636294,3.7702566189241282,3.7984800065867192,3.7987114320923125,3.754054746224323,3.680010566177667,3.8108726172947938,3.799607893709208,3.825971713767414,3.684000290543734,3.6663053614705268,3.8638578193953013,3.8253157384766467,3.850846860217276,3.693724000883412,3.821425399336855,3.910712955041274,3.7425371003409995,3.7392332994009143,3.814668302506701,3.645328999371176,3.709036529770266,3.842498184618922,3.805926785626188,3.512904211947934,3.6880098216843393,3.7170254356139685,3.9575553827216647,3.608996151486701,3.6713234816024594,3.539650694340848,3.8905851521224966,3.6693262172218604,3.6191205686852514,3.5654104173283847,3.68827191576526,3.6411455187967814,3.888428538243212,3.8357293631591665,3.8033023427348773,3.710666493459138,3.6740117855101175,3.7549557737408024,3.70515399143507,3.802128273555586,3.6351051941624375,3.7165561810014216,3.7472738228122884,3.8381191801419896,3.573263627743564,3.564474214869425,3.7689088074862536,3.7830545405595286,3.726224564280194,3.902805642277895,3.7377214828563043,3.635843357210181,3.767277126128079,3.6913308665120064,3.7288648330855634,3.7608948443086074,3.5741516868833596,3.5955645760442922,3.764789261817559,3.716193861823199,3.700469853585819,3.632821113684722,3.680967401145501,3.8834886180930743,3.75900228108528,3.618091358083631,3.7671454000683653,3.7311181364630697,3.7433149833117394,3.673284265768537,3.7948762655665327,3.7469759985448006,3.7579462391418472,3.718884643609861,3.7762973064999397,3.60894686101777,3.7668142265285405,3.859539574024539,3.825846661260746,3.9588134859842787,3.886587671089956,3.573661735735825,3.6056447568601873,3.611544451625497,3.67918214381217,3.614161587086987,3.837181804767842,3.7767637917852697,3.8240005445998437,3.6519263850735655,3.6870881691248796,3.745721665009186,3.598667979380172,3.5640567919628365,3.713943513100852,3.810600844728009,3.8422035389820492,3.799495990031093,3.7379194579958446,3.7333012822276848,3.67941913488122,3.867665524879002,3.743755108058368,3.7082285395035175,3.6117585382110162,3.687333753200427,3.7729291725534333,3.6365990098015026,3.6711202874302047,3.63789954545647,3.7792442712902345,3.697531746350383,3.840759003948385,3.7624423839478665,3.7613486622344228,3.646377659656288,3.6585327458271992,3.6046708105774923,3.558147884114595,3.7848223578851945,3.772591806146161,3.70190300546771,3.7269096868188396,3.622266435275268,3.7085629354341805,3.6228344824055463,3.7912650283587506,3.699430101840886,3.750034782699539,3.7296631918176955,3.7591187676386912,3.8167825094311003,3.580977246389147,3.9356787525125787,3.5139463237829145,3.8069540613693365,3.668625712772201,3.835067217100041,3.6836783755807474,3.598345157332709,3.751216726997708,3.7848407883312603,3.641834898430518,3.6940658884239586,3.5654032676875564,3.61445622527371,3.8456618388575414,3.7037421180152013,3.775349988394374,3.563924489225127,3.614411026075448,3.6201540915988586,3.7848443283421975,3.6446728683680125,3.68254058016426,3.5346575412936154,3.7589629381139025,3.7705946887483437,3.736103799427968,3.6708116576277043,3.678945134455395,3.801429565960227,3.935516495109241,3.6420188977297308,3.8131886797298526,3.8623771247674843,3.8053453404127047,3.782376377919054,3.901976810748193,3.77504024584618,3.724942893143944,3.657038846902126,3.7032891770129095,3.654905292897786,3.827100203939406,3.7310104405911386,3.7800451765753666,3.831624214196363,3.732833107958588,3.7857015266108984,3.6503765814651383,3.5853713624024546,3.560967499374994,3.8804517349887475,3.7491818443743097,3.700433569206373,3.703528755205636,3.7232629810367284,3.5524543491384595,3.6835934731032847,3.7553115794597405,3.6815844486793283,3.6975791530833613,3.680557612235526,3.8258497401987874,3.5716266630966125,3.53887445093322,3.6675681207221538,3.8596581165721244,3.61510574996931,3.740936195595938,3.9196307176952043,3.777326827256328,3.600896293162057,3.7499607064503566,3.7641766786513338,3.7510634396545632,3.6962540348492285,3.6949652165333546,3.629681214690672,3.7187107025735195,3.655822956267161,3.813220242668138,3.689224477002098,3.6841125488782502,3.696193423220107,3.650044646672586,3.5869793537589567,3.6882678543177176,3.7862447903281287,3.6713042312205686,3.854641692028347,3.7975103326556034,3.6785358007103026,3.7500889161936817,3.734251501491083,3.728156531993094,3.7087931945222294,3.7334104305670177,3.7338570142424574,3.7526767842701543,3.628911963280075,3.7802527462153583,3.6043375306527907,3.757648160006049,3.7536007799237545,3.6582233247465137,3.7271178219553915,3.811862466370581,3.896697322392359,3.6423214567292277,3.805556038211618,3.6974343170345887,3.676187108267756,3.700433152652283,3.6305622895209977,3.9007765455806878,3.7903748356598355,3.804722624826564,3.8153386371849525,3.6219428339434856,3.7396525562972887,3.7483940172657917,3.548115967003072,3.4324307209448,3.7753149707348506,3.9128080733027586,3.8896401565437033,4.034667838435743,3.7908843470310343,3.809322678515568,3.8013368254221023,3.8028867793712218,3.7054494524806687,3.667073311866112,3.655252812769612,3.7098001140677384,3.7985587451358933,3.876636269047502,3.7232044437121994,3.6910033915941987,3.7905166053395236,3.7430030700990997,3.5567253796003557,3.5139310391685368,3.676251103292956,3.6782303489906862,3.636334300876096,3.752302425344736,3.6287116989548034,3.4644963077102946,3.5544914269765,3.583376649167703,3.5145175018529775,3.602064801371427,3.783452838919577,3.820137045941588,3.873098524928876,3.6497255942213664,3.7649420662361304,3.7428417668750313,3.8270080826793107,3.7551335155961967,3.7746305971861105,3.6020372411559594,3.6637317672774774,3.5767166229818197,3.6884542220382177,3.749748770973916,3.814068608227707,3.88070943322163,3.793161165834738,3.721799550166871,3.6556901409407585,3.810731065043682,3.952147798424016,3.6929437799849407,3.6222938612543896,3.8899298442741372,3.7417394094952323,3.690802834188446,3.903920746321349,3.6815605387359644,3.7306004725779465,3.73890898863058,3.8852941931635314,3.940848492372671,3.749014312741622,3.71188499618488,3.8065471771865917,3.522507077913461,3.653377091145919,3.673654967662973,3.6359210731281792,3.809569343673699,3.614985199883973,3.7710191991474455,3.5418441393780538,3.8898704478907513,3.727982634680105,3.7869816600185313,3.778296278126953,3.707244456518829,3.7923923888854754,3.7315366907749943,3.4778380450104778,3.5975719011621883,3.634846998562189,3.568941518519026,3.753947781341069,3.8332120704213124,3.843633721654343,3.7949338986751457,3.6364179036465045,3.5942413091082552,3.8450001359656016,3.669609767187007,3.427840822925769,3.688504774576562,3.655809110245767,3.7348690900229164,3.7195502582629008,3.787107684787037,3.7244369903282415,3.752402822602287,3.7296251128987152,3.8193714884124548,3.724577660833377,3.6290623660917625,3.7240550682659506,3.776408470068595,3.7588784503254855,3.6666026639944582,3.7263156006990714,3.7130866981144193,3.7343244420690302,3.618683943245351,3.6789572369755437,3.749457563500683,3.794880482808656,3.71524311900012,3.531854410689927,3.529176601567211,3.6346833793279663,3.6477081809033693,3.724777342201432,3.709498574539922,3.748344808087042,3.709294405621058,3.762945726936608,3.562636805153319,3.4376969249317146,3.591312244369316,3.6687981464177866,3.591984488577828,3.8559457830523995,3.9169768457798044,3.60024437974787,3.756067758555729,3.762267315896918,3.696987516851087,3.6133715122217898,3.6006905481410167,3.6097343517978295,3.7803229010492627,3.948731966073786,3.9455839236786265,3.8883545133573105,3.5577230582583614,3.6580344923768937,3.831316429355185,3.785944359344622,3.5270653795956126,3.8054948799642387,3.7845392434738674,3.6184500097401235,3.777977568016237,3.8132829552113034,3.780569310462309,3.8074800594075735,3.7112751488826627,3.6029982598163866,3.637569642719474,3.5475599989578956,3.7855838054829722,3.5486624187908475,3.814136460526725,3.677365503260347,3.6489036242483475,3.6670596081946005,3.570479158847442,3.6378147490247037,3.776018269687229,3.7212049587147873,3.7650089676387175,3.806425655740426,3.768177749162232,3.6463743471700982,3.7747681024415773,3.6747374153913936,3.672811570012835,3.7579740904328474,3.778100759305785,3.7989375682896176,3.906714912339937,3.6941394171934854,3.723736259118727,3.6904559099069774,3.6736711720601187,3.6440771815343638,3.690661764379394,3.7990735632487267,3.6044554072308,3.6402218682538945,3.712521904678248,3.671949978874704,3.703333816826614,3.744929720153979,3.7018654429702673,3.657401808185737,3.837263067823195,3.654403737472056,3.6305437018945153,3.6788133038802817,3.6798216185220816,3.7762888893799413,3.718058976586529,3.7904876955114175,3.6554150874463955,3.7226631862931168,3.7084063300564862,3.8899003548173616,3.7084161308033488,3.7212185083825986,3.796618920494943,3.6739893181342924,3.753920258970878,3.706878583553588,3.6348446147522147,3.6876981532167474,3.6114930091374626,3.7611234099435347,3.6366001726069364,3.595954293824205,3.7694922897529937,3.608809942680242,3.613182584807786,3.564205483736149,3.579191461146329,3.781316288161587,3.569353988530483,3.642512627536876,3.6166061395777502,3.6793922369253043,3.719697283167951,3.697027141638418,3.6682277427211045,3.7121919175850833,3.819108446905867,3.5092428456644638,3.660033405272616,3.7764619472405334,3.6518985950090057,3.6870091513698733,3.666596653444771,4.054354997062432,3.776076734827529,3.7817328710286175,3.777513219117359,3.711668352734183,3.804675479254722,3.772022801173618,3.7337857094321096,3.872806615187296,3.89694344265156,3.7655771510559393,3.8356923403529835,3.7808505228447595,3.685612663446507,3.9199149303128715,3.859438565137224,3.803055277359382,3.699926821520126,3.769222950875938,3.735664671283428,3.7945246550539298,3.803990547148293,3.7698488850249796,3.783444208305715,3.6821390377056264,3.751783882448429,3.765871349151398],\"coloraxis\":\"coloraxis\",\"size\":[476.30024999999955,472.45499999999953,720.1962499999995,890.3534999999996,1425.8444999999997,944.8504999999996,636.6399999999995,1655.4059999999997,1157.0697499999997,710.2957499999995,477.8709999999995,682.2807499999996,1646.1484999999996,168.83074999999948,61.26799999999948,560.4817499999996,205.31049999999948,2697.575,2754.8377499999997,2099.2879999999996,3875.0582499999996,3375.6155,1044.9769999999996,318.87799999999953,1297.3697499999996,1424.3592499999995,1208.1419999999996,1496.8704999999995,2298.4117499999998,2381.7332499999998,277.1222499999995,783.1857499999995,1198.2412499999996,491.8459999999995,470.45924999999954,997.2299999999996,756.9334999999995,198.9249999999995,256.0929999999995,165.2784999999995,168.6477499999995,488.7272499999995,649.7104999999996,514.3994999999995,772.9069999999996,2672.7327499999997,200.1509999999995,780.4267499999995,2095.3597499999996,1338.9999999999995,1588.1814999999997,1452.3477499999997,775.2899999999995,1288.0327499999996,1640.3889999999997,321.7807499999995,315.5057499999995,835.4754999999996,1112.9314999999997,299.7224999999995,639.1622499999995,1275.9597499999995,502.5617499999995,851.3044999999995,358.6977499999995,435.62224999999955,1492.6982499999997,491.60274999999956,394.5204999999995,1196.8727499999995,144.7577499999995,407.36799999999954,672.3077499999996,144.04224999999948,2251.1672499999995,1054.6012499999995,297.5669999999995,1047.3709999999996,1910.2574999999997,843.5844999999996,1097.5172499999996,1853.1694999999997,745.9894999999996,471.2879999999995,1240.3739999999996,2803.89425,787.7517499999996,252.5017499999995,306.3187499999995,714.3459999999995,307.8614999999995,248.5502499999995,795.6489999999995,2116.9559999999997,1023.9642499999995,1184.4534999999996,1831.5489999999998,1328.3202499999995,2377.218,2483.4842499999995,818.5982499999996,632.5132499999995,174.05574999999948,110.71499999999948,595.6694999999995,84.29374999999948,2840.582,621.0997499999995,1765.7852499999997,1094.7757499999996,502.2592499999995,550.7542499999995,2622.5035,297.1894999999995,1633.6237499999995,244.9124999999995,79.14074999999949,906.7029999999995,62.59749999999947,1381.1437499999995,2901.3075,2386.3639999999996,265.3304999999995,594.4642499999995,723.1702499999996,882.5142499999996,608.0222499999995,3234.9235,2224.86525,397.3334999999995,347.2899999999995,2214.4359999999997,1111.2017499999995,808.0029999999996,996.0274999999996,294.6749999999995,1120.3709999999996,2296.5004999999996,1034.1297499999996,1307.4042499999996,1768.8949999999998,286.6752499999995,2187.32725,1387.9622499999996,1183.3177499999995,1699.1859999999997,265.0964999999995,508.79074999999955,1109.7777499999995,586.3924999999996,488.2709999999995,868.1112499999996,979.1622499999995,2124.6769999999997,1319.8792499999997,1088.9719999999995,595.2824999999996,321.1949999999995,351.8522499999995,1471.1502499999997,233.4904999999995,2256.5815,311.6362499999995,1985.4147499999997,644.8299999999996,363.1499999999995,1508.9569999999997,1452.7097499999995,4240.041499999999,1046.1637499999995,661.1169999999995,1621.1147499999997,795.7897499999996,199.3457499999995,1926.8544999999997,1668.1639999999998,1249.0882499999996,541.2557499999996,968.0064999999996,426.01449999999954,798.6939999999995,850.8007499999995,1184.7239999999997,272.51974999999953,794.8972499999995,792.7687499999996,220.57149999999947,4677.036,876.5437499999996,638.5117499999996,1537.4897499999997,2998.2065,752.4842499999995,2112.6182499999995,3545.6814999999997,1093.5049999999997,600.6452499999996,991.5819999999995,351.5639999999995,272.5047499999995,1264.5432499999997,365.0719999999995,3376.9802499999996,1492.9169999999997,260.9542499999995,411.3817499999995,168.4584999999995,427.16349999999954,369.20249999999953,182.8664999999995,352.0129999999995,3595.95925,239.0379999999995,615.4504999999996,2027.5409999999997,2568.7115,303.0032499999995,1416.3459999999995,61.75324999999948,3452.40325,1074.9779999999996,676.5489999999995,401.02674999999954,619.6032499999995,152.8592499999995,834.9377499999996,452.2894999999995,332.8209999999995,1543.5622499999997,2599.7219999999998,1213.6102499999997,559.1492499999996,423.3212499999995,803.7679999999996,1800.8974999999996,1235.7772499999996,279.2334999999995,1321.6524999999997,484.04624999999953,3329.01675,1288.1762499999995,1594.6964999999996,1031.7122499999996,1934.3022499999997,608.1987499999996,450.3234999999995,556.4769999999995,520.6349999999995,632.7984999999995,813.1612499999995,1581.6359999999997,721.5977499999996,974.6864999999996,255.7142499999995,2255.3064999999997,665.2339999999996,656.6017499999996,3311.91025,1279.3737499999995,1682.8352499999996,504.21924999999953,728.1859999999996,373.6167499999995,1078.0579999999995,1172.6922499999996,2645.3099999999995,1361.0549999999996,1703.8299999999997,2465.1009999999997,4025.1322499999997,501.33824999999956,2457.4894999999997,280.5802499999995,1385.7044999999996,2781.36275,2870.42125,4052.3554999999997,1356.8109999999997,998.6379999999996,442.8282499999995,381.52699999999953,1546.8197499999997,567.3207499999995,568.5479999999995,1762.9124999999997,1473.3389999999997,1035.6242499999996,2516.27825,1646.6234999999997,238.4019999999995,478.52874999999955,3126.36275,742.8017499999995,1448.2417499999997,170.8749999999995,1166.4347499999997,2233.653,972.1457499999996,3903.95025,896.2709999999995,598.8307499999995,5090.336,894.9164999999996,667.7094999999996,1245.8249999999996,554.7059999999996,457.77124999999955,1483.8277499999997,651.3839999999996,251.9499999999995,1989.3417499999996,2063.0354999999995,1328.9489999999996,1898.4122499999996,825.8167499999995,638.6929999999995,283.4924999999995,347.3232499999995,2213.0487499999995,201.31999999999948,184.6074999999995,680.2987499999996,3743.00625,3104.8594999999996,2241.7279999999996,1791.9109999999996,407.15599999999955,2801.7234999999996,884.0137499999996,836.8877499999995,1146.6837499999997,847.2442499999995,1167.9564999999996,1321.0827499999996,2454.6135,968.0367499999995,901.4562499999996,2206.1645,516.2584999999996,112.09674999999949,1462.9832499999995,284.3877499999995,585.3122499999995,1141.4792499999996,1162.6507499999996,406.1752499999995,90.61024999999948,2239.5995,1093.5984999999996,1275.5692499999996,3406.5769999999998,353.2849999999995,1123.1967499999996,1427.5052499999997,2717.6265,3252.3869999999997,576.6059999999995,551.9847499999995,854.9952499999996,1671.2902499999996,630.0892499999995,1818.1494999999998,390.26499999999953,2282.70875,2867.4452499999998,2589.9602499999996,1558.0202499999996,2733.5119999999997,553.9524999999995,1140.0724999999995,821.2019999999995,593.7284999999995,446.01924999999954,3226.191,901.1847499999996,1993.6204999999998,1955.7622499999998,3361.6347499999997,1417.1907499999995,630.2874999999996,945.8609999999995,2078.16425,1012.5167499999995,484.5754999999995,551.9577499999996,842.5399999999996,2398.2887499999997,2749.7437499999996,3115.9314999999997,1244.2627499999996,1500.4104999999997,121.38699999999949,1225.1482499999995,983.2447499999996,597.6919999999996,3226.3509999999997,418.4939999999995,586.2947499999996,199.6442499999995,180.9542499999995,2195.7425,1615.0602499999995,1238.7134999999996,243.4469999999995,684.0472499999995,2069.5229999999997,625.0442499999996,540.7124999999995,853.7559999999995,891.5599999999996,924.4764999999995,2599.8622499999997,574.0289999999995,2605.2045,3499.997,702.7952499999996,2020.3839999999996,1299.5029999999997,990.1147499999996,1118.6744999999996,328.3432499999995,1471.4539999999997,1141.6929999999995,2655.9494999999997,1010.6972499999996,1633.8542499999996,778.5829999999996,621.1324999999996,499.20174999999955,482.3309999999995,527.1579999999996,613.6234999999996,828.0279999999996,478.7224999999995,608.5314999999995,711.0157499999996,820.5264999999996,347.8277499999995,1861.5409999999997,713.3549999999996,460.6309999999995,1138.2547499999996,2486.0767499999997,314.8747499999995,4406.228,2773.51275,2562.4062499999995,1906.1734999999996,1703.6352499999996,796.5377499999995,986.3492499999995,4724.043,931.8149999999996,1436.6604999999997,2365.1229999999996,508.3432499999995,768.9677499999996,1783.7247499999996,954.0152499999996,749.7322499999996,841.8302499999995,854.5699999999996,1144.7422499999996,4425.55225,3585.4035,1403.2332499999995,1142.4822499999996,5181.025,3212.5679999999998,981.6422499999995,1585.3854999999996,3525.3875,1874.4867499999996,2757.90825,1925.1864999999996,292.5112499999995,712.5534999999995,2183.932,688.7274999999995,228.5712499999995,2523.5967499999997,886.5367499999995,595.8747499999995,329.6649999999995,298.3547499999995,345.4002499999995,619.0597499999996,266.52449999999953,44.05474999999948,2739.7675,874.6754999999996,125.59024999999949,3370.3179999999998,407.9824999999995,458.62474999999955,1261.9074999999996,1600.1432499999996,796.1587499999996,382.2874999999995,427.48324999999954,308.0474999999995,1073.7162499999997,1129.2567499999996,2076.1294999999996,1607.0727499999996,408.2299999999995,946.7567499999996,1384.4294999999995,882.9232499999996,1063.1819999999996,491.9917499999995,1351.2907499999997,544.2304999999996,333.9417499999995,296.2764999999995,1041.5082499999996,451.2784999999995,491.32499999999953,2680.8594999999996,378.3592499999995,1353.8124999999995,1162.4117499999995,435.83399999999955,2021.3567499999997,472.02399999999955,1766.6864999999996,1415.2912499999995,1523.5762499999996,2222.4174999999996,879.6854999999996,2303.4419999999996,1815.2132499999996,1448.9134999999997,236.3372499999995,1481.5492499999996,3442.2887499999997,733.4259999999996,1153.5554999999995,433.8454999999995,1874.6374999999996,156.00524999999948,118.48499999999947,1295.5542499999997,1246.1944999999996,1059.4059999999995,807.3989999999995,1958.1549999999997,2045.0342499999997,912.4297499999996,1771.4932499999998,1562.3024999999996,593.9807499999996,3250.1949999999997,3315.6077499999997,1583.2562499999997,1148.4509999999996,2582.3557499999997,1544.8822499999997,160.3639999999995,334.0117499999995,143.4207499999995,792.5014999999995,481.63399999999956,1854.6557499999997,1697.5192499999996,1115.9497499999995,1301.0077499999995,1362.3334999999997,695.2172499999996,468.7002499999995,241.4127499999995,476.69424999999956,83.82224999999949,294.5059999999995,657.1422499999995,473.1822499999995,154.4069999999995,301.5877499999995,772.7174999999995,735.7554999999995,886.8012499999995,843.0927499999996,679.9252499999996,779.7427499999995,3000.7839999999997,1029.4919999999995,1256.7042499999995,1128.2037499999997,1214.9924999999996,202.99924999999948,211.3152499999995,594.6847499999996,116.0007499999995,1159.5639999999996,534.5602499999995,652.1984999999995,1039.3959999999995,722.7354999999995,494.8349999999995,1817.7884999999997,3161.2169999999996,4007.28975,3160.0699999999997,529.7762499999995,736.6489999999995,1332.7859999999996,317.66649999999953,1425.8619999999996,2861.8862499999996,3328.6702499999997,1301.7462499999997,986.8282499999996,2014.5969999999998,2494.9512499999996,881.5284999999996,1139.5314999999996,491.9517499999995,774.0437499999996,1898.2639999999997,1829.7269999999996,964.9002499999996,621.4224999999996,1053.0747499999995,826.6857499999995,2613.81875,367.3512499999995,1971.3077499999997,462.5467499999995,1280.6622499999996,733.9244999999995,448.4272499999995,252.67199999999949,95.57974999999949,2168.3879999999995,319.0209999999995,130.4519999999995,818.9399999999996,508.01199999999955,1458.6172499999996,3993.4044999999996,2302.07725,1464.8422499999997,1014.9577499999996,337.5067499999995,1935.8257499999997,5497.90475,440.7609999999995,372.4682499999995,444.6722499999995,387.37499999999955,515.7364999999995,1182.5269999999996,323.64474999999953,405.26649999999955,796.2914999999996,608.3222499999996,85.12174999999948,1167.8902499999997,322.0937499999995,1172.7499999999995,669.5687499999996,285.9732499999995,1082.8892499999995,853.3819999999996,164.7579999999995,1051.2592499999996,330.7184999999995,2272.3199999999997,1573.2067499999996,424.37274999999954,569.5254999999995,704.5384999999995,122.29674999999949,453.9337499999995,2357.2617499999997,478.2989999999995,606.4999999999995,190.0317499999995,2355.5177499999995,175.62299999999948,488.2174999999995,2689.0807499999996,1363.2342499999995,1071.9199999999996,447.0444999999995,888.7024999999995,688.4754999999996,788.0129999999996,1107.6477499999996,1202.5002499999996,2882.3597499999996,280.2919999999995,263.1352499999995,2388.04625,304.0649999999995,526.6684999999995,566.2567499999996,137.3814999999995,115.74099999999947,622.7964999999996,925.7257499999996,1806.9449999999997,953.9984999999996,991.2367499999996,1165.0509999999997,179.2747499999995,782.4502499999995,387.7014999999995,1180.1684999999995,2547.7752499999997,837.7959999999996,768.3114999999996,402.6532499999995,826.3709999999995,1259.0972499999996,495.32249999999954,2066.6155,514.3967499999995,3122.604,1157.5984999999996,973.7632499999996,280.58924999999954,287.2359999999995,289.3184999999995,944.9022499999995,2879.9462499999995,2470.2594999999997,983.1532499999996,1306.5054999999995,1506.2137499999997,2496.7219999999998,1710.6202499999997,2754.8487499999997,465.5064999999995,1682.8404999999996,221.2492499999995,839.4517499999996,144.71574999999947,1159.2959999999996,252.57449999999952,838.8192499999996,7575.47025,2494.50575,396.7992499999995,2460.7844999999998,1141.1107499999996,2894.2502499999996,531.6294999999996,1386.8407499999996,3348.9669999999996,638.2904999999995,1520.2887499999997,1732.9909999999998,270.2669999999995,578.0302499999996,903.7742499999996,405.3517499999995,1428.9047499999997,2723.1294999999996,1445.6474999999996,2380.5244999999995,644.2812499999995,2293.8894999999998,204.3302499999995,1728.7547499999996,1502.6472499999995,1945.6857499999996,1392.4249999999997,794.2124999999995,1156.9429999999995,2650.5272499999996,282.6554999999995,1035.2069999999997,1711.5657499999998,107.60999999999949,727.7672499999995,3640.17825,902.1914999999996,1352.1187499999996,1532.0712499999997,513.2447499999995,1496.3084999999996,527.9984999999996,91.83099999999948,84.81024999999948,190.8579999999995,2778.9447499999997,1598.0667499999997,1667.3729999999996,986.9692499999995,1746.8904999999997,2447.98775,664.3954999999995,741.3607499999996,593.2522499999995,1463.9167499999996,3226.60675,1279.1922499999996,741.9167499999995,1348.0377499999995,3952.8089999999997,623.9822499999996,617.4644999999996,849.2954999999996,607.1829999999995,2057.7257499999996,3612.2322499999996,428.14974999999953,2021.2519999999997,252.2779999999995,421.57949999999954,910.8849999999995,1262.8592499999995,983.0072499999995,262.8247499999995,930.8072499999996,341.5467499999995,826.1959999999996,843.7122499999996,431.1727499999995,654.4627499999996,1012.0154999999996,2400.4652499999997,1953.4704999999997,1836.7079999999996,250.4597499999995,648.2154999999996,2004.5034999999998,3018.4689999999996,2148.7839999999997,401.09899999999953,1107.6824999999997,1618.2454999999995,748.9464999999996,729.7217499999996,950.4992499999996,696.3687499999995,468.22849999999954,533.3522499999996,1882.1864999999996,1176.9579999999996,902.3814999999996,1102.3664999999996,3661.6769999999997,2911.8174999999997,2926.51725,852.0839999999996,297.3147499999995,1044.5354999999995,2808.2065,1215.1437499999995,1178.6504999999995,345.66124999999954,1762.0132499999997,975.3787499999996,228.9627499999995,413.5639999999995,871.1077499999996,155.6357499999995,497.3282499999995,462.24049999999954,581.5499999999995,2495.9015,2522.01275,1286.9692499999996,296.2774999999995,4322.635249999999,404.0662499999995,781.0332499999996,2432.4887499999995,1171.0677499999997,1163.3804999999995,309.4429999999995,1033.1152499999996,627.0389999999995,1175.0497499999997,1553.8472499999996,2099.0942499999996,758.9052499999996,573.0314999999996,635.7502499999996,2004.9302499999997,1596.3062499999996,445.15649999999954,1339.6464999999996,2448.4885,1190.1634999999997,856.2059999999996,1955.4862499999997,1506.2549999999997,716.5624999999995,399.1622499999995,1024.1319999999996,633.5807499999995,1329.9467499999996,826.8677499999995,2866.32525,1642.5034999999996,1413.9847499999996,1726.4387499999996,920.9114999999996,1138.9169999999997,1186.5394999999996,1546.7569999999996,875.6894999999996,391.7954999999995,1297.3999999999996,1111.3102499999995,844.8594999999996,2669.5557499999995,2866.89,191.9119999999995,2246.8419999999996,330.9537499999995,821.2484999999996,368.20249999999953,304.2679999999995,978.3879999999996,2298.9504999999995,2409.2212499999996,1505.0959999999995,809.6124999999996,639.5457499999995,242.61324999999948,395.5649999999995,2109.92575,527.6697499999996,456.87474999999955,1213.3517499999996,958.0129999999996,1972.8899999999996,860.1272499999995,3049.9815,381.9192499999995,187.4919999999995,3495.7844999999998,2225.8312499999997,209.1734999999995,196.2607499999995,201.4044999999995,673.0392499999996,710.6329999999996,603.9269999999996,356.6307499999995,688.2144999999996,206.6449999999995,473.0854999999995,929.3887499999996,486.5567499999995,1492.8472499999996,2498.0227499999996,776.9234999999995,839.5664999999996,205.1584999999995,764.7582499999995,2051.6364999999996,216.57624999999948,716.8644999999996,648.1819999999996,906.8119999999996,1529.2704999999996,290.3782499999995,929.6657499999995,134.49799999999948,137.78224999999946,614.2789999999995,2677.2212499999996,1422.8294999999996,626.3714999999995,298.4904999999995,4428.5822499999995,4650.53025,528.7994999999995,1092.0969999999995,253.03499999999948,111.90774999999948,1674.6544999999996,1046.0999999999997,1158.0744999999995,1352.9957499999996,2121.4689999999996,3290.995,430.7102499999995,1284.3999999999996,874.5862499999996,1006.2524999999996,864.5402499999996,543.5827499999996,758.9284999999995,1576.1194999999996,1176.4704999999997,3372.2684999999997,224.9644999999995,812.0282499999996,2436.2062499999997,1308.3802499999997,1703.3182499999996,1900.1832499999996,3387.1755,2065.9427499999997,793.3117499999996,127.5862499999995,1531.4132499999996,798.9887499999995,477.5857499999995,418.51224999999954,741.1889999999995,3745.9069999999997,148.2567499999995,1340.9697499999995,897.7384999999996,2080.0467499999995,1874.3522499999997,2212.0757499999995,803.5847499999995,697.2847499999996,1522.9182499999997,490.42799999999954,306.6324999999995,2328.4504999999995,446.20674999999954,393.3339999999995,1002.4334999999996,2174.4799999999996,1934.7252499999997,936.4167499999995,379.08449999999954,331.4137499999995,1675.4669999999996,163.36799999999948,586.8637499999995,1257.3039999999996,884.0287499999996,1851.0249999999996,2059.54825,286.8709999999995,2043.8179999999998,248.9232499999995,298.6269999999995,3221.06875,493.4939999999995,494.5969999999995,361.3029999999995,625.3627499999996,1274.3057499999995,927.5207499999996,1381.7262499999997,337.76474999999954,1736.3259999999996,1951.6254999999996,3344.85225,647.6584999999995,1358.1982499999997,2369.5064999999995,707.1474999999996,251.0822499999995,2542.25825,580.7604999999995,606.6832499999996,153.2199999999995,1066.5542499999997,2916.4995,869.3707499999996,3320.8079999999995,1314.0919999999996,1103.5814999999996,281.2987499999995,736.5049999999995,197.8314999999995,3508.55325,3228.0337499999996,2546.4419999999996,3199.55775,786.7084999999996,291.84224999999947,276.1489999999995,187.6532499999995,404.5669999999995,175.8382499999995,142.63474999999949,527.3359999999996,850.1147499999996,875.1969999999995,3188.5122499999998,2769.66475,670.9302499999995,366.30349999999953,431.99824999999953,2260.9112499999997,2874.6369999999997,3741.88825,2972.7794999999996,1231.9492499999997,268.1092499999995,682.0527499999996,874.3149999999996,678.3652499999996,1281.0374999999997,273.5019999999995,680.1549999999995,2721.9239999999995,436.2107499999995,791.6409999999995,3743.33925,777.7512499999996,365.3449999999995,479.7347499999995,2242.25825,1286.9384999999995,934.3042499999996,758.0257499999996,440.6139999999995,814.3027499999996,2493.9602499999996,526.1089999999996,2202.9629999999997,582.9004999999995,1237.9994999999997,949.5892499999995,458.8167499999995,577.5344999999995,682.4702499999995,2585.6207499999996,943.3429999999996,429.5569999999995,468.1947499999995,1153.2754999999995,313.25799999999947],\"sizemode\":\"area\",\"sizeref\":18.938675625000002,\"symbol\":\"circle\"},\"mode\":\"markers\",\"name\":\"\",\"showlegend\":false,\"x\":[476.30024999999955,472.45499999999953,720.1962499999995,890.3534999999996,1425.8444999999997,944.8504999999996,636.6399999999995,1655.4059999999997,1157.0697499999997,710.2957499999995,477.8709999999995,682.2807499999996,1646.1484999999996,168.83074999999948,61.26799999999948,560.4817499999996,205.31049999999948,2697.575,2754.8377499999997,2099.2879999999996,3875.0582499999996,3375.6155,1044.9769999999996,318.87799999999953,1297.3697499999996,1424.3592499999995,1208.1419999999996,1496.8704999999995,2298.4117499999998,2381.7332499999998,277.1222499999995,783.1857499999995,1198.2412499999996,491.8459999999995,470.45924999999954,997.2299999999996,756.9334999999995,198.9249999999995,256.0929999999995,165.2784999999995,168.6477499999995,488.7272499999995,649.7104999999996,514.3994999999995,772.9069999999996,2672.7327499999997,200.1509999999995,780.4267499999995,2095.3597499999996,1338.9999999999995,1588.1814999999997,1452.3477499999997,775.2899999999995,1288.0327499999996,1640.3889999999997,321.7807499999995,315.5057499999995,835.4754999999996,1112.9314999999997,299.7224999999995,639.1622499999995,1275.9597499999995,502.5617499999995,851.3044999999995,358.6977499999995,435.62224999999955,1492.6982499999997,491.60274999999956,394.5204999999995,1196.8727499999995,144.7577499999995,407.36799999999954,672.3077499999996,144.04224999999948,2251.1672499999995,1054.6012499999995,297.5669999999995,1047.3709999999996,1910.2574999999997,843.5844999999996,1097.5172499999996,1853.1694999999997,745.9894999999996,471.2879999999995,1240.3739999999996,2803.89425,787.7517499999996,252.5017499999995,306.3187499999995,714.3459999999995,307.8614999999995,248.5502499999995,795.6489999999995,2116.9559999999997,1023.9642499999995,1184.4534999999996,1831.5489999999998,1328.3202499999995,2377.218,2483.4842499999995,818.5982499999996,632.5132499999995,174.05574999999948,110.71499999999948,595.6694999999995,84.29374999999948,2840.582,621.0997499999995,1765.7852499999997,1094.7757499999996,502.2592499999995,550.7542499999995,2622.5035,297.1894999999995,1633.6237499999995,244.9124999999995,79.14074999999949,906.7029999999995,62.59749999999947,1381.1437499999995,2901.3075,2386.3639999999996,265.3304999999995,594.4642499999995,723.1702499999996,882.5142499999996,608.0222499999995,3234.9235,2224.86525,397.3334999999995,347.2899999999995,2214.4359999999997,1111.2017499999995,808.0029999999996,996.0274999999996,294.6749999999995,1120.3709999999996,2296.5004999999996,1034.1297499999996,1307.4042499999996,1768.8949999999998,286.6752499999995,2187.32725,1387.9622499999996,1183.3177499999995,1699.1859999999997,265.0964999999995,508.79074999999955,1109.7777499999995,586.3924999999996,488.2709999999995,868.1112499999996,979.1622499999995,2124.6769999999997,1319.8792499999997,1088.9719999999995,595.2824999999996,321.1949999999995,351.8522499999995,1471.1502499999997,233.4904999999995,2256.5815,311.6362499999995,1985.4147499999997,644.8299999999996,363.1499999999995,1508.9569999999997,1452.7097499999995,4240.041499999999,1046.1637499999995,661.1169999999995,1621.1147499999997,795.7897499999996,199.3457499999995,1926.8544999999997,1668.1639999999998,1249.0882499999996,541.2557499999996,968.0064999999996,426.01449999999954,798.6939999999995,850.8007499999995,1184.7239999999997,272.51974999999953,794.8972499999995,792.7687499999996,220.57149999999947,4677.036,876.5437499999996,638.5117499999996,1537.4897499999997,2998.2065,752.4842499999995,2112.6182499999995,3545.6814999999997,1093.5049999999997,600.6452499999996,991.5819999999995,351.5639999999995,272.5047499999995,1264.5432499999997,365.0719999999995,3376.9802499999996,1492.9169999999997,260.9542499999995,411.3817499999995,168.4584999999995,427.16349999999954,369.20249999999953,182.8664999999995,352.0129999999995,3595.95925,239.0379999999995,615.4504999999996,2027.5409999999997,2568.7115,303.0032499999995,1416.3459999999995,61.75324999999948,3452.40325,1074.9779999999996,676.5489999999995,401.02674999999954,619.6032499999995,152.8592499999995,834.9377499999996,452.2894999999995,332.8209999999995,1543.5622499999997,2599.7219999999998,1213.6102499999997,559.1492499999996,423.3212499999995,803.7679999999996,1800.8974999999996,1235.7772499999996,279.2334999999995,1321.6524999999997,484.04624999999953,3329.01675,1288.1762499999995,1594.6964999999996,1031.7122499999996,1934.3022499999997,608.1987499999996,450.3234999999995,556.4769999999995,520.6349999999995,632.7984999999995,813.1612499999995,1581.6359999999997,721.5977499999996,974.6864999999996,255.7142499999995,2255.3064999999997,665.2339999999996,656.6017499999996,3311.91025,1279.3737499999995,1682.8352499999996,504.21924999999953,728.1859999999996,373.6167499999995,1078.0579999999995,1172.6922499999996,2645.3099999999995,1361.0549999999996,1703.8299999999997,2465.1009999999997,4025.1322499999997,501.33824999999956,2457.4894999999997,280.5802499999995,1385.7044999999996,2781.36275,2870.42125,4052.3554999999997,1356.8109999999997,998.6379999999996,442.8282499999995,381.52699999999953,1546.8197499999997,567.3207499999995,568.5479999999995,1762.9124999999997,1473.3389999999997,1035.6242499999996,2516.27825,1646.6234999999997,238.4019999999995,478.52874999999955,3126.36275,742.8017499999995,1448.2417499999997,170.8749999999995,1166.4347499999997,2233.653,972.1457499999996,3903.95025,896.2709999999995,598.8307499999995,5090.336,894.9164999999996,667.7094999999996,1245.8249999999996,554.7059999999996,457.77124999999955,1483.8277499999997,651.3839999999996,251.9499999999995,1989.3417499999996,2063.0354999999995,1328.9489999999996,1898.4122499999996,825.8167499999995,638.6929999999995,283.4924999999995,347.3232499999995,2213.0487499999995,201.31999999999948,184.6074999999995,680.2987499999996,3743.00625,3104.8594999999996,2241.7279999999996,1791.9109999999996,407.15599999999955,2801.7234999999996,884.0137499999996,836.8877499999995,1146.6837499999997,847.2442499999995,1167.9564999999996,1321.0827499999996,2454.6135,968.0367499999995,901.4562499999996,2206.1645,516.2584999999996,112.09674999999949,1462.9832499999995,284.3877499999995,585.3122499999995,1141.4792499999996,1162.6507499999996,406.1752499999995,90.61024999999948,2239.5995,1093.5984999999996,1275.5692499999996,3406.5769999999998,353.2849999999995,1123.1967499999996,1427.5052499999997,2717.6265,3252.3869999999997,576.6059999999995,551.9847499999995,854.9952499999996,1671.2902499999996,630.0892499999995,1818.1494999999998,390.26499999999953,2282.70875,2867.4452499999998,2589.9602499999996,1558.0202499999996,2733.5119999999997,553.9524999999995,1140.0724999999995,821.2019999999995,593.7284999999995,446.01924999999954,3226.191,901.1847499999996,1993.6204999999998,1955.7622499999998,3361.6347499999997,1417.1907499999995,630.2874999999996,945.8609999999995,2078.16425,1012.5167499999995,484.5754999999995,551.9577499999996,842.5399999999996,2398.2887499999997,2749.7437499999996,3115.9314999999997,1244.2627499999996,1500.4104999999997,121.38699999999949,1225.1482499999995,983.2447499999996,597.6919999999996,3226.3509999999997,418.4939999999995,586.2947499999996,199.6442499999995,180.9542499999995,2195.7425,1615.0602499999995,1238.7134999999996,243.4469999999995,684.0472499999995,2069.5229999999997,625.0442499999996,540.7124999999995,853.7559999999995,891.5599999999996,924.4764999999995,2599.8622499999997,574.0289999999995,2605.2045,3499.997,702.7952499999996,2020.3839999999996,1299.5029999999997,990.1147499999996,1118.6744999999996,328.3432499999995,1471.4539999999997,1141.6929999999995,2655.9494999999997,1010.6972499999996,1633.8542499999996,778.5829999999996,621.1324999999996,499.20174999999955,482.3309999999995,527.1579999999996,613.6234999999996,828.0279999999996,478.7224999999995,608.5314999999995,711.0157499999996,820.5264999999996,347.8277499999995,1861.5409999999997,713.3549999999996,460.6309999999995,1138.2547499999996,2486.0767499999997,314.8747499999995,4406.228,2773.51275,2562.4062499999995,1906.1734999999996,1703.6352499999996,796.5377499999995,986.3492499999995,4724.043,931.8149999999996,1436.6604999999997,2365.1229999999996,508.3432499999995,768.9677499999996,1783.7247499999996,954.0152499999996,749.7322499999996,841.8302499999995,854.5699999999996,1144.7422499999996,4425.55225,3585.4035,1403.2332499999995,1142.4822499999996,5181.025,3212.5679999999998,981.6422499999995,1585.3854999999996,3525.3875,1874.4867499999996,2757.90825,1925.1864999999996,292.5112499999995,712.5534999999995,2183.932,688.7274999999995,228.5712499999995,2523.5967499999997,886.5367499999995,595.8747499999995,329.6649999999995,298.3547499999995,345.4002499999995,619.0597499999996,266.52449999999953,44.05474999999948,2739.7675,874.6754999999996,125.59024999999949,3370.3179999999998,407.9824999999995,458.62474999999955,1261.9074999999996,1600.1432499999996,796.1587499999996,382.2874999999995,427.48324999999954,308.0474999999995,1073.7162499999997,1129.2567499999996,2076.1294999999996,1607.0727499999996,408.2299999999995,946.7567499999996,1384.4294999999995,882.9232499999996,1063.1819999999996,491.9917499999995,1351.2907499999997,544.2304999999996,333.9417499999995,296.2764999999995,1041.5082499999996,451.2784999999995,491.32499999999953,2680.8594999999996,378.3592499999995,1353.8124999999995,1162.4117499999995,435.83399999999955,2021.3567499999997,472.02399999999955,1766.6864999999996,1415.2912499999995,1523.5762499999996,2222.4174999999996,879.6854999999996,2303.4419999999996,1815.2132499999996,1448.9134999999997,236.3372499999995,1481.5492499999996,3442.2887499999997,733.4259999999996,1153.5554999999995,433.8454999999995,1874.6374999999996,156.00524999999948,118.48499999999947,1295.5542499999997,1246.1944999999996,1059.4059999999995,807.3989999999995,1958.1549999999997,2045.0342499999997,912.4297499999996,1771.4932499999998,1562.3024999999996,593.9807499999996,3250.1949999999997,3315.6077499999997,1583.2562499999997,1148.4509999999996,2582.3557499999997,1544.8822499999997,160.3639999999995,334.0117499999995,143.4207499999995,792.5014999999995,481.63399999999956,1854.6557499999997,1697.5192499999996,1115.9497499999995,1301.0077499999995,1362.3334999999997,695.2172499999996,468.7002499999995,241.4127499999995,476.69424999999956,83.82224999999949,294.5059999999995,657.1422499999995,473.1822499999995,154.4069999999995,301.5877499999995,772.7174999999995,735.7554999999995,886.8012499999995,843.0927499999996,679.9252499999996,779.7427499999995,3000.7839999999997,1029.4919999999995,1256.7042499999995,1128.2037499999997,1214.9924999999996,202.99924999999948,211.3152499999995,594.6847499999996,116.0007499999995,1159.5639999999996,534.5602499999995,652.1984999999995,1039.3959999999995,722.7354999999995,494.8349999999995,1817.7884999999997,3161.2169999999996,4007.28975,3160.0699999999997,529.7762499999995,736.6489999999995,1332.7859999999996,317.66649999999953,1425.8619999999996,2861.8862499999996,3328.6702499999997,1301.7462499999997,986.8282499999996,2014.5969999999998,2494.9512499999996,881.5284999999996,1139.5314999999996,491.9517499999995,774.0437499999996,1898.2639999999997,1829.7269999999996,964.9002499999996,621.4224999999996,1053.0747499999995,826.6857499999995,2613.81875,367.3512499999995,1971.3077499999997,462.5467499999995,1280.6622499999996,733.9244999999995,448.4272499999995,252.67199999999949,95.57974999999949,2168.3879999999995,319.0209999999995,130.4519999999995,818.9399999999996,508.01199999999955,1458.6172499999996,3993.4044999999996,2302.07725,1464.8422499999997,1014.9577499999996,337.5067499999995,1935.8257499999997,5497.90475,440.7609999999995,372.4682499999995,444.6722499999995,387.37499999999955,515.7364999999995,1182.5269999999996,323.64474999999953,405.26649999999955,796.2914999999996,608.3222499999996,85.12174999999948,1167.8902499999997,322.0937499999995,1172.7499999999995,669.5687499999996,285.9732499999995,1082.8892499999995,853.3819999999996,164.7579999999995,1051.2592499999996,330.7184999999995,2272.3199999999997,1573.2067499999996,424.37274999999954,569.5254999999995,704.5384999999995,122.29674999999949,453.9337499999995,2357.2617499999997,478.2989999999995,606.4999999999995,190.0317499999995,2355.5177499999995,175.62299999999948,488.2174999999995,2689.0807499999996,1363.2342499999995,1071.9199999999996,447.0444999999995,888.7024999999995,688.4754999999996,788.0129999999996,1107.6477499999996,1202.5002499999996,2882.3597499999996,280.2919999999995,263.1352499999995,2388.04625,304.0649999999995,526.6684999999995,566.2567499999996,137.3814999999995,115.74099999999947,622.7964999999996,925.7257499999996,1806.9449999999997,953.9984999999996,991.2367499999996,1165.0509999999997,179.2747499999995,782.4502499999995,387.7014999999995,1180.1684999999995,2547.7752499999997,837.7959999999996,768.3114999999996,402.6532499999995,826.3709999999995,1259.0972499999996,495.32249999999954,2066.6155,514.3967499999995,3122.604,1157.5984999999996,973.7632499999996,280.58924999999954,287.2359999999995,289.3184999999995,944.9022499999995,2879.9462499999995,2470.2594999999997,983.1532499999996,1306.5054999999995,1506.2137499999997,2496.7219999999998,1710.6202499999997,2754.8487499999997,465.5064999999995,1682.8404999999996,221.2492499999995,839.4517499999996,144.71574999999947,1159.2959999999996,252.57449999999952,838.8192499999996,7575.47025,2494.50575,396.7992499999995,2460.7844999999998,1141.1107499999996,2894.2502499999996,531.6294999999996,1386.8407499999996,3348.9669999999996,638.2904999999995,1520.2887499999997,1732.9909999999998,270.2669999999995,578.0302499999996,903.7742499999996,405.3517499999995,1428.9047499999997,2723.1294999999996,1445.6474999999996,2380.5244999999995,644.2812499999995,2293.8894999999998,204.3302499999995,1728.7547499999996,1502.6472499999995,1945.6857499999996,1392.4249999999997,794.2124999999995,1156.9429999999995,2650.5272499999996,282.6554999999995,1035.2069999999997,1711.5657499999998,107.60999999999949,727.7672499999995,3640.17825,902.1914999999996,1352.1187499999996,1532.0712499999997,513.2447499999995,1496.3084999999996,527.9984999999996,91.83099999999948,84.81024999999948,190.8579999999995,2778.9447499999997,1598.0667499999997,1667.3729999999996,986.9692499999995,1746.8904999999997,2447.98775,664.3954999999995,741.3607499999996,593.2522499999995,1463.9167499999996,3226.60675,1279.1922499999996,741.9167499999995,1348.0377499999995,3952.8089999999997,623.9822499999996,617.4644999999996,849.2954999999996,607.1829999999995,2057.7257499999996,3612.2322499999996,428.14974999999953,2021.2519999999997,252.2779999999995,421.57949999999954,910.8849999999995,1262.8592499999995,983.0072499999995,262.8247499999995,930.8072499999996,341.5467499999995,826.1959999999996,843.7122499999996,431.1727499999995,654.4627499999996,1012.0154999999996,2400.4652499999997,1953.4704999999997,1836.7079999999996,250.4597499999995,648.2154999999996,2004.5034999999998,3018.4689999999996,2148.7839999999997,401.09899999999953,1107.6824999999997,1618.2454999999995,748.9464999999996,729.7217499999996,950.4992499999996,696.3687499999995,468.22849999999954,533.3522499999996,1882.1864999999996,1176.9579999999996,902.3814999999996,1102.3664999999996,3661.6769999999997,2911.8174999999997,2926.51725,852.0839999999996,297.3147499999995,1044.5354999999995,2808.2065,1215.1437499999995,1178.6504999999995,345.66124999999954,1762.0132499999997,975.3787499999996,228.9627499999995,413.5639999999995,871.1077499999996,155.6357499999995,497.3282499999995,462.24049999999954,581.5499999999995,2495.9015,2522.01275,1286.9692499999996,296.2774999999995,4322.635249999999,404.0662499999995,781.0332499999996,2432.4887499999995,1171.0677499999997,1163.3804999999995,309.4429999999995,1033.1152499999996,627.0389999999995,1175.0497499999997,1553.8472499999996,2099.0942499999996,758.9052499999996,573.0314999999996,635.7502499999996,2004.9302499999997,1596.3062499999996,445.15649999999954,1339.6464999999996,2448.4885,1190.1634999999997,856.2059999999996,1955.4862499999997,1506.2549999999997,716.5624999999995,399.1622499999995,1024.1319999999996,633.5807499999995,1329.9467499999996,826.8677499999995,2866.32525,1642.5034999999996,1413.9847499999996,1726.4387499999996,920.9114999999996,1138.9169999999997,1186.5394999999996,1546.7569999999996,875.6894999999996,391.7954999999995,1297.3999999999996,1111.3102499999995,844.8594999999996,2669.5557499999995,2866.89,191.9119999999995,2246.8419999999996,330.9537499999995,821.2484999999996,368.20249999999953,304.2679999999995,978.3879999999996,2298.9504999999995,2409.2212499999996,1505.0959999999995,809.6124999999996,639.5457499999995,242.61324999999948,395.5649999999995,2109.92575,527.6697499999996,456.87474999999955,1213.3517499999996,958.0129999999996,1972.8899999999996,860.1272499999995,3049.9815,381.9192499999995,187.4919999999995,3495.7844999999998,2225.8312499999997,209.1734999999995,196.2607499999995,201.4044999999995,673.0392499999996,710.6329999999996,603.9269999999996,356.6307499999995,688.2144999999996,206.6449999999995,473.0854999999995,929.3887499999996,486.5567499999995,1492.8472499999996,2498.0227499999996,776.9234999999995,839.5664999999996,205.1584999999995,764.7582499999995,2051.6364999999996,216.57624999999948,716.8644999999996,648.1819999999996,906.8119999999996,1529.2704999999996,290.3782499999995,929.6657499999995,134.49799999999948,137.78224999999946,614.2789999999995,2677.2212499999996,1422.8294999999996,626.3714999999995,298.4904999999995,4428.5822499999995,4650.53025,528.7994999999995,1092.0969999999995,253.03499999999948,111.90774999999948,1674.6544999999996,1046.0999999999997,1158.0744999999995,1352.9957499999996,2121.4689999999996,3290.995,430.7102499999995,1284.3999999999996,874.5862499999996,1006.2524999999996,864.5402499999996,543.5827499999996,758.9284999999995,1576.1194999999996,1176.4704999999997,3372.2684999999997,224.9644999999995,812.0282499999996,2436.2062499999997,1308.3802499999997,1703.3182499999996,1900.1832499999996,3387.1755,2065.9427499999997,793.3117499999996,127.5862499999995,1531.4132499999996,798.9887499999995,477.5857499999995,418.51224999999954,741.1889999999995,3745.9069999999997,148.2567499999995,1340.9697499999995,897.7384999999996,2080.0467499999995,1874.3522499999997,2212.0757499999995,803.5847499999995,697.2847499999996,1522.9182499999997,490.42799999999954,306.6324999999995,2328.4504999999995,446.20674999999954,393.3339999999995,1002.4334999999996,2174.4799999999996,1934.7252499999997,936.4167499999995,379.08449999999954,331.4137499999995,1675.4669999999996,163.36799999999948,586.8637499999995,1257.3039999999996,884.0287499999996,1851.0249999999996,2059.54825,286.8709999999995,2043.8179999999998,248.9232499999995,298.6269999999995,3221.06875,493.4939999999995,494.5969999999995,361.3029999999995,625.3627499999996,1274.3057499999995,927.5207499999996,1381.7262499999997,337.76474999999954,1736.3259999999996,1951.6254999999996,3344.85225,647.6584999999995,1358.1982499999997,2369.5064999999995,707.1474999999996,251.0822499999995,2542.25825,580.7604999999995,606.6832499999996,153.2199999999995,1066.5542499999997,2916.4995,869.3707499999996,3320.8079999999995,1314.0919999999996,1103.5814999999996,281.2987499999995,736.5049999999995,197.8314999999995,3508.55325,3228.0337499999996,2546.4419999999996,3199.55775,786.7084999999996,291.84224999999947,276.1489999999995,187.6532499999995,404.5669999999995,175.8382499999995,142.63474999999949,527.3359999999996,850.1147499999996,875.1969999999995,3188.5122499999998,2769.66475,670.9302499999995,366.30349999999953,431.99824999999953,2260.9112499999997,2874.6369999999997,3741.88825,2972.7794999999996,1231.9492499999997,268.1092499999995,682.0527499999996,874.3149999999996,678.3652499999996,1281.0374999999997,273.5019999999995,680.1549999999995,2721.9239999999995,436.2107499999995,791.6409999999995,3743.33925,777.7512499999996,365.3449999999995,479.7347499999995,2242.25825,1286.9384999999995,934.3042499999996,758.0257499999996,440.6139999999995,814.3027499999996,2493.9602499999996,526.1089999999996,2202.9629999999997,582.9004999999995,1237.9994999999997,949.5892499999995,458.8167499999995,577.5344999999995,682.4702499999995,2585.6207499999996,943.3429999999996,429.5569999999995,468.1947499999995,1153.2754999999995,313.25799999999947],\"xaxis\":\"x\",\"y\":[3.746863578217812,3.777869574302048,3.875453359501622,3.8222937293800987,3.7925362586085143,3.7234689828608385,3.731235231175902,3.6701842773230315,3.5540376928133632,3.853142758065522,3.7126693371406376,3.6276813059997686,3.644506022132967,3.7424915180525375,3.829050196125511,3.8514024814433663,3.8653315652766427,3.749101750627666,3.6155875415006093,3.6628968766218235,3.7770951865472395,3.7660340407649864,3.6148189266523874,3.673336617279768,3.8004036516635766,3.757911494962882,3.87816712092481,3.7931156148406915,3.6830792617017454,3.815685005933374,3.6103606125878,3.776231992747996,3.617254821071778,3.7959558673883445,3.69884714607654,3.7735625520125824,3.749308029589442,3.718285287744989,3.6830730463097527,3.8407182493845022,3.7325012891551737,3.8492285456179576,3.496730125296291,3.5921013932817654,3.5829623742289964,3.7304224496966443,3.959656085785548,3.640690439152596,3.6954460342255273,3.696407140086169,3.70566404992605,3.6146272259391083,3.6316119249702106,3.7003922640597713,3.645398841596224,3.7409755066315133,3.6612473639476875,3.808438277636375,3.6412326212647024,3.539668693685286,3.8699499656095178,3.7608050002302678,3.8470180500710613,3.794556256062882,3.6841050376969022,3.733486289905727,3.587061152090831,3.722454340554294,3.641601977150268,3.6166201405035197,3.5242185071697483,3.7843991529827576,3.733808066476038,3.654818586923996,3.793799500513302,3.9323487660438246,3.463936459395965,3.890850420136674,3.785692031150928,3.7367970024660635,3.631120239156976,3.7113146349038773,3.704039645538064,3.6096434434098326,3.7984700089251673,3.7270638774249294,3.820337137115528,3.831102357229161,3.701039134237574,3.8181788988686067,3.7021358457898534,3.6470288640160216,3.5714344003364755,3.7385909961399877,3.602376704618657,3.5758936178128957,3.6373161954366195,3.6496563172267606,3.699053404398943,3.7191398864083784,3.5619927014203867,3.5317576956940395,3.666409504246006,3.972064375026986,3.726834684098319,3.865729538835605,3.7237710938941397,3.5490269027183023,3.880597281210278,3.6429077996315256,3.675129989882125,3.6441823960776834,3.7123711831670434,3.5055029387511807,3.7339139844454774,3.8412202773775728,3.54331544662678,3.8610744047591536,3.8168553544503494,3.756645175735706,3.83819905609613,3.8138591681809464,3.897778363431816,3.691929175947041,3.8261246911923252,3.644873273193174,3.6187518684431734,3.75936926972581,3.834888267996146,3.843299289925503,3.6156919210014826,3.61615636855132,3.6765235341214457,3.6312601664505584,3.662435000502118,3.781781215676761,3.745795636082396,3.779894714666081,3.7229292784628436,3.774024103335931,3.7560072722689353,3.7187597060113227,3.7409161249654432,3.756980133640149,3.54303337813747,3.6166526671654022,3.8618960131527356,3.7532491089785673,3.8916863395400956,3.686516544186353,3.7771269742846645,3.7469441356992066,3.788311165792871,3.7809072085965525,3.8058545422015655,3.7571039871845864,3.70845180023186,3.745431006906724,3.6664235212408745,3.689963688995736,3.7912642988153964,3.7527755788387083,3.525631902085265,3.7667753832803177,3.801536718056529,4.050552456352433,3.7599067401634327,3.565497792476638,3.737236155507204,3.6768388627478026,3.671243701921388,3.7572374289643036,3.672358245357586,3.871942128930278,3.7341785230983593,3.6641955472150425,3.634454334123264,3.875921853254015,3.7777944931390834,3.6247764688285553,3.6336363050446296,3.7623247009903564,3.7349172666156374,3.560732853619462,3.779175031463619,3.793102338575813,3.6576955676227896,3.8470087752596998,3.729504956148495,3.816830541980049,3.755388729370987,3.708333553433488,3.5534468685046616,3.7367963793213352,3.7066725311707645,3.8114076751625907,3.762359713799441,3.5917085153543904,3.7641116426181016,3.7590067601978276,4.043436227482595,3.7194470235758943,3.8047971135893643,3.8107410239821853,3.8501385400038712,3.7981940961382623,3.7686112238858884,3.7521800350769996,3.6805664018806934,3.8592982224813976,3.7328468885504296,3.730136161971673,3.805506802093699,3.7381323228627994,3.694853439350778,3.781465198797017,3.851395726730597,3.623641400107071,3.6978148045817067,3.717199975894788,3.6595870298646034,3.5961095810585304,3.7008030950611257,3.71586647493947,3.671189534467712,3.701251586387934,3.838712494295784,3.7009492423562445,3.726317288859989,3.8198147070487916,3.746777829446774,3.5449694818949373,3.539925359341227,3.5853171074972146,3.756987532504687,3.7683287072968676,3.813879426780737,3.711754632921531,3.8471791233125123,3.6767805432428853,3.6833561632702527,3.60261329236528,3.5629803638770605,3.7528370070038246,3.6041401338107675,3.569356612541195,3.7166207887083456,3.6637783493600717,3.6255508820533207,3.532017755068697,3.6333527487683965,3.6428449334042643,3.708067058418727,3.9468870603532875,3.627023425148921,3.6400381386995195,3.7460790229017205,3.698031451348973,3.8587721397654033,3.6852295764870275,3.7331315342548517,3.709530668481106,3.6949493217063782,3.5936102627974953,3.6971769526230713,3.788922181498316,3.5582059388119145,3.5818980342012847,3.7722774241494914,3.861592554056859,3.8987424806793536,3.788787118520807,3.778118705934808,3.602760488863417,3.6684981427410435,3.6903634063403294,3.826399273693728,3.942247795953218,3.975004562658841,3.505719590833074,3.51584383000874,3.715684787976242,3.9873869473706702,3.9859685207218583,3.492146402035992,3.6728434842928994,3.6975301871846433,3.680526680138396,3.64655595231008,3.4988914139056355,3.7755816487418805,3.7021167812661644,3.7351285552141205,3.6876074276912303,3.704098378428205,3.6178229510674016,3.766440654202499,3.6370628811112455,3.7591857268769906,3.63015065211028,3.654310119384599,3.7707755054641967,3.7569196747680254,3.6119191982532866,3.691280202966276,3.7278347450675673,3.6483006982629034,3.682990646133855,3.907577519993879,3.9499504112451684,3.7171158276768863,3.7171355139597306,3.930383277838013,3.72251238320025,3.8936990289227196,3.883420183598609,3.840216296141754,3.8542310312472807,3.780868154053112,3.8045403339888195,3.658971237601869,3.7175865313552277,3.739415440344829,3.707298225075015,3.7794287706182415,3.753741157074651,3.816093034261815,3.786426807678157,3.7141887783546075,3.7402332216050533,3.6793992049322126,3.580126900194119,3.6862581972007815,3.54688780246542,3.8256164765992926,3.53532231701642,3.5297896687875947,3.711818741853512,3.713065672169524,3.7267422133310752,3.7990696779216835,3.727787436725904,3.7644778922606266,3.6803976905424234,3.485635018076713,3.6499096040080365,3.8356013961774504,3.7180537554718396,3.5803211621322224,3.7811538108421887,3.8236130211924375,3.7119239784052693,3.6292964279780615,3.7039317412350425,3.6997492651534203,3.8141295177855805,3.780354967651083,3.7453817970536574,3.5405890735441377,3.848954252771132,3.6439371548582566,3.7832294118077163,3.6939085851952562,3.6842849127976054,3.670877007793148,3.6993462290088,3.593246927940697,3.7663585965440394,3.626386878280386,3.6808807704367315,3.760206830943065,3.7654273269529366,3.874942160246346,3.7427276421243953,3.826635225116988,3.795772095969943,3.6546412338848793,3.764067212857128,3.831750995021124,3.740454775633309,3.862087952412956,3.6089616998715246,3.816337359426838,3.6597123866874286,3.6689638131093663,3.6743641938568157,3.7984186126233865,3.805482816418319,3.720010914718693,3.5618474576120414,3.6807503752869413,3.9340378545849495,3.7190062534726342,3.9295803628992636,3.707820200245344,3.7597874661311153,3.689678964220197,3.5673108119922974,3.8020277202006953,3.907697091764075,3.6260382531524415,3.803880066773675,3.5935199152642063,3.7774485770531747,3.8720806498054614,3.60207612171434,3.6948632010609743,3.733223743926808,3.865864606415573,3.6635947725883518,3.9166955578221705,3.76442679649284,3.5365055726196797,3.7440358595065866,3.779448951392554,3.705923186319997,3.81103998643058,3.6915821967125724,3.5166115997264003,3.495387796315608,3.7312639083842147,3.7096140755278393,3.650228000828786,3.7488264735581893,3.7915663569092044,3.85636967847792,3.7045353802336063,3.749964366724835,3.5663912260414237,3.6044747907947574,3.6588882956651343,3.819126587451275,3.7925487034823573,3.7232203424040087,3.6708153478624577,3.685648710113468,3.6952756197177976,3.678632569153775,3.93205210304485,3.918368338460688,3.649378781106696,3.6844267831534787,3.825620847026752,3.782218344063712,3.7495615143595886,3.678010277828247,3.702576292392789,3.7220394129826606,3.762916586871214,3.9837683946108395,3.6756284006432076,3.765941490887424,3.6008219271669373,3.666060734541616,3.65707566393844,3.394163162559871,3.6438118253529685,3.6374404671291654,3.6922037105986396,3.6726021995775198,3.750315931402767,3.538705070340569,3.621647393530281,3.7983778699598307,3.684259763147452,3.6637223961047534,3.6277706645619197,3.748093392633345,3.654957617052631,3.701279316789141,3.632666106415012,3.751390265312394,3.6444063629443746,3.837112208392488,3.703510008316133,3.678500410360526,3.5531678680611565,3.7659897367092565,3.727230461365425,3.6826991073396598,3.708688280842374,3.518730134272248,3.7897192528502566,3.6556499803716473,3.5973310460586045,3.614057480085726,3.7644130915584784,3.7230191508136743,3.6487519263048496,3.814010415298962,3.753910897614661,3.754617354492234,3.763577231081898,3.6517066137925274,3.861872864559552,3.673001402801184,3.781569578402678,3.6505909346805616,3.660653310708591,3.792574023977056,3.6358691902355753,3.7046006777862424,3.7486958861633255,3.627344189978494,3.7800912069034838,3.6944130349679223,3.876722870369105,3.6872850066000398,3.6301327730068773,3.6706481687421215,3.744742770922226,3.6462468283181386,3.847788186434016,3.6400649305816506,3.689659499264301,3.829571306996063,3.778585201857071,3.8133307524367273,3.7407788186362945,3.8279676392754562,3.576318077109205,3.500163232985121,3.917420920609423,3.756244781839051,3.709673773091141,3.8296921132932784,3.7100317516601815,3.6132569970544672,3.70216438646487,3.7056622001577164,3.7554797762098957,3.7374298460714512,3.6239283320713866,3.681177749850391,3.6602637286975654,3.65086083561333,3.8135690543941085,3.7416751404227666,3.777150345030939,3.800536022108774,3.868689398992543,3.589985992715516,3.838660452112455,3.8477387893726456,3.8207476769702353,3.734668268901883,3.668934112032543,3.7893978064671523,3.6146437303540306,3.7239926315130534,3.5981008207452394,3.70804451526757,3.591271832426007,3.645516842865743,3.743818932710546,3.952129000218605,3.9203396646550988,3.6444338223401713,3.944092581445985,3.6732051859068866,3.6758476315571817,3.8235967721082242,3.7805672717234136,3.7807806552737717,3.753813999223656,3.6978300957918564,3.7712612763838576,3.7135764827559354,3.7131480812976414,3.787669214642893,3.872227440808663,3.851910518739677,3.760074191313962,3.896030108297477,3.7599810047897613,3.7582959883331863,3.7315101498530963,3.885544925438858,3.6987880661599712,3.7967585125607783,3.7582428057878086,3.692563482228462,3.857648094287563,3.7482422373315667,3.6899031546639187,3.775639013655945,3.707163238016124,3.7308952992966393,3.79164539449873,3.7711783857188315,3.666334488825158,3.6618411662701025,3.7916091595423937,3.5402151002862627,3.7915481591654503,3.808913822178434,3.7594627988485856,3.733276966141124,3.8908528583608186,3.762211298102906,3.7888482281367555,3.8672411489636294,3.7702566189241282,3.7984800065867192,3.7987114320923125,3.754054746224323,3.680010566177667,3.8108726172947938,3.799607893709208,3.825971713767414,3.684000290543734,3.6663053614705268,3.8638578193953013,3.8253157384766467,3.850846860217276,3.693724000883412,3.821425399336855,3.910712955041274,3.7425371003409995,3.7392332994009143,3.814668302506701,3.645328999371176,3.709036529770266,3.842498184618922,3.805926785626188,3.512904211947934,3.6880098216843393,3.7170254356139685,3.9575553827216647,3.608996151486701,3.6713234816024594,3.539650694340848,3.8905851521224966,3.6693262172218604,3.6191205686852514,3.5654104173283847,3.68827191576526,3.6411455187967814,3.888428538243212,3.8357293631591665,3.8033023427348773,3.710666493459138,3.6740117855101175,3.7549557737408024,3.70515399143507,3.802128273555586,3.6351051941624375,3.7165561810014216,3.7472738228122884,3.8381191801419896,3.573263627743564,3.564474214869425,3.7689088074862536,3.7830545405595286,3.726224564280194,3.902805642277895,3.7377214828563043,3.635843357210181,3.767277126128079,3.6913308665120064,3.7288648330855634,3.7608948443086074,3.5741516868833596,3.5955645760442922,3.764789261817559,3.716193861823199,3.700469853585819,3.632821113684722,3.680967401145501,3.8834886180930743,3.75900228108528,3.618091358083631,3.7671454000683653,3.7311181364630697,3.7433149833117394,3.673284265768537,3.7948762655665327,3.7469759985448006,3.7579462391418472,3.718884643609861,3.7762973064999397,3.60894686101777,3.7668142265285405,3.859539574024539,3.825846661260746,3.9588134859842787,3.886587671089956,3.573661735735825,3.6056447568601873,3.611544451625497,3.67918214381217,3.614161587086987,3.837181804767842,3.7767637917852697,3.8240005445998437,3.6519263850735655,3.6870881691248796,3.745721665009186,3.598667979380172,3.5640567919628365,3.713943513100852,3.810600844728009,3.8422035389820492,3.799495990031093,3.7379194579958446,3.7333012822276848,3.67941913488122,3.867665524879002,3.743755108058368,3.7082285395035175,3.6117585382110162,3.687333753200427,3.7729291725534333,3.6365990098015026,3.6711202874302047,3.63789954545647,3.7792442712902345,3.697531746350383,3.840759003948385,3.7624423839478665,3.7613486622344228,3.646377659656288,3.6585327458271992,3.6046708105774923,3.558147884114595,3.7848223578851945,3.772591806146161,3.70190300546771,3.7269096868188396,3.622266435275268,3.7085629354341805,3.6228344824055463,3.7912650283587506,3.699430101840886,3.750034782699539,3.7296631918176955,3.7591187676386912,3.8167825094311003,3.580977246389147,3.9356787525125787,3.5139463237829145,3.8069540613693365,3.668625712772201,3.835067217100041,3.6836783755807474,3.598345157332709,3.751216726997708,3.7848407883312603,3.641834898430518,3.6940658884239586,3.5654032676875564,3.61445622527371,3.8456618388575414,3.7037421180152013,3.775349988394374,3.563924489225127,3.614411026075448,3.6201540915988586,3.7848443283421975,3.6446728683680125,3.68254058016426,3.5346575412936154,3.7589629381139025,3.7705946887483437,3.736103799427968,3.6708116576277043,3.678945134455395,3.801429565960227,3.935516495109241,3.6420188977297308,3.8131886797298526,3.8623771247674843,3.8053453404127047,3.782376377919054,3.901976810748193,3.77504024584618,3.724942893143944,3.657038846902126,3.7032891770129095,3.654905292897786,3.827100203939406,3.7310104405911386,3.7800451765753666,3.831624214196363,3.732833107958588,3.7857015266108984,3.6503765814651383,3.5853713624024546,3.560967499374994,3.8804517349887475,3.7491818443743097,3.700433569206373,3.703528755205636,3.7232629810367284,3.5524543491384595,3.6835934731032847,3.7553115794597405,3.6815844486793283,3.6975791530833613,3.680557612235526,3.8258497401987874,3.5716266630966125,3.53887445093322,3.6675681207221538,3.8596581165721244,3.61510574996931,3.740936195595938,3.9196307176952043,3.777326827256328,3.600896293162057,3.7499607064503566,3.7641766786513338,3.7510634396545632,3.6962540348492285,3.6949652165333546,3.629681214690672,3.7187107025735195,3.655822956267161,3.813220242668138,3.689224477002098,3.6841125488782502,3.696193423220107,3.650044646672586,3.5869793537589567,3.6882678543177176,3.7862447903281287,3.6713042312205686,3.854641692028347,3.7975103326556034,3.6785358007103026,3.7500889161936817,3.734251501491083,3.728156531993094,3.7087931945222294,3.7334104305670177,3.7338570142424574,3.7526767842701543,3.628911963280075,3.7802527462153583,3.6043375306527907,3.757648160006049,3.7536007799237545,3.6582233247465137,3.7271178219553915,3.811862466370581,3.896697322392359,3.6423214567292277,3.805556038211618,3.6974343170345887,3.676187108267756,3.700433152652283,3.6305622895209977,3.9007765455806878,3.7903748356598355,3.804722624826564,3.8153386371849525,3.6219428339434856,3.7396525562972887,3.7483940172657917,3.548115967003072,3.4324307209448,3.7753149707348506,3.9128080733027586,3.8896401565437033,4.034667838435743,3.7908843470310343,3.809322678515568,3.8013368254221023,3.8028867793712218,3.7054494524806687,3.667073311866112,3.655252812769612,3.7098001140677384,3.7985587451358933,3.876636269047502,3.7232044437121994,3.6910033915941987,3.7905166053395236,3.7430030700990997,3.5567253796003557,3.5139310391685368,3.676251103292956,3.6782303489906862,3.636334300876096,3.752302425344736,3.6287116989548034,3.4644963077102946,3.5544914269765,3.583376649167703,3.5145175018529775,3.602064801371427,3.783452838919577,3.820137045941588,3.873098524928876,3.6497255942213664,3.7649420662361304,3.7428417668750313,3.8270080826793107,3.7551335155961967,3.7746305971861105,3.6020372411559594,3.6637317672774774,3.5767166229818197,3.6884542220382177,3.749748770973916,3.814068608227707,3.88070943322163,3.793161165834738,3.721799550166871,3.6556901409407585,3.810731065043682,3.952147798424016,3.6929437799849407,3.6222938612543896,3.8899298442741372,3.7417394094952323,3.690802834188446,3.903920746321349,3.6815605387359644,3.7306004725779465,3.73890898863058,3.8852941931635314,3.940848492372671,3.749014312741622,3.71188499618488,3.8065471771865917,3.522507077913461,3.653377091145919,3.673654967662973,3.6359210731281792,3.809569343673699,3.614985199883973,3.7710191991474455,3.5418441393780538,3.8898704478907513,3.727982634680105,3.7869816600185313,3.778296278126953,3.707244456518829,3.7923923888854754,3.7315366907749943,3.4778380450104778,3.5975719011621883,3.634846998562189,3.568941518519026,3.753947781341069,3.8332120704213124,3.843633721654343,3.7949338986751457,3.6364179036465045,3.5942413091082552,3.8450001359656016,3.669609767187007,3.427840822925769,3.688504774576562,3.655809110245767,3.7348690900229164,3.7195502582629008,3.787107684787037,3.7244369903282415,3.752402822602287,3.7296251128987152,3.8193714884124548,3.724577660833377,3.6290623660917625,3.7240550682659506,3.776408470068595,3.7588784503254855,3.6666026639944582,3.7263156006990714,3.7130866981144193,3.7343244420690302,3.618683943245351,3.6789572369755437,3.749457563500683,3.794880482808656,3.71524311900012,3.531854410689927,3.529176601567211,3.6346833793279663,3.6477081809033693,3.724777342201432,3.709498574539922,3.748344808087042,3.709294405621058,3.762945726936608,3.562636805153319,3.4376969249317146,3.591312244369316,3.6687981464177866,3.591984488577828,3.8559457830523995,3.9169768457798044,3.60024437974787,3.756067758555729,3.762267315896918,3.696987516851087,3.6133715122217898,3.6006905481410167,3.6097343517978295,3.7803229010492627,3.948731966073786,3.9455839236786265,3.8883545133573105,3.5577230582583614,3.6580344923768937,3.831316429355185,3.785944359344622,3.5270653795956126,3.8054948799642387,3.7845392434738674,3.6184500097401235,3.777977568016237,3.8132829552113034,3.780569310462309,3.8074800594075735,3.7112751488826627,3.6029982598163866,3.637569642719474,3.5475599989578956,3.7855838054829722,3.5486624187908475,3.814136460526725,3.677365503260347,3.6489036242483475,3.6670596081946005,3.570479158847442,3.6378147490247037,3.776018269687229,3.7212049587147873,3.7650089676387175,3.806425655740426,3.768177749162232,3.6463743471700982,3.7747681024415773,3.6747374153913936,3.672811570012835,3.7579740904328474,3.778100759305785,3.7989375682896176,3.906714912339937,3.6941394171934854,3.723736259118727,3.6904559099069774,3.6736711720601187,3.6440771815343638,3.690661764379394,3.7990735632487267,3.6044554072308,3.6402218682538945,3.712521904678248,3.671949978874704,3.703333816826614,3.744929720153979,3.7018654429702673,3.657401808185737,3.837263067823195,3.654403737472056,3.6305437018945153,3.6788133038802817,3.6798216185220816,3.7762888893799413,3.718058976586529,3.7904876955114175,3.6554150874463955,3.7226631862931168,3.7084063300564862,3.8899003548173616,3.7084161308033488,3.7212185083825986,3.796618920494943,3.6739893181342924,3.753920258970878,3.706878583553588,3.6348446147522147,3.6876981532167474,3.6114930091374626,3.7611234099435347,3.6366001726069364,3.595954293824205,3.7694922897529937,3.608809942680242,3.613182584807786,3.564205483736149,3.579191461146329,3.781316288161587,3.569353988530483,3.642512627536876,3.6166061395777502,3.6793922369253043,3.719697283167951,3.697027141638418,3.6682277427211045,3.7121919175850833,3.819108446905867,3.5092428456644638,3.660033405272616,3.7764619472405334,3.6518985950090057,3.6870091513698733,3.666596653444771,4.054354997062432,3.776076734827529,3.7817328710286175,3.777513219117359,3.711668352734183,3.804675479254722,3.772022801173618,3.7337857094321096,3.872806615187296,3.89694344265156,3.7655771510559393,3.8356923403529835,3.7808505228447595,3.685612663446507,3.9199149303128715,3.859438565137224,3.803055277359382,3.699926821520126,3.769222950875938,3.735664671283428,3.7945246550539298,3.803990547148293,3.7698488850249796,3.783444208305715,3.6821390377056264,3.751783882448429,3.765871349151398],\"yaxis\":\"y\",\"type\":\"scattergl\"}],                        {\"template\":{\"data\":{\"histogram2dcontour\":[{\"type\":\"histogram2dcontour\",\"colorbar\":{\"outlinewidth\":0,\"ticks\":\"\"},\"colorscale\":[[0.0,\"#0d0887\"],[0.1111111111111111,\"#46039f\"],[0.2222222222222222,\"#7201a8\"],[0.3333333333333333,\"#9c179e\"],[0.4444444444444444,\"#bd3786\"],[0.5555555555555556,\"#d8576b\"],[0.6666666666666666,\"#ed7953\"],[0.7777777777777778,\"#fb9f3a\"],[0.8888888888888888,\"#fdca26\"],[1.0,\"#f0f921\"]]}],\"choropleth\":[{\"type\":\"choropleth\",\"colorbar\":{\"outlinewidth\":0,\"ticks\":\"\"}}],\"histogram2d\":[{\"type\":\"histogram2d\",\"colorbar\":{\"outlinewidth\":0,\"ticks\":\"\"},\"colorscale\":[[0.0,\"#0d0887\"],[0.1111111111111111,\"#46039f\"],[0.2222222222222222,\"#7201a8\"],[0.3333333333333333,\"#9c179e\"],[0.4444444444444444,\"#bd3786\"],[0.5555555555555556,\"#d8576b\"],[0.6666666666666666,\"#ed7953\"],[0.7777777777777778,\"#fb9f3a\"],[0.8888888888888888,\"#fdca26\"],[1.0,\"#f0f921\"]]}],\"heatmap\":[{\"type\":\"heatmap\",\"colorbar\":{\"outlinewidth\":0,\"ticks\":\"\"},\"colorscale\":[[0.0,\"#0d0887\"],[0.1111111111111111,\"#46039f\"],[0.2222222222222222,\"#7201a8\"],[0.3333333333333333,\"#9c179e\"],[0.4444444444444444,\"#bd3786\"],[0.5555555555555556,\"#d8576b\"],[0.6666666666666666,\"#ed7953\"],[0.7777777777777778,\"#fb9f3a\"],[0.8888888888888888,\"#fdca26\"],[1.0,\"#f0f921\"]]}],\"heatmapgl\":[{\"type\":\"heatmapgl\",\"colorbar\":{\"outlinewidth\":0,\"ticks\":\"\"},\"colorscale\":[[0.0,\"#0d0887\"],[0.1111111111111111,\"#46039f\"],[0.2222222222222222,\"#7201a8\"],[0.3333333333333333,\"#9c179e\"],[0.4444444444444444,\"#bd3786\"],[0.5555555555555556,\"#d8576b\"],[0.6666666666666666,\"#ed7953\"],[0.7777777777777778,\"#fb9f3a\"],[0.8888888888888888,\"#fdca26\"],[1.0,\"#f0f921\"]]}],\"contourcarpet\":[{\"type\":\"contourcarpet\",\"colorbar\":{\"outlinewidth\":0,\"ticks\":\"\"}}],\"contour\":[{\"type\":\"contour\",\"colorbar\":{\"outlinewidth\":0,\"ticks\":\"\"},\"colorscale\":[[0.0,\"#0d0887\"],[0.1111111111111111,\"#46039f\"],[0.2222222222222222,\"#7201a8\"],[0.3333333333333333,\"#9c179e\"],[0.4444444444444444,\"#bd3786\"],[0.5555555555555556,\"#d8576b\"],[0.6666666666666666,\"#ed7953\"],[0.7777777777777778,\"#fb9f3a\"],[0.8888888888888888,\"#fdca26\"],[1.0,\"#f0f921\"]]}],\"surface\":[{\"type\":\"surface\",\"colorbar\":{\"outlinewidth\":0,\"ticks\":\"\"},\"colorscale\":[[0.0,\"#0d0887\"],[0.1111111111111111,\"#46039f\"],[0.2222222222222222,\"#7201a8\"],[0.3333333333333333,\"#9c179e\"],[0.4444444444444444,\"#bd3786\"],[0.5555555555555556,\"#d8576b\"],[0.6666666666666666,\"#ed7953\"],[0.7777777777777778,\"#fb9f3a\"],[0.8888888888888888,\"#fdca26\"],[1.0,\"#f0f921\"]]}],\"mesh3d\":[{\"type\":\"mesh3d\",\"colorbar\":{\"outlinewidth\":0,\"ticks\":\"\"}}],\"scatter\":[{\"fillpattern\":{\"fillmode\":\"overlay\",\"size\":10,\"solidity\":0.2},\"type\":\"scatter\"}],\"parcoords\":[{\"type\":\"parcoords\",\"line\":{\"colorbar\":{\"outlinewidth\":0,\"ticks\":\"\"}}}],\"scatterpolargl\":[{\"type\":\"scatterpolargl\",\"marker\":{\"colorbar\":{\"outlinewidth\":0,\"ticks\":\"\"}}}],\"bar\":[{\"error_x\":{\"color\":\"#2a3f5f\"},\"error_y\":{\"color\":\"#2a3f5f\"},\"marker\":{\"line\":{\"color\":\"#E5ECF6\",\"width\":0.5},\"pattern\":{\"fillmode\":\"overlay\",\"size\":10,\"solidity\":0.2}},\"type\":\"bar\"}],\"scattergeo\":[{\"type\":\"scattergeo\",\"marker\":{\"colorbar\":{\"outlinewidth\":0,\"ticks\":\"\"}}}],\"scatterpolar\":[{\"type\":\"scatterpolar\",\"marker\":{\"colorbar\":{\"outlinewidth\":0,\"ticks\":\"\"}}}],\"histogram\":[{\"marker\":{\"pattern\":{\"fillmode\":\"overlay\",\"size\":10,\"solidity\":0.2}},\"type\":\"histogram\"}],\"scattergl\":[{\"type\":\"scattergl\",\"marker\":{\"colorbar\":{\"outlinewidth\":0,\"ticks\":\"\"}}}],\"scatter3d\":[{\"type\":\"scatter3d\",\"line\":{\"colorbar\":{\"outlinewidth\":0,\"ticks\":\"\"}},\"marker\":{\"colorbar\":{\"outlinewidth\":0,\"ticks\":\"\"}}}],\"scattermapbox\":[{\"type\":\"scattermapbox\",\"marker\":{\"colorbar\":{\"outlinewidth\":0,\"ticks\":\"\"}}}],\"scatterternary\":[{\"type\":\"scatterternary\",\"marker\":{\"colorbar\":{\"outlinewidth\":0,\"ticks\":\"\"}}}],\"scattercarpet\":[{\"type\":\"scattercarpet\",\"marker\":{\"colorbar\":{\"outlinewidth\":0,\"ticks\":\"\"}}}],\"carpet\":[{\"aaxis\":{\"endlinecolor\":\"#2a3f5f\",\"gridcolor\":\"white\",\"linecolor\":\"white\",\"minorgridcolor\":\"white\",\"startlinecolor\":\"#2a3f5f\"},\"baxis\":{\"endlinecolor\":\"#2a3f5f\",\"gridcolor\":\"white\",\"linecolor\":\"white\",\"minorgridcolor\":\"white\",\"startlinecolor\":\"#2a3f5f\"},\"type\":\"carpet\"}],\"table\":[{\"cells\":{\"fill\":{\"color\":\"#EBF0F8\"},\"line\":{\"color\":\"white\"}},\"header\":{\"fill\":{\"color\":\"#C8D4E3\"},\"line\":{\"color\":\"white\"}},\"type\":\"table\"}],\"barpolar\":[{\"marker\":{\"line\":{\"color\":\"#E5ECF6\",\"width\":0.5},\"pattern\":{\"fillmode\":\"overlay\",\"size\":10,\"solidity\":0.2}},\"type\":\"barpolar\"}],\"pie\":[{\"automargin\":true,\"type\":\"pie\"}]},\"layout\":{\"autotypenumbers\":\"strict\",\"colorway\":[\"#636efa\",\"#EF553B\",\"#00cc96\",\"#ab63fa\",\"#FFA15A\",\"#19d3f3\",\"#FF6692\",\"#B6E880\",\"#FF97FF\",\"#FECB52\"],\"font\":{\"color\":\"#2a3f5f\"},\"hovermode\":\"closest\",\"hoverlabel\":{\"align\":\"left\"},\"paper_bgcolor\":\"white\",\"plot_bgcolor\":\"#E5ECF6\",\"polar\":{\"bgcolor\":\"#E5ECF6\",\"angularaxis\":{\"gridcolor\":\"white\",\"linecolor\":\"white\",\"ticks\":\"\"},\"radialaxis\":{\"gridcolor\":\"white\",\"linecolor\":\"white\",\"ticks\":\"\"}},\"ternary\":{\"bgcolor\":\"#E5ECF6\",\"aaxis\":{\"gridcolor\":\"white\",\"linecolor\":\"white\",\"ticks\":\"\"},\"baxis\":{\"gridcolor\":\"white\",\"linecolor\":\"white\",\"ticks\":\"\"},\"caxis\":{\"gridcolor\":\"white\",\"linecolor\":\"white\",\"ticks\":\"\"}},\"coloraxis\":{\"colorbar\":{\"outlinewidth\":0,\"ticks\":\"\"}},\"colorscale\":{\"sequential\":[[0.0,\"#0d0887\"],[0.1111111111111111,\"#46039f\"],[0.2222222222222222,\"#7201a8\"],[0.3333333333333333,\"#9c179e\"],[0.4444444444444444,\"#bd3786\"],[0.5555555555555556,\"#d8576b\"],[0.6666666666666666,\"#ed7953\"],[0.7777777777777778,\"#fb9f3a\"],[0.8888888888888888,\"#fdca26\"],[1.0,\"#f0f921\"]],\"sequentialminus\":[[0.0,\"#0d0887\"],[0.1111111111111111,\"#46039f\"],[0.2222222222222222,\"#7201a8\"],[0.3333333333333333,\"#9c179e\"],[0.4444444444444444,\"#bd3786\"],[0.5555555555555556,\"#d8576b\"],[0.6666666666666666,\"#ed7953\"],[0.7777777777777778,\"#fb9f3a\"],[0.8888888888888888,\"#fdca26\"],[1.0,\"#f0f921\"]],\"diverging\":[[0,\"#8e0152\"],[0.1,\"#c51b7d\"],[0.2,\"#de77ae\"],[0.3,\"#f1b6da\"],[0.4,\"#fde0ef\"],[0.5,\"#f7f7f7\"],[0.6,\"#e6f5d0\"],[0.7,\"#b8e186\"],[0.8,\"#7fbc41\"],[0.9,\"#4d9221\"],[1,\"#276419\"]]},\"xaxis\":{\"gridcolor\":\"white\",\"linecolor\":\"white\",\"ticks\":\"\",\"title\":{\"standoff\":15},\"zerolinecolor\":\"white\",\"automargin\":true,\"zerolinewidth\":2},\"yaxis\":{\"gridcolor\":\"white\",\"linecolor\":\"white\",\"ticks\":\"\",\"title\":{\"standoff\":15},\"zerolinecolor\":\"white\",\"automargin\":true,\"zerolinewidth\":2},\"scene\":{\"xaxis\":{\"backgroundcolor\":\"#E5ECF6\",\"gridcolor\":\"white\",\"linecolor\":\"white\",\"showbackground\":true,\"ticks\":\"\",\"zerolinecolor\":\"white\",\"gridwidth\":2},\"yaxis\":{\"backgroundcolor\":\"#E5ECF6\",\"gridcolor\":\"white\",\"linecolor\":\"white\",\"showbackground\":true,\"ticks\":\"\",\"zerolinecolor\":\"white\",\"gridwidth\":2},\"zaxis\":{\"backgroundcolor\":\"#E5ECF6\",\"gridcolor\":\"white\",\"linecolor\":\"white\",\"showbackground\":true,\"ticks\":\"\",\"zerolinecolor\":\"white\",\"gridwidth\":2}},\"shapedefaults\":{\"line\":{\"color\":\"#2a3f5f\"}},\"annotationdefaults\":{\"arrowcolor\":\"#2a3f5f\",\"arrowhead\":0,\"arrowwidth\":1},\"geo\":{\"bgcolor\":\"white\",\"landcolor\":\"#E5ECF6\",\"subunitcolor\":\"white\",\"showland\":true,\"showlakes\":true,\"lakecolor\":\"white\"},\"title\":{\"x\":0.05},\"mapbox\":{\"style\":\"light\"}}},\"xaxis\":{\"anchor\":\"y\",\"domain\":[0.0,1.0],\"title\":{\"text\":\"Frequency of genome tag in all movies\"}},\"yaxis\":{\"anchor\":\"x\",\"domain\":[0.0,1.0],\"title\":{\"text\":\"Average Rating\"}},\"coloraxis\":{\"colorbar\":{\"title\":{\"text\":\"Average Rating\"}},\"colorscale\":[[0.0,\"rgb(0,0,131)\"],[0.2,\"rgb(0,60,170)\"],[0.4,\"rgb(5,255,255)\"],[0.6,\"rgb(255,255,0)\"],[0.8,\"rgb(250,0,0)\"],[1.0,\"rgb(128,0,0)\"]]},\"legend\":{\"tracegroupgap\":0,\"itemsizing\":\"constant\"},\"margin\":{\"t\":60},\"height\":500,\"width\":800},                        {\"responsive\": true}                    ).then(function(){\n",
       "                            \n",
       "var gd = document.getElementById('64841b8b-570f-4ef3-bbdc-4e341de08944');\n",
       "var x = new MutationObserver(function (mutations, observer) {{\n",
       "        var display = window.getComputedStyle(gd).display;\n",
       "        if (!display || display === 'none') {{\n",
       "            console.log([gd, 'removed!']);\n",
       "            Plotly.purge(gd);\n",
       "            observer.disconnect();\n",
       "        }}\n",
       "}});\n",
       "\n",
       "// Listen for the removal of the full notebook cells\n",
       "var notebookContainer = gd.closest('#notebook-container');\n",
       "if (notebookContainer) {{\n",
       "    x.observe(notebookContainer, {childList: true});\n",
       "}}\n",
       "\n",
       "// Listen for the clearing of the current output cell\n",
       "var outputEl = gd.closest('.output');\n",
       "if (outputEl) {{\n",
       "    x.observe(outputEl, {childList: true});\n",
       "}}\n",
       "\n",
       "                        })                };                });            </script>        </div>"
      ]
     },
     "metadata": {},
     "output_type": "display_data"
    },
    {
     "data": {
      "image/png": "[encoded data removed]",
      "text/plain": [
       "<Figure size 800x400 with 1 Axes>"
      ]
     },
     "metadata": {},
     "output_type": "display_data"
    },
    {
     "data": {
      "image/png": "[encoded data removed]",
      "text/plain": [
       "<Figure size 800x400 with 1 Axes>"
      ]
     },
     "metadata": {},
     "output_type": "display_data"
    }
   ],
   "source": [
    "#creating the figure \"Genome Tag average Rating\" graph\n",
    "fig = px.scatter(genome_rating, y = \"avg_rating\", x = \"relevance_sum\", size = \"relevance_sum\", color = \"avg_rating\", color_continuous_scale=px.colors.sequential.Jet,hover_data=[\"genome_tag\"], labels = {\"avg_rating\" : \"Average Rating\",\n",
    "                                                                                                                                                                                                          \"relevance_sum\" : \"Frequency of genome tag in all movies\"})\n",
    "fig.update_layout(height = 500, width=800)\n",
    "fig.show()\n",
    "def genome_graph(genome):\n",
    "    df = df_movie_genomescores.loc[df_movie_genomescores[\"genome_tag\"] == genome].sort_values([\"inv_relevance\"], ascending = False)\n",
    "    #df[\"quantile\"] = pd.qcut(df[\"inv_relevance\"], q=4, labels = [\"low\", \"medium\", \"high\", \"highest\"], duplicates = \"drop\")\n",
    "    return df\n",
    "cf = genome_graph(\"chick flick\")\n",
    "scifi = genome_graph(\"scifi\")\n",
    "og = genome_graph(\"original\")\n",
    "brute = genome_graph(\"brutality\")\n",
    "\n",
    "fig, ax = plt.subplots(figsize=(8,4))\n",
    "sns.kdeplot(cf[\"inv_relevance\"], label = \"chick flick\", fill = True, color = \"#bf7172\")\n",
    "sns.kdeplot(og[\"inv_relevance\"], label = \"original\", fill = True, color = \"#f6e24a\")\n",
    "sns.kdeplot(scifi[\"inv_relevance\"], label = \"scifi\", fill = True, color = \"#455eb4\")\n",
    "sns.kdeplot(brute[\"inv_relevance\"], label = \"brutality\", fill = True, color = \"#b1f991\")\n",
    "ax.set(xlabel = \"Relevance value\")\n",
    "plt.legend()\n",
    "plt.show()"
   ]
  },
  {
   "cell_type": "markdown",
   "id": "37c022a1-b1dc-4335-ac89-3173f572a6c8",
   "metadata": {},
   "source": [
    "The first graph shows the Average Rating for each genome tag. The average rating here is derived from a function of the relevance of each tag, with the average rating of each movie with genome ratings.\n",
    "A genome tag g (for example, the most common tag \"original\") is compared to all other tags in a movie. We get the sum of all \"relevance\" scores for each tag for the movie, then figure out what percentage of that sum the tag g represents. \n",
    "Then we devide up the average rating r of the Movie among all tags, including our tag g. \n",
    "If for example, g's relevance would make up 20% of the relevance of all genome tags in the movie, then it would \"receive\" 20% of the rating's score (in the case of a 5/5 rating, it would receive a value of 1, aka 20%).\n",
    "We then scale this value to account for how tags are more or less common and then derive the average rating from there.\n",
    "\n",
    "In the graph we can clearly see a trend, that is how the average rating evens out as the genome tag becomes more common (further right on the X-axis).\n",
    "This would be logical, as a higher sample of movies would lead to the average rating moving more towards the mean.\n",
    "We can see this clearly with the genome tags \"original\" (yellow, furthest extreme on the right of the X-axis). The distribution from graph #2 shows that this tag has a very high distribution on high relevance ratings.\n",
    "\n",
    "On the contrary, the outliers on the Y-axis chick flick (positive Y), and scifi (negative Y), seem to have a very high distribution of ratings in the 0.1 range. This seems to imply that a distribution on the lower end makes the average rating less stable.\n",
    "\n"
   ]
  },
  {
   "cell_type": "code",
   "execution_count": 8,
   "id": "71631f39-7bdb-432f-a1e4-894d84c45912",
   "metadata": {},
   "outputs": [
    {
     "data": {
      "image/png": "[encoded data removed]",
      "text/plain": [
       "<Figure size 640x480 with 1 Axes>"
      ]
     },
     "metadata": {},
     "output_type": "display_data"
    }
   ],
   "source": [
    "mentor = genome_graph(\"mentor\")\n",
    "ending = genome_graph(\"great ending\")\n",
    "dialogue = genome_graph(\"dialogue\")\n",
    "storytelling = genome_graph(\"storytelling\")\n",
    "\n",
    "sns.kdeplot(mentor[\"inv_relevance\"], label = \"mentor\", fill = True, color = \"#bf7172\")\n",
    "sns.kdeplot(ending[\"inv_relevance\"], label = \"ending\", fill = True, color = \"#f6e24a\")\n",
    "sns.kdeplot(dialogue[\"inv_relevance\"], label = \"dialogue\", fill = True, color = \"#455eb4\")\n",
    "sns.kdeplot(storytelling[\"inv_relevance\"], label = \"storytelling\", fill = True, color = \"#b1f991\")\n",
    "sns.kdeplot(og[\"inv_relevance\"], label = \"original\", fill = True, color = \"#f6e24a\")\n",
    "plt.legend()\n",
    "plt.show()"
   ]
  },
  {
   "cell_type": "code",
   "execution_count": null,
   "id": "fbfb2181-4212-4f15-a842-546379594ba8",
   "metadata": {},
   "outputs": [],
   "source": []
  }
 ],
 "metadata": {
  "kernelspec": {
   "display_name": "Python 3 (ipykernel)",
   "language": "python",
   "name": "python3"
  },
  "language_info": {
   "codemirror_mode": {
    "name": "ipython",
    "version": 3
   },
   "file_extension": ".py",
   "mimetype": "text/x-python",
   "name": "python",
   "nbconvert_exporter": "python",
   "pygments_lexer": "ipython3",
   "version": "3.9.7"
  }
 },
 "nbformat": 4,
 "nbformat_minor": 5
}
