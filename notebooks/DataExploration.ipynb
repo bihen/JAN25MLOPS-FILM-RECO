{
 "cells": [
  {
   "cell_type": "markdown",
   "id": "7dc920c6-8de1-4256-91f1-3af097a421bf",
   "metadata": {},
   "source": [
    "# Data Exploration"
   ]
  },
  {
   "cell_type": "code",
   "execution_count": 5,
   "id": "56eeb134-1350-46fa-8d05-eccd3da6d79e",
   "metadata": {},
   "outputs": [],
   "source": [
    "import pandas as pd\n",
    "import numpy as np"
   ]
  },
  {
   "cell_type": "code",
   "execution_count": 6,
   "id": "b036ce8e-a919-412c-a3fa-a1c464068f4a",
   "metadata": {},
   "outputs": [],
   "source": [
    "def show_na(df):\n",
    "    na_columns = df.isna().any(axis = 0)\n",
    "    na_rows = df.isna().any(axis = 1)\n",
    "    columns_nbna = df.isna().sum(axis = 0)\n",
    "    print(\"Empty columns\", na_columns.sum(), \"of \", len(df.columns), \"%:\", na_columns.sum()/len(df.columns), \"%\", \"\\n\", na_columns)\n",
    "    print(\"Empty rows\", na_rows.sum(), \"of\", len(df), \"%:\",  f\"{(na_rows.sum()/len(df)):.5f}\", \"%\")"
   ]
  },
  {
   "cell_type": "markdown",
   "id": "5211632c-ae08-46c0-9278-9adeb1bac05e",
   "metadata": {},
   "source": [
    "# ratings.csv"
   ]
  },
  {
   "cell_type": "code",
   "execution_count": 7,
   "id": "b51c33d4-c496-4589-a0eb-2d1d1fbfa223",
   "metadata": {},
   "outputs": [
    {
     "name": "stdout",
     "output_type": "stream",
     "text": [
      "<class 'pandas.core.frame.DataFrame'>\n",
      "RangeIndex: 20000263 entries, 0 to 20000262\n",
      "Data columns (total 4 columns):\n",
      " #   Column     Dtype  \n",
      "---  ------     -----  \n",
      " 0   userId     int64  \n",
      " 1   movieId    int64  \n",
      " 2   rating     float64\n",
      " 3   timestamp  int64  \n",
      "dtypes: float64(1), int64(3)\n",
      "memory usage: 610.4 MB\n"
     ]
    }
   ],
   "source": [
    "df_ratings = pd.read_csv(\"../data/ratings.csv\")\n",
    "df_ratings.info()"
   ]
  },
  {
   "cell_type": "code",
   "execution_count": 8,
   "id": "8f6a68a2-e2a9-4e7e-9de8-3335a3e1a2f3",
   "metadata": {},
   "outputs": [
    {
     "data": {
      "text/plain": [
       "count      20000263.00000\n",
       "mean     1100917921.67712\n",
       "std       162169424.78273\n",
       "min       789652004.00000\n",
       "25%       966797745.00000\n",
       "50%      1103555886.00000\n",
       "75%      1225642317.50000\n",
       "max      1427784002.00000\n",
       "Name: timestamp, dtype: object"
      ]
     },
     "execution_count": 8,
     "metadata": {},
     "output_type": "execute_result"
    }
   ],
   "source": [
    "df_ratings[\"timestamp\"].describe().apply(\"{0:.5f}\".format)"
   ]
  },
  {
   "cell_type": "code",
   "execution_count": 9,
   "id": "c3c2bf54-5c4c-424d-a419-66db6500b954",
   "metadata": {},
   "outputs": [
    {
     "data": {
      "text/plain": [
       "count    20000263.00000\n",
       "mean            3.52553\n",
       "std             1.05199\n",
       "min             0.50000\n",
       "25%             3.00000\n",
       "50%             3.50000\n",
       "75%             4.00000\n",
       "max             5.00000\n",
       "Name: rating, dtype: object"
      ]
     },
     "execution_count": 9,
     "metadata": {},
     "output_type": "execute_result"
    }
   ],
   "source": [
    "df_ratings[\"rating\"].describe().apply(\"{0:.5f}\".format)"
   ]
  },
  {
   "cell_type": "code",
   "execution_count": 10,
   "id": "bb89e22b-6f8c-4cd2-abbf-e395ef80d3fe",
   "metadata": {},
   "outputs": [
    {
     "name": "stdout",
     "output_type": "stream",
     "text": [
      "Empty columns 0 of  4 %: 0.0 % \n",
      " userId       False\n",
      "movieId      False\n",
      "rating       False\n",
      "timestamp    False\n",
      "dtype: bool\n",
      "Empty rows 0 of 20000263 %: 0.00000 %\n"
     ]
    }
   ],
   "source": [
    "show_na(df_ratings)"
   ]
  },
  {
   "cell_type": "markdown",
   "id": "4b76a7d4-c98c-4da5-81ee-c8dcb41e7204",
   "metadata": {},
   "source": [
    "# movies.csv"
   ]
  },
  {
   "cell_type": "code",
   "execution_count": 11,
   "id": "eea2e8f0-e47e-490f-aaab-382c22058342",
   "metadata": {},
   "outputs": [
    {
     "data": {
      "text/plain": [
       "array(['Adventure', 'Animation', 'Children', 'Comedy', 'Fantasy',\n",
       "       'Romance', 'Drama', 'Action', 'Crime', 'Thriller', 'Horror',\n",
       "       'Mystery', 'Sci-Fi', 'IMAX', 'Documentary', 'War', 'Musical',\n",
       "       'Western', 'Film-Noir', '(no genres listed)'], dtype=object)"
      ]
     },
     "execution_count": 11,
     "metadata": {},
     "output_type": "execute_result"
    }
   ],
   "source": [
    "df_movies = pd.read_csv(\"../data/movies.csv\")\n",
    "\n",
    "all_genres = df_movies[\"genres\"].str.split(\n",
    "    '|', expand=True).stack().reset_index(drop=True)\n",
    "\n",
    "all_genres.unique()"
   ]
  },
  {
   "cell_type": "code",
   "execution_count": 12,
   "id": "8a630ff6-0622-4983-b4d5-c01492401f10",
   "metadata": {},
   "outputs": [
    {
     "name": "stdout",
     "output_type": "stream",
     "text": [
      "<class 'pandas.core.frame.DataFrame'>\n",
      "RangeIndex: 27278 entries, 0 to 27277\n",
      "Data columns (total 3 columns):\n",
      " #   Column   Non-Null Count  Dtype \n",
      "---  ------   --------------  ----- \n",
      " 0   movieId  27278 non-null  int64 \n",
      " 1   title    27278 non-null  object\n",
      " 2   genres   27278 non-null  object\n",
      "dtypes: int64(1), object(2)\n",
      "memory usage: 639.5+ KB\n"
     ]
    }
   ],
   "source": [
    "df_movies.info()"
   ]
  },
  {
   "cell_type": "code",
   "execution_count": 13,
   "id": "68c8a983-78ba-4dc1-a28f-f967b3d771a6",
   "metadata": {},
   "outputs": [
    {
     "name": "stdout",
     "output_type": "stream",
     "text": [
      "Empty columns 0 of  3 %: 0.0 % \n",
      " movieId    False\n",
      "title      False\n",
      "genres     False\n",
      "dtype: bool\n",
      "Empty rows 0 of 27278 %: 0.00000 %\n"
     ]
    }
   ],
   "source": [
    "show_na(df_movies)"
   ]
  },
  {
   "cell_type": "markdown",
   "id": "802f0660-6df9-47f1-83a1-40d81b44b727",
   "metadata": {},
   "source": [
    "# tags.csv"
   ]
  },
  {
   "cell_type": "code",
   "execution_count": 14,
   "id": "72f2d5d9-b0db-4252-a69b-0199cb5e6fcf",
   "metadata": {},
   "outputs": [
    {
     "name": "stdout",
     "output_type": "stream",
     "text": [
      "<class 'pandas.core.frame.DataFrame'>\n",
      "RangeIndex: 465564 entries, 0 to 465563\n",
      "Data columns (total 4 columns):\n",
      " #   Column     Non-Null Count   Dtype \n",
      "---  ------     --------------   ----- \n",
      " 0   userId     465564 non-null  int64 \n",
      " 1   movieId    465564 non-null  int64 \n",
      " 2   tag        465548 non-null  object\n",
      " 3   timestamp  465564 non-null  int64 \n",
      "dtypes: int64(3), object(1)\n",
      "memory usage: 14.2+ MB\n"
     ]
    }
   ],
   "source": [
    "df_tags = pd.read_csv(\"../data/tags.csv\")\n",
    "df_tags.info()"
   ]
  },
  {
   "cell_type": "code",
   "execution_count": 15,
   "id": "3b789715-2b43-43a3-8813-bd63288944f4",
   "metadata": {},
   "outputs": [
    {
     "data": {
      "text/plain": [
       "38644"
      ]
     },
     "execution_count": 15,
     "metadata": {},
     "output_type": "execute_result"
    }
   ],
   "source": [
    "len(df_tags[\"tag\"].unique())"
   ]
  },
  {
   "cell_type": "code",
   "execution_count": 16,
   "id": "44eac2d3-751d-4f01-a0c4-88f1fd0c742f",
   "metadata": {},
   "outputs": [
    {
     "data": {
      "text/plain": [
       "count        465564.00000\n",
       "mean     1298711076.34286\n",
       "std        79208912.59511\n",
       "min      1135429210.00000\n",
       "25%      1245007262.50000\n",
       "50%      1302291181.00000\n",
       "75%      1366217861.25000\n",
       "max      1427771352.00000\n",
       "Name: timestamp, dtype: object"
      ]
     },
     "execution_count": 16,
     "metadata": {},
     "output_type": "execute_result"
    }
   ],
   "source": [
    "df_tags[\"timestamp\"].describe().apply(\"{0:.5f}\".format)"
   ]
  },
  {
   "cell_type": "code",
   "execution_count": 17,
   "id": "0beb1232-3f8f-417e-89c2-cae7be05503d",
   "metadata": {},
   "outputs": [
    {
     "name": "stdout",
     "output_type": "stream",
     "text": [
      "Empty columns 1 of  4 %: 0.25 % \n",
      " userId       False\n",
      "movieId      False\n",
      "tag           True\n",
      "timestamp    False\n",
      "dtype: bool\n",
      "Empty rows 16 of 465564 %: 0.00003 %\n"
     ]
    }
   ],
   "source": [
    "show_na(df_tags)"
   ]
  },
  {
   "cell_type": "markdown",
   "id": "a6caadec-b2a2-4ddc-8eca-2950f323396b",
   "metadata": {},
   "source": [
    "# links.csv"
   ]
  },
  {
   "cell_type": "code",
   "execution_count": 18,
   "id": "b9d45021-39f8-4f83-b660-54c6d119abc6",
   "metadata": {},
   "outputs": [],
   "source": [
    "df_links = pd.read_csv(\"../data/links.csv\")"
   ]
  },
  {
   "cell_type": "code",
   "execution_count": 19,
   "id": "59441b41-d408-41f4-8218-8faa241013c0",
   "metadata": {},
   "outputs": [
    {
     "name": "stdout",
     "output_type": "stream",
     "text": [
      "<class 'pandas.core.frame.DataFrame'>\n",
      "RangeIndex: 27278 entries, 0 to 27277\n",
      "Data columns (total 3 columns):\n",
      " #   Column   Non-Null Count  Dtype  \n",
      "---  ------   --------------  -----  \n",
      " 0   movieId  27278 non-null  int64  \n",
      " 1   imdbId   27278 non-null  int64  \n",
      " 2   tmdbId   27026 non-null  float64\n",
      "dtypes: float64(1), int64(2)\n",
      "memory usage: 639.5 KB\n"
     ]
    }
   ],
   "source": [
    "df_links.info()"
   ]
  },
  {
   "cell_type": "code",
   "execution_count": 20,
   "id": "3e55883b-97aa-4274-b5fa-977b26f221c3",
   "metadata": {},
   "outputs": [
    {
     "name": "stdout",
     "output_type": "stream",
     "text": [
      "Empty columns 1 of  3 %: 0.3333333333333333 % \n",
      " movieId    False\n",
      "imdbId     False\n",
      "tmdbId      True\n",
      "dtype: bool\n",
      "Empty rows 252 of 27278 %: 0.00924 %\n"
     ]
    }
   ],
   "source": [
    "show_na(df_links)"
   ]
  },
  {
   "cell_type": "markdown",
   "id": "0d8e9b26-c3d9-4c7f-bcb1-48512d0b9d14",
   "metadata": {},
   "source": [
    "# genome-tags.csv"
   ]
  },
  {
   "cell_type": "code",
   "execution_count": 21,
   "id": "6df7117e-729a-4aae-a52d-88fd3fbf1b23",
   "metadata": {},
   "outputs": [],
   "source": [
    "df_genometags = pd.read_csv(\"../data/genome-tags.csv\")"
   ]
  },
  {
   "cell_type": "code",
   "execution_count": 22,
   "id": "6ac1a370-f03f-41c8-a9e9-c36bfcb60847",
   "metadata": {},
   "outputs": [
    {
     "name": "stdout",
     "output_type": "stream",
     "text": [
      "<class 'pandas.core.frame.DataFrame'>\n",
      "RangeIndex: 1128 entries, 0 to 1127\n",
      "Data columns (total 2 columns):\n",
      " #   Column  Non-Null Count  Dtype \n",
      "---  ------  --------------  ----- \n",
      " 0   tagId   1128 non-null   int64 \n",
      " 1   tag     1128 non-null   object\n",
      "dtypes: int64(1), object(1)\n",
      "memory usage: 17.8+ KB\n"
     ]
    }
   ],
   "source": [
    "df_genometags.info()"
   ]
  },
  {
   "cell_type": "code",
   "execution_count": 23,
   "id": "aa255b7f-6d97-4a78-a919-d2da9643691c",
   "metadata": {},
   "outputs": [
    {
     "name": "stdout",
     "output_type": "stream",
     "text": [
      "Empty columns 0 of  2 %: 0.0 % \n",
      " tagId    False\n",
      "tag      False\n",
      "dtype: bool\n",
      "Empty rows 0 of 1128 %: 0.00000 %\n"
     ]
    }
   ],
   "source": [
    "show_na(df_genometags)"
   ]
  },
  {
   "cell_type": "markdown",
   "id": "249e8143-d28e-49a9-a835-c674877295b6",
   "metadata": {},
   "source": [
    "# genome-scores.csv"
   ]
  },
  {
   "cell_type": "code",
   "execution_count": 24,
   "id": "a5cec6fc-0720-42e7-9223-718baff3d60f",
   "metadata": {},
   "outputs": [
    {
     "name": "stdout",
     "output_type": "stream",
     "text": [
      "<class 'pandas.core.frame.DataFrame'>\n",
      "RangeIndex: 11709768 entries, 0 to 11709767\n",
      "Data columns (total 3 columns):\n",
      " #   Column     Dtype  \n",
      "---  ------     -----  \n",
      " 0   movieId    int64  \n",
      " 1   tagId      int64  \n",
      " 2   relevance  float64\n",
      "dtypes: float64(1), int64(2)\n",
      "memory usage: 268.0 MB\n"
     ]
    }
   ],
   "source": [
    "df_genome_scores = pd.read_csv(\"../data/genome-scores.csv\")\n",
    "df_genome_scores.info()"
   ]
  },
  {
   "cell_type": "code",
   "execution_count": 25,
   "id": "3538534e-1413-4954-8b8d-98107f33e0d7",
   "metadata": {},
   "outputs": [
    {
     "name": "stdout",
     "output_type": "stream",
     "text": [
      "Empty columns 0 of  3 %: 0.0 % \n",
      " movieId      False\n",
      "tagId        False\n",
      "relevance    False\n",
      "dtype: bool\n",
      "Empty rows 0 of 11709768 %: 0.00000 %\n"
     ]
    }
   ],
   "source": [
    "show_na(df_genome_scores)"
   ]
  },
  {
   "cell_type": "code",
   "execution_count": 26,
   "id": "65ef3f13-2dbc-401b-9e92-db8a1d443afa",
   "metadata": {},
   "outputs": [
    {
     "data": {
      "text/plain": [
       "count    11709768.00000\n",
       "mean            0.11648\n",
       "std             0.15425\n",
       "min             0.00025\n",
       "25%             0.02425\n",
       "50%             0.05650\n",
       "75%             0.14150\n",
       "max             1.00000\n",
       "Name: relevance, dtype: object"
      ]
     },
     "execution_count": 26,
     "metadata": {},
     "output_type": "execute_result"
    }
   ],
   "source": [
    "df_genome_scores[\"relevance\"].describe().apply(\"{0:.5f}\".format)"
   ]
  },
  {
   "cell_type": "code",
   "execution_count": null,
   "id": "dfa382ce-31f9-4093-8458-42e5014a27f9",
   "metadata": {},
   "outputs": [],
   "source": []
  }
 ],
 "metadata": {
  "kernelspec": {
   "display_name": "Python 3 (ipykernel)",
   "language": "python",
   "name": "python3"
  },
  "language_info": {
   "codemirror_mode": {
    "name": "ipython",
    "version": 3
   },
   "file_extension": ".py",
   "mimetype": "text/x-python",
   "name": "python",
   "nbconvert_exporter": "python",
   "pygments_lexer": "ipython3",
   "version": "3.9.20"
  }
 },
 "nbformat": 4,
 "nbformat_minor": 5
}
